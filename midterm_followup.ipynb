{
 "cells": [
  {
   "cell_type": "code",
   "execution_count": 89,
   "metadata": {},
   "outputs": [],
   "source": [
    "%matplotlib inline\n",
    "import pandas as pd\n",
    "import dask.dataframe as dd\n",
    "from dask_ml.preprocessing import DummyEncoder\n",
    "import numpy as np\n",
    "import altair as alt\n",
    "import seaborn as sns\n",
    "import math\n",
    "\n",
    "from mpl_toolkits.mplot3d import Axes3D\n",
    "from matplotlib import pyplot as plt\n",
    "\n",
    "from sklearn.preprocessing import LabelEncoder\n",
    "from sklearn.preprocessing import StandardScaler\n",
    "from sklearn.pipeline import Pipeline\n",
    "from sklearn.model_selection import train_test_split\n",
    "from sklearn.metrics import classification_report, confusion_matrix, accuracy_score, roc_auc_score\n",
    "from sklearn import metrics\n",
    "\n",
    "from sklearn.decomposition import PCA\n",
    "from sklearn.cluster import KMeans\n",
    "from sklearn.linear_model import LinearRegression\n",
    "from sklearn import svm\n",
    "from sklearn.neural_network import MLPClassifier\n",
    "from sklearn.model_selection import GridSearchCV\n",
    "from sklearn.ensemble import VotingClassifier\n",
    "\n",
    "import random\n",
    "\n",
    "plt.style.use('ggplot')"
   ]
  },
  {
   "cell_type": "markdown",
   "metadata": {},
   "source": [
    "# Midterm Follow-up"
   ]
  },
  {
   "cell_type": "markdown",
   "metadata": {},
   "source": [
    "### Starting from your mid-term project see if you can improve your recommendations by doing the following:\n",
    "\n",
    "- Do some exploratory data analysis on the incorrectly classified rows of data. What can you learn about this subset? How does it compare to the dataset as a whole or even look at how it compares to the set of correctly classified instances. Does this inspire any further preprocessing of the data or perhaps some additional variables that you could add? If so add them and investigate the results.\n",
    "- Use either the GridSearchCV or RandomizedSearchCV class to try to find the best values for the hyperparameters for one or more of your algorithms. You should use the sklearn documenation to select some hyper parameters as well as for the details of how to use the Grid or Randomized search models.\n",
    "- Finally, the ensemble learning idea could really help improve your results. That is use all three (or more) of your models and have them vote on the final classification. You can implement a simple Python class that provides a fit and predict method."
   ]
  },
  {
   "cell_type": "code",
   "execution_count": 90,
   "metadata": {},
   "outputs": [
    {
     "data": {
      "text/html": [
       "<div>\n",
       "<style scoped>\n",
       "    .dataframe tbody tr th:only-of-type {\n",
       "        vertical-align: middle;\n",
       "    }\n",
       "\n",
       "    .dataframe tbody tr th {\n",
       "        vertical-align: top;\n",
       "    }\n",
       "\n",
       "    .dataframe thead th {\n",
       "        text-align: right;\n",
       "    }\n",
       "</style>\n",
       "<table border=\"1\" class=\"dataframe\">\n",
       "  <thead>\n",
       "    <tr style=\"text-align: right;\">\n",
       "      <th></th>\n",
       "      <th>Dates</th>\n",
       "      <th>Category</th>\n",
       "      <th>Descript</th>\n",
       "      <th>DayOfWeek</th>\n",
       "      <th>PdDistrict</th>\n",
       "      <th>Resolution</th>\n",
       "      <th>Address</th>\n",
       "      <th>X</th>\n",
       "      <th>Y</th>\n",
       "    </tr>\n",
       "  </thead>\n",
       "  <tbody>\n",
       "    <tr>\n",
       "      <th>0</th>\n",
       "      <td>2015-05-13 23:53:00</td>\n",
       "      <td>WARRANTS</td>\n",
       "      <td>WARRANT ARREST</td>\n",
       "      <td>Wednesday</td>\n",
       "      <td>NORTHERN</td>\n",
       "      <td>ARREST, BOOKED</td>\n",
       "      <td>OAK ST / LAGUNA ST</td>\n",
       "      <td>-122.425892</td>\n",
       "      <td>37.774599</td>\n",
       "    </tr>\n",
       "    <tr>\n",
       "      <th>1</th>\n",
       "      <td>2015-05-13 23:53:00</td>\n",
       "      <td>OTHER OFFENSES</td>\n",
       "      <td>TRAFFIC VIOLATION ARREST</td>\n",
       "      <td>Wednesday</td>\n",
       "      <td>NORTHERN</td>\n",
       "      <td>ARREST, BOOKED</td>\n",
       "      <td>OAK ST / LAGUNA ST</td>\n",
       "      <td>-122.425892</td>\n",
       "      <td>37.774599</td>\n",
       "    </tr>\n",
       "    <tr>\n",
       "      <th>2</th>\n",
       "      <td>2015-05-13 23:33:00</td>\n",
       "      <td>OTHER OFFENSES</td>\n",
       "      <td>TRAFFIC VIOLATION ARREST</td>\n",
       "      <td>Wednesday</td>\n",
       "      <td>NORTHERN</td>\n",
       "      <td>ARREST, BOOKED</td>\n",
       "      <td>VANNESS AV / GREENWICH ST</td>\n",
       "      <td>-122.424363</td>\n",
       "      <td>37.800414</td>\n",
       "    </tr>\n",
       "    <tr>\n",
       "      <th>3</th>\n",
       "      <td>2015-05-13 23:30:00</td>\n",
       "      <td>LARCENY/THEFT</td>\n",
       "      <td>GRAND THEFT FROM LOCKED AUTO</td>\n",
       "      <td>Wednesday</td>\n",
       "      <td>NORTHERN</td>\n",
       "      <td>NONE</td>\n",
       "      <td>1500 Block of LOMBARD ST</td>\n",
       "      <td>-122.426995</td>\n",
       "      <td>37.800873</td>\n",
       "    </tr>\n",
       "    <tr>\n",
       "      <th>4</th>\n",
       "      <td>2015-05-13 23:30:00</td>\n",
       "      <td>LARCENY/THEFT</td>\n",
       "      <td>GRAND THEFT FROM LOCKED AUTO</td>\n",
       "      <td>Wednesday</td>\n",
       "      <td>PARK</td>\n",
       "      <td>NONE</td>\n",
       "      <td>100 Block of BRODERICK ST</td>\n",
       "      <td>-122.438738</td>\n",
       "      <td>37.771541</td>\n",
       "    </tr>\n",
       "  </tbody>\n",
       "</table>\n",
       "</div>"
      ],
      "text/plain": [
       "                Dates        Category                      Descript  \\\n",
       "0 2015-05-13 23:53:00        WARRANTS                WARRANT ARREST   \n",
       "1 2015-05-13 23:53:00  OTHER OFFENSES      TRAFFIC VIOLATION ARREST   \n",
       "2 2015-05-13 23:33:00  OTHER OFFENSES      TRAFFIC VIOLATION ARREST   \n",
       "3 2015-05-13 23:30:00   LARCENY/THEFT  GRAND THEFT FROM LOCKED AUTO   \n",
       "4 2015-05-13 23:30:00   LARCENY/THEFT  GRAND THEFT FROM LOCKED AUTO   \n",
       "\n",
       "   DayOfWeek PdDistrict      Resolution                    Address  \\\n",
       "0  Wednesday   NORTHERN  ARREST, BOOKED         OAK ST / LAGUNA ST   \n",
       "1  Wednesday   NORTHERN  ARREST, BOOKED         OAK ST / LAGUNA ST   \n",
       "2  Wednesday   NORTHERN  ARREST, BOOKED  VANNESS AV / GREENWICH ST   \n",
       "3  Wednesday   NORTHERN            NONE   1500 Block of LOMBARD ST   \n",
       "4  Wednesday       PARK            NONE  100 Block of BRODERICK ST   \n",
       "\n",
       "            X          Y  \n",
       "0 -122.425892  37.774599  \n",
       "1 -122.425892  37.774599  \n",
       "2 -122.424363  37.800414  \n",
       "3 -122.426995  37.800873  \n",
       "4 -122.438738  37.771541  "
      ]
     },
     "execution_count": 90,
     "metadata": {},
     "output_type": "execute_result"
    }
   ],
   "source": [
    "# 878049 rows x 9 columns\n",
    "data = pd.read_csv('crimetrain.csv', parse_dates=['Dates'])\n",
    "# train = pd.read_csv('crimetrain.csv')\n",
    "data.head()"
   ]
  },
  {
   "cell_type": "markdown",
   "metadata": {},
   "source": [
    "# Original Results"
   ]
  },
  {
   "cell_type": "code",
   "execution_count": 91,
   "metadata": {},
   "outputs": [
    {
     "data": {
      "text/html": [
       "<div>\n",
       "<style scoped>\n",
       "    .dataframe tbody tr th:only-of-type {\n",
       "        vertical-align: middle;\n",
       "    }\n",
       "\n",
       "    .dataframe tbody tr th {\n",
       "        vertical-align: top;\n",
       "    }\n",
       "\n",
       "    .dataframe thead th {\n",
       "        text-align: right;\n",
       "    }\n",
       "</style>\n",
       "<table border=\"1\" class=\"dataframe\">\n",
       "  <thead>\n",
       "    <tr style=\"text-align: right;\">\n",
       "      <th></th>\n",
       "      <th>Category</th>\n",
       "      <th>Descript</th>\n",
       "      <th>Dates</th>\n",
       "      <th>DayOfWeek</th>\n",
       "      <th>PdDistrict</th>\n",
       "      <th>Resolution</th>\n",
       "      <th>Address</th>\n",
       "      <th>X</th>\n",
       "      <th>Y</th>\n",
       "    </tr>\n",
       "  </thead>\n",
       "  <tbody>\n",
       "    <tr>\n",
       "      <th>0</th>\n",
       "      <td>WARRANTS</td>\n",
       "      <td>WARRANT ARREST</td>\n",
       "      <td>2015-05-13 23:53:00</td>\n",
       "      <td>Wednesday</td>\n",
       "      <td>NORTHERN</td>\n",
       "      <td>ARREST, BOOKED</td>\n",
       "      <td>OAK ST / LAGUNA ST</td>\n",
       "      <td>-122.425892</td>\n",
       "      <td>37.774599</td>\n",
       "    </tr>\n",
       "  </tbody>\n",
       "</table>\n",
       "</div>"
      ],
      "text/plain": [
       "   Category        Descript               Dates  DayOfWeek PdDistrict  \\\n",
       "0  WARRANTS  WARRANT ARREST 2015-05-13 23:53:00  Wednesday   NORTHERN   \n",
       "\n",
       "       Resolution             Address           X          Y  \n",
       "0  ARREST, BOOKED  OAK ST / LAGUNA ST -122.425892  37.774599  "
      ]
     },
     "execution_count": 91,
     "metadata": {},
     "output_type": "execute_result"
    }
   ],
   "source": [
    "datareorder = data[['Category', 'Descript', 'Dates', 'DayOfWeek', 'PdDistrict', 'Resolution', 'Address', 'X', 'Y']]\n",
    "datareorder.head(n=1)"
   ]
  },
  {
   "cell_type": "code",
   "execution_count": 166,
   "metadata": {},
   "outputs": [
    {
     "data": {
      "text/html": [
       "<div>\n",
       "<style scoped>\n",
       "    .dataframe tbody tr th:only-of-type {\n",
       "        vertical-align: middle;\n",
       "    }\n",
       "\n",
       "    .dataframe tbody tr th {\n",
       "        vertical-align: top;\n",
       "    }\n",
       "\n",
       "    .dataframe thead th {\n",
       "        text-align: right;\n",
       "    }\n",
       "</style>\n",
       "<table border=\"1\" class=\"dataframe\">\n",
       "  <thead>\n",
       "    <tr style=\"text-align: right;\">\n",
       "      <th></th>\n",
       "      <th>Category</th>\n",
       "      <th>Descript</th>\n",
       "      <th>Dates</th>\n",
       "      <th>DayOfWeek</th>\n",
       "      <th>PdDistrict</th>\n",
       "      <th>Resolution</th>\n",
       "      <th>Address</th>\n",
       "      <th>X</th>\n",
       "      <th>Y</th>\n",
       "    </tr>\n",
       "  </thead>\n",
       "  <tbody>\n",
       "    <tr>\n",
       "      <th>0</th>\n",
       "      <td>37</td>\n",
       "      <td>866</td>\n",
       "      <td>389256</td>\n",
       "      <td>6</td>\n",
       "      <td>4</td>\n",
       "      <td>0</td>\n",
       "      <td>19790</td>\n",
       "      <td>18787</td>\n",
       "      <td>23130</td>\n",
       "    </tr>\n",
       "    <tr>\n",
       "      <th>1</th>\n",
       "      <td>21</td>\n",
       "      <td>810</td>\n",
       "      <td>389256</td>\n",
       "      <td>6</td>\n",
       "      <td>4</td>\n",
       "      <td>0</td>\n",
       "      <td>19790</td>\n",
       "      <td>18787</td>\n",
       "      <td>23130</td>\n",
       "    </tr>\n",
       "    <tr>\n",
       "      <th>2</th>\n",
       "      <td>21</td>\n",
       "      <td>810</td>\n",
       "      <td>389255</td>\n",
       "      <td>6</td>\n",
       "      <td>4</td>\n",
       "      <td>0</td>\n",
       "      <td>22697</td>\n",
       "      <td>19317</td>\n",
       "      <td>32784</td>\n",
       "    </tr>\n",
       "    <tr>\n",
       "      <th>3</th>\n",
       "      <td>16</td>\n",
       "      <td>404</td>\n",
       "      <td>389254</td>\n",
       "      <td>6</td>\n",
       "      <td>4</td>\n",
       "      <td>11</td>\n",
       "      <td>4266</td>\n",
       "      <td>18403</td>\n",
       "      <td>32936</td>\n",
       "    </tr>\n",
       "    <tr>\n",
       "      <th>4</th>\n",
       "      <td>16</td>\n",
       "      <td>404</td>\n",
       "      <td>389254</td>\n",
       "      <td>6</td>\n",
       "      <td>5</td>\n",
       "      <td>11</td>\n",
       "      <td>1843</td>\n",
       "      <td>13848</td>\n",
       "      <td>21892</td>\n",
       "    </tr>\n",
       "  </tbody>\n",
       "</table>\n",
       "</div>"
      ],
      "text/plain": [
       "   Category  Descript   Dates  DayOfWeek  PdDistrict  Resolution  Address  \\\n",
       "0        37       866  389256          6           4           0    19790   \n",
       "1        21       810  389256          6           4           0    19790   \n",
       "2        21       810  389255          6           4           0    22697   \n",
       "3        16       404  389254          6           4          11     4266   \n",
       "4        16       404  389254          6           5          11     1843   \n",
       "\n",
       "       X      Y  \n",
       "0  18787  23130  \n",
       "1  18787  23130  \n",
       "2  19317  32784  \n",
       "3  18403  32936  \n",
       "4  13848  21892  "
      ]
     },
     "execution_count": 166,
     "metadata": {},
     "output_type": "execute_result"
    }
   ],
   "source": [
    "labelencoder = LabelEncoder()\n",
    "for col in datareorder.columns:\n",
    "    datareorder[col] = labelencoder.fit_transform(datareorder[col])\n",
    "# datareorder[datareorder.Category == 20]\n",
    "datareorder.head()"
   ]
  },
  {
   "cell_type": "code",
   "execution_count": 93,
   "metadata": {},
   "outputs": [],
   "source": [
    "from sklearn.naive_bayes import GaussianNB\n",
    "model_naive = GaussianNB()\n",
    "\n",
    "from sklearn.tree import DecisionTreeClassifier\n",
    "model_tree = DecisionTreeClassifier() # max_features=\"auto\"\n",
    "\n",
    "from sklearn.ensemble import RandomForestClassifier\n",
    "model_forest = RandomForestClassifier() # max_features=\"auto\""
   ]
  },
  {
   "cell_type": "code",
   "execution_count": 94,
   "metadata": {},
   "outputs": [],
   "source": [
    "X = datareorder.iloc[:, 1:] \n",
    "y = datareorder.iloc[:, 0]"
   ]
  },
  {
   "cell_type": "code",
   "execution_count": 95,
   "metadata": {},
   "outputs": [],
   "source": [
    "X_train, X_test, y_train, y_test = train_test_split(X, y, test_size=0.2)"
   ]
  },
  {
   "cell_type": "code",
   "execution_count": 96,
   "metadata": {},
   "outputs": [],
   "source": [
    "# GuassianNb\n",
    "model_naive.fit(X_train, y_train)\n",
    "nb_pred = model_naive.predict(X_test)\n",
    "\n",
    "# Decision Tree\n",
    "model_tree.fit(X_train, y_train)\n",
    "tree_pred = model_tree.predict(X_test)\n",
    "\n",
    "# Random Forest\n",
    "model_forest.fit(X_train, y_train)\n",
    "forest_pred = model_forest.predict(X_test)"
   ]
  },
  {
   "cell_type": "markdown",
   "metadata": {},
   "source": [
    "### Accuracy Scores"
   ]
  },
  {
   "cell_type": "code",
   "execution_count": 97,
   "metadata": {},
   "outputs": [
    {
     "name": "stdout",
     "output_type": "stream",
     "text": [
      "ACCURACY SCORES\n",
      "\n",
      "GuassianNb: 0.43801605831103013\n",
      "Decision Tree: 0.9993622231080235\n",
      "Random Forest: 0.8871248789932237\n"
     ]
    }
   ],
   "source": [
    "print(\"ACCURACY SCORES\")\n",
    "print()\n",
    "pred_names = [\"GuassianNb\", \"Decision Tree\", \"Random Forest\"]\n",
    "predictions = [nb_pred, tree_pred, forest_pred]\n",
    "for i in range(0, 3):\n",
    "    print(pred_names[i] + \": \" + str(accuracy_score(y_test, predictions[i])))"
   ]
  },
  {
   "cell_type": "code",
   "execution_count": 98,
   "metadata": {},
   "outputs": [
    {
     "data": {
      "text/plain": [
       "175610"
      ]
     },
     "execution_count": 98,
     "metadata": {},
     "output_type": "execute_result"
    }
   ],
   "source": [
    "len(forest_pred)"
   ]
  },
  {
   "cell_type": "markdown",
   "metadata": {},
   "source": [
    "### Confusion Matrices"
   ]
  },
  {
   "cell_type": "code",
   "execution_count": 99,
   "metadata": {},
   "outputs": [
    {
     "name": "stdout",
     "output_type": "stream",
     "text": [
      "CONFUSSION MATRICES\n",
      "\n",
      "GuassianNb:\n",
      "[[    0   124     0 ...     0     0     0]\n",
      " [    0  2138     0 ...  2432   307     0]\n",
      " [    0     1     0 ...     0     0     0]\n",
      " ...\n",
      " [    0     6     0 ... 10143    62     0]\n",
      " [    0     6     0 ...   247  2841     0]\n",
      " [    0    75     0 ...    24    13     0]]\n",
      "\n",
      "Decision Tree:\n",
      "[[  282     0     0 ...     0     0     0]\n",
      " [    0 15353     0 ...     0     0     2]\n",
      " [    0     0    71 ...     0     0     0]\n",
      " ...\n",
      " [    0     0     0 ... 10914     0     0]\n",
      " [    0     0     0 ...     0  8445     0]\n",
      " [    0     1     0 ...     0     0  1651]]\n",
      "\n",
      "Random Forest:\n",
      "[[  111    84     0 ...     0     0     0]\n",
      " [   32 14068     4 ...    51    17    23]\n",
      " [    0     3    10 ...     0     0     0]\n",
      " ...\n",
      " [    5   111     0 ... 10423     0     2]\n",
      " [    1    31     0 ...     6  8000     5]\n",
      " [    1    93     0 ...     4    34   786]]\n",
      "\n"
     ]
    }
   ],
   "source": [
    "print(\"CONFUSSION MATRICES\")\n",
    "print()\n",
    "pred_names = [\"GuassianNb\", \"Decision Tree\", \"Random Forest\"]\n",
    "predictions = [nb_pred, tree_pred, forest_pred]\n",
    "for i in range(0, 3):\n",
    "    print(pred_names[i] + \":\") \n",
    "    print(str(confusion_matrix(y_test, predictions[i])))\n",
    "    print()"
   ]
  },
  {
   "cell_type": "markdown",
   "metadata": {},
   "source": [
    "### Classification Reports"
   ]
  },
  {
   "cell_type": "code",
   "execution_count": 100,
   "metadata": {},
   "outputs": [
    {
     "name": "stdout",
     "output_type": "stream",
     "text": [
      "CLASSIFICATION REPORTS\n",
      "\n",
      "GuassianNb:\n",
      "                             precision    recall  f1-score   support\n",
      "\n",
      "                      ARSON       0.00      0.00      0.00       282\n",
      "                    ASSAULT       0.48      0.14      0.22     15395\n",
      "                 BAD CHECKS       0.00      0.00      0.00        71\n",
      "                    BRIBERY       0.00      0.00      0.00        62\n",
      "                   BURGLARY       0.48      0.94      0.63      7412\n",
      "         DISORDERLY CONDUCT       0.00      0.00      0.00       867\n",
      "DRIVING UNDER THE INFLUENCE       0.07      0.92      0.13       439\n",
      "              DRUG/NARCOTIC       0.49      0.71      0.58     10836\n",
      "                DRUNKENNESS       0.83      0.90      0.87       834\n",
      "               EMBEZZLEMENT       1.00      0.04      0.08       214\n",
      "                  EXTORTION       0.00      0.00      0.00        43\n",
      "            FAMILY OFFENSES       0.00      0.00      0.00       101\n",
      "     FORGERY/COUNTERFEITING       0.00      0.00      0.00      2059\n",
      "                      FRAUD       0.00      0.00      0.00      3385\n",
      "                   GAMBLING       0.00      0.00      0.00        27\n",
      "                 KIDNAPPING       0.00      0.00      0.00       465\n",
      "              LARCENY/THEFT       0.52      0.83      0.64     35024\n",
      "                LIQUOR LAWS       0.00      0.00      0.00       357\n",
      "                  LOITERING       0.00      0.00      0.00       249\n",
      "             MISSING PERSON       0.10      0.06      0.07      5239\n",
      "               NON-CRIMINAL       0.46      0.37      0.41     18337\n",
      "             OTHER OFFENSES       0.28      0.24      0.26     25290\n",
      "    PORNOGRAPHY/OBSCENE MAT       0.00      0.00      0.00         4\n",
      "               PROSTITUTION       0.50      0.41      0.45      1508\n",
      "          RECOVERED VEHICLE       0.67      0.04      0.08       601\n",
      "                    ROBBERY       0.00      0.00      0.00      4523\n",
      "                    RUNAWAY       0.61      0.75      0.67       378\n",
      "            SECONDARY CODES       0.00      0.00      0.00      1935\n",
      "      SEX OFFENSES FORCIBLE       0.00      0.00      0.00       911\n",
      "  SEX OFFENSES NON FORCIBLE       0.00      0.00      0.00        31\n",
      "            STOLEN PROPERTY       0.00      0.00      0.00       915\n",
      "                    SUICIDE       0.00      0.00      0.00       108\n",
      "             SUSPICIOUS OCC       0.06      0.01      0.02      6234\n",
      "                       TREA       0.00      0.00      0.00         1\n",
      "                   TRESPASS       0.50      0.00      0.00      1498\n",
      "                  VANDALISM       0.42      0.32      0.36      8954\n",
      "              VEHICLE THEFT       0.44      0.93      0.60     10916\n",
      "                   WARRANTS       0.51      0.34      0.40      8448\n",
      "                WEAPON LAWS       0.00      0.00      0.00      1657\n",
      "\n",
      "                avg / total       0.38      0.44      0.38    175610\n",
      "\n",
      "\n",
      "Decision Tree:\n"
     ]
    },
    {
     "name": "stderr",
     "output_type": "stream",
     "text": [
      "/usr/local/lib/python3.5/site-packages/sklearn/metrics/classification.py:1135: UndefinedMetricWarning: Precision and F-score are ill-defined and being set to 0.0 in labels with no predicted samples.\n",
      "  'precision', 'predicted', average, warn_for)\n"
     ]
    },
    {
     "name": "stdout",
     "output_type": "stream",
     "text": [
      "                             precision    recall  f1-score   support\n",
      "\n",
      "                      ARSON       1.00      1.00      1.00       282\n",
      "                    ASSAULT       1.00      1.00      1.00     15395\n",
      "                 BAD CHECKS       1.00      1.00      1.00        71\n",
      "                    BRIBERY       0.98      1.00      0.99        62\n",
      "                   BURGLARY       1.00      1.00      1.00      7412\n",
      "         DISORDERLY CONDUCT       1.00      1.00      1.00       867\n",
      "DRIVING UNDER THE INFLUENCE       1.00      1.00      1.00       439\n",
      "              DRUG/NARCOTIC       1.00      1.00      1.00     10836\n",
      "                DRUNKENNESS       1.00      1.00      1.00       834\n",
      "               EMBEZZLEMENT       1.00      1.00      1.00       214\n",
      "                  EXTORTION       1.00      1.00      1.00        43\n",
      "            FAMILY OFFENSES       0.98      1.00      0.99       101\n",
      "     FORGERY/COUNTERFEITING       1.00      1.00      1.00      2059\n",
      "                      FRAUD       1.00      1.00      1.00      3385\n",
      "                   GAMBLING       1.00      1.00      1.00        27\n",
      "                 KIDNAPPING       0.93      0.95      0.94       465\n",
      "              LARCENY/THEFT       1.00      1.00      1.00     35024\n",
      "                LIQUOR LAWS       0.99      0.99      0.99       357\n",
      "                  LOITERING       0.99      0.98      0.99       249\n",
      "             MISSING PERSON       1.00      1.00      1.00      5239\n",
      "               NON-CRIMINAL       1.00      1.00      1.00     18337\n",
      "             OTHER OFFENSES       1.00      1.00      1.00     25290\n",
      "    PORNOGRAPHY/OBSCENE MAT       1.00      1.00      1.00         4\n",
      "               PROSTITUTION       1.00      1.00      1.00      1508\n",
      "          RECOVERED VEHICLE       1.00      1.00      1.00       601\n",
      "                    ROBBERY       1.00      1.00      1.00      4523\n",
      "                    RUNAWAY       1.00      1.00      1.00       378\n",
      "            SECONDARY CODES       1.00      1.00      1.00      1935\n",
      "      SEX OFFENSES FORCIBLE       1.00      1.00      1.00       911\n",
      "  SEX OFFENSES NON FORCIBLE       1.00      1.00      1.00        31\n",
      "            STOLEN PROPERTY       1.00      1.00      1.00       915\n",
      "                    SUICIDE       1.00      1.00      1.00       108\n",
      "             SUSPICIOUS OCC       1.00      1.00      1.00      6234\n",
      "                       TREA       1.00      1.00      1.00         1\n",
      "                   TRESPASS       1.00      1.00      1.00      1498\n",
      "                  VANDALISM       1.00      1.00      1.00      8954\n",
      "              VEHICLE THEFT       1.00      1.00      1.00     10916\n",
      "                   WARRANTS       1.00      1.00      1.00      8448\n",
      "                WEAPON LAWS       1.00      1.00      1.00      1657\n",
      "\n",
      "                avg / total       1.00      1.00      1.00    175610\n",
      "\n",
      "\n",
      "Random Forest:\n",
      "                             precision    recall  f1-score   support\n",
      "\n",
      "                      ARSON       0.53      0.39      0.45       282\n",
      "                    ASSAULT       0.83      0.91      0.87     15395\n",
      "                 BAD CHECKS       0.32      0.14      0.20        71\n",
      "                    BRIBERY       0.29      0.11      0.16        62\n",
      "                   BURGLARY       0.97      0.99      0.98      7412\n",
      "         DISORDERLY CONDUCT       0.63      0.54      0.58       867\n",
      "DRIVING UNDER THE INFLUENCE       0.76      0.64      0.70       439\n",
      "              DRUG/NARCOTIC       0.90      0.94      0.92     10836\n",
      "                DRUNKENNESS       0.68      0.62      0.65       834\n",
      "               EMBEZZLEMENT       0.29      0.19      0.23       214\n",
      "                  EXTORTION       0.00      0.00      0.00        43\n",
      "            FAMILY OFFENSES       0.47      0.18      0.26       101\n",
      "     FORGERY/COUNTERFEITING       0.66      0.69      0.68      2059\n",
      "                      FRAUD       0.69      0.69      0.69      3385\n",
      "                   GAMBLING       0.14      0.04      0.06        27\n",
      "                 KIDNAPPING       0.19      0.09      0.12       465\n",
      "              LARCENY/THEFT       0.95      0.97      0.96     35024\n",
      "                LIQUOR LAWS       0.59      0.39      0.47       357\n",
      "                  LOITERING       0.78      0.59      0.67       249\n",
      "             MISSING PERSON       0.92      0.87      0.89      5239\n",
      "               NON-CRIMINAL       0.88      0.91      0.89     18337\n",
      "             OTHER OFFENSES       0.83      0.86      0.85     25290\n",
      "    PORNOGRAPHY/OBSCENE MAT       0.00      0.00      0.00         4\n",
      "               PROSTITUTION       0.93      0.88      0.90      1508\n",
      "          RECOVERED VEHICLE       0.84      0.74      0.78       601\n",
      "                    ROBBERY       0.87      0.83      0.85      4523\n",
      "                    RUNAWAY       0.93      0.85      0.89       378\n",
      "            SECONDARY CODES       0.66      0.50      0.57      1935\n",
      "      SEX OFFENSES FORCIBLE       0.53      0.20      0.29       911\n",
      "  SEX OFFENSES NON FORCIBLE       0.00      0.00      0.00        31\n",
      "            STOLEN PROPERTY       0.66      0.44      0.53       915\n",
      "                    SUICIDE       0.93      0.26      0.41       108\n",
      "             SUSPICIOUS OCC       0.92      0.91      0.92      6234\n",
      "                       TREA       0.00      0.00      0.00         1\n",
      "                   TRESPASS       0.85      0.69      0.76      1498\n",
      "                  VANDALISM       0.95      0.92      0.93      8954\n",
      "              VEHICLE THEFT       0.96      0.95      0.96     10916\n",
      "                   WARRANTS       0.96      0.95      0.95      8448\n",
      "                WEAPON LAWS       0.76      0.47      0.58      1657\n",
      "\n",
      "                avg / total       0.88      0.89      0.88    175610\n",
      "\n",
      "\n"
     ]
    }
   ],
   "source": [
    "print(\"CLASSIFICATION REPORTS\")\n",
    "print()\n",
    "\n",
    "pred_names = [\"GuassianNb\", \"Decision Tree\", \"Random Forest\"]\n",
    "predictions = [nb_pred, tree_pred, forest_pred]\n",
    "sorted_names = sorted(data['Category'].unique())\n",
    "\n",
    "for i in range(0, 3):\n",
    "    print(pred_names[i] + \":\") \n",
    "    print(str(classification_report(y_test, predictions[i], target_names=sorted_names)))\n",
    "    print()"
   ]
  },
  {
   "cell_type": "markdown",
   "metadata": {},
   "source": [
    "After multiple runs of splitting the data into a training and test set and looking at the classification reports, it appears that TREA and PORNOGRAPHY/OBSCENE MAT were never classified correctly by any of the classifiers. This is most likely because there are only 6 TREA and 22 PORNOGRAPHY/OBSCENE MAT entires in the data set--not a whole of of information to train from to begin with."
   ]
  },
  {
   "cell_type": "code",
   "execution_count": 101,
   "metadata": {},
   "outputs": [
    {
     "data": {
      "text/plain": [
       "1508"
      ]
     },
     "execution_count": 101,
     "metadata": {},
     "output_type": "execute_result"
    }
   ],
   "source": [
    "list(y_test).count(23)"
   ]
  },
  {
   "cell_type": "markdown",
   "metadata": {},
   "source": [
    "# Follow-up Part 1: Data analysis of incorrectly classified rows of data\n",
    "1.) Do some exploratory data analysis on the incorrectly classified rows of data. What can you learn about this subset? How does it compare to the dataset as a whole or even look at how it compares to the set of correctly classified instances. Does this inspire any further preprocessing of the data or perhaps some additional variables that you could add? If so add them and investigate the results."
   ]
  },
  {
   "cell_type": "markdown",
   "metadata": {},
   "source": [
    "## GuassianNb\n",
    "- 98,691 crime categories predicted incorrectly (only 76,919 correctly! yikes)\n",
    "- With a count of 8250, the most misclassified category was NON-CRIMINAL where the GuassianNb predicted it to be LARCENY/THEFT instead\n",
    "- Second behind NON-CRIMINAL with a count of 5240 was OTHER OFFENSES where it was misclassificed as DRIVING UNDER THE INFLUENCE\n",
    "- Third at 5230 was VANDALISM which was also misclassified as LARENCY/THEFT"
   ]
  },
  {
   "cell_type": "code",
   "execution_count": 102,
   "metadata": {},
   "outputs": [
    {
     "data": {
      "text/plain": [
       "1498"
      ]
     },
     "execution_count": 102,
     "metadata": {},
     "output_type": "execute_result"
    }
   ],
   "source": [
    "list(y_test.values).count(34)"
   ]
  },
  {
   "cell_type": "markdown",
   "metadata": {},
   "source": [
    "#### key"
   ]
  },
  {
   "cell_type": "code",
   "execution_count": 103,
   "metadata": {},
   "outputs": [
    {
     "data": {
      "text/html": [
       "<div>\n",
       "<style scoped>\n",
       "    .dataframe tbody tr th:only-of-type {\n",
       "        vertical-align: middle;\n",
       "    }\n",
       "\n",
       "    .dataframe tbody tr th {\n",
       "        vertical-align: top;\n",
       "    }\n",
       "\n",
       "    .dataframe thead th {\n",
       "        text-align: right;\n",
       "    }\n",
       "</style>\n",
       "<table border=\"1\" class=\"dataframe\">\n",
       "  <thead>\n",
       "    <tr style=\"text-align: right;\">\n",
       "      <th></th>\n",
       "      <th>category</th>\n",
       "      <th>labelencoded</th>\n",
       "    </tr>\n",
       "  </thead>\n",
       "  <tbody>\n",
       "    <tr>\n",
       "      <th>0</th>\n",
       "      <td>WARRANTS</td>\n",
       "      <td>37</td>\n",
       "    </tr>\n",
       "  </tbody>\n",
       "</table>\n",
       "</div>"
      ],
      "text/plain": [
       "   category  labelencoded\n",
       "0  WARRANTS            37"
      ]
     },
     "execution_count": 103,
     "metadata": {},
     "output_type": "execute_result"
    }
   ],
   "source": [
    "key = pd.DataFrame({'category': list(data.Category), 'labelencoded': list(datareorder.Category)})\n",
    "key[key.category == 'WARRANTS'].head(n=1) # change == value to find what category matched the label"
   ]
  },
  {
   "cell_type": "code",
   "execution_count": 104,
   "metadata": {},
   "outputs": [
    {
     "data": {
      "text/html": [
       "<div>\n",
       "<style scoped>\n",
       "    .dataframe tbody tr th:only-of-type {\n",
       "        vertical-align: middle;\n",
       "    }\n",
       "\n",
       "    .dataframe tbody tr th {\n",
       "        vertical-align: top;\n",
       "    }\n",
       "\n",
       "    .dataframe thead th {\n",
       "        text-align: right;\n",
       "    }\n",
       "</style>\n",
       "<table border=\"1\" class=\"dataframe\">\n",
       "  <thead>\n",
       "    <tr style=\"text-align: right;\">\n",
       "      <th></th>\n",
       "      <th>actual</th>\n",
       "      <th>predicted</th>\n",
       "      <th>count</th>\n",
       "    </tr>\n",
       "  </thead>\n",
       "  <tbody>\n",
       "    <tr>\n",
       "      <th>142</th>\n",
       "      <td>20</td>\n",
       "      <td>16</td>\n",
       "      <td>8250</td>\n",
       "    </tr>\n",
       "    <tr>\n",
       "      <th>252</th>\n",
       "      <td>35</td>\n",
       "      <td>16</td>\n",
       "      <td>5256</td>\n",
       "    </tr>\n",
       "    <tr>\n",
       "      <th>153</th>\n",
       "      <td>21</td>\n",
       "      <td>6</td>\n",
       "      <td>5066</td>\n",
       "    </tr>\n",
       "    <tr>\n",
       "      <th>271</th>\n",
       "      <td>37</td>\n",
       "      <td>21</td>\n",
       "      <td>4968</td>\n",
       "    </tr>\n",
       "    <tr>\n",
       "      <th>4</th>\n",
       "      <td>1</td>\n",
       "      <td>4</td>\n",
       "      <td>4883</td>\n",
       "    </tr>\n",
       "    <tr>\n",
       "      <th>240</th>\n",
       "      <td>32</td>\n",
       "      <td>36</td>\n",
       "      <td>4787</td>\n",
       "    </tr>\n",
       "    <tr>\n",
       "      <th>154</th>\n",
       "      <td>21</td>\n",
       "      <td>7</td>\n",
       "      <td>4348</td>\n",
       "    </tr>\n",
       "    <tr>\n",
       "      <th>156</th>\n",
       "      <td>21</td>\n",
       "      <td>16</td>\n",
       "      <td>4173</td>\n",
       "    </tr>\n",
       "    <tr>\n",
       "      <th>135</th>\n",
       "      <td>19</td>\n",
       "      <td>16</td>\n",
       "      <td>3224</td>\n",
       "    </tr>\n",
       "    <tr>\n",
       "      <th>9</th>\n",
       "      <td>1</td>\n",
       "      <td>20</td>\n",
       "      <td>3008</td>\n",
       "    </tr>\n",
       "  </tbody>\n",
       "</table>\n",
       "</div>"
      ],
      "text/plain": [
       "     actual  predicted  count\n",
       "142      20         16   8250\n",
       "252      35         16   5256\n",
       "153      21          6   5066\n",
       "271      37         21   4968\n",
       "4         1          4   4883\n",
       "240      32         36   4787\n",
       "154      21          7   4348\n",
       "156      21         16   4173\n",
       "135      19         16   3224\n",
       "9         1         20   3008"
      ]
     },
     "execution_count": 104,
     "metadata": {},
     "output_type": "execute_result"
    }
   ],
   "source": [
    "nb = pd.DataFrame({'actual': y_test, 'predicted': nb_pred, 'random': np.random.rand(175610)}) # need random as a place \n",
    "                                                                                              # holder for groupby later\n",
    "nb = nb[nb.actual != nb.predicted]\n",
    "nb = nb.groupby(['actual', 'predicted']).count().reset_index().rename(columns={'random': 'count'}).sort_values(by='count', ascending=False)\n",
    "nb.head(n=10)"
   ]
  },
  {
   "cell_type": "markdown",
   "metadata": {},
   "source": [
    "### Top 5 misclassified categories for GuassianNB"
   ]
  },
  {
   "cell_type": "code",
   "execution_count": 105,
   "metadata": {},
   "outputs": [
    {
     "data": {
      "text/html": [
       "<div>\n",
       "<style scoped>\n",
       "    .dataframe tbody tr th:only-of-type {\n",
       "        vertical-align: middle;\n",
       "    }\n",
       "\n",
       "    .dataframe tbody tr th {\n",
       "        vertical-align: top;\n",
       "    }\n",
       "\n",
       "    .dataframe thead th {\n",
       "        text-align: right;\n",
       "    }\n",
       "</style>\n",
       "<table border=\"1\" class=\"dataframe\">\n",
       "  <thead>\n",
       "    <tr style=\"text-align: right;\">\n",
       "      <th></th>\n",
       "      <th>actual_nb</th>\n",
       "      <th>predicted_nb</th>\n",
       "      <th>count_nb</th>\n",
       "    </tr>\n",
       "  </thead>\n",
       "  <tbody>\n",
       "    <tr>\n",
       "      <th>0</th>\n",
       "      <td>NON-CRIMINAL</td>\n",
       "      <td>LARENCY/THEFT</td>\n",
       "      <td>8250</td>\n",
       "    </tr>\n",
       "    <tr>\n",
       "      <th>1</th>\n",
       "      <td>OTHER OFFENSES</td>\n",
       "      <td>NON-CRIMINAL</td>\n",
       "      <td>5240</td>\n",
       "    </tr>\n",
       "    <tr>\n",
       "      <th>2</th>\n",
       "      <td>VANDALISM</td>\n",
       "      <td>LARENCY/THEFT</td>\n",
       "      <td>5230</td>\n",
       "    </tr>\n",
       "    <tr>\n",
       "      <th>3</th>\n",
       "      <td>ASSAULT</td>\n",
       "      <td>BURGLARY</td>\n",
       "      <td>5101</td>\n",
       "    </tr>\n",
       "    <tr>\n",
       "      <th>4</th>\n",
       "      <td>WARRANTS</td>\n",
       "      <td>OTHER OFFENSES</td>\n",
       "      <td>4936</td>\n",
       "    </tr>\n",
       "  </tbody>\n",
       "</table>\n",
       "</div>"
      ],
      "text/plain": [
       "        actual_nb    predicted_nb  count_nb\n",
       "0    NON-CRIMINAL   LARENCY/THEFT      8250\n",
       "1  OTHER OFFENSES    NON-CRIMINAL      5240\n",
       "2       VANDALISM   LARENCY/THEFT      5230\n",
       "3         ASSAULT        BURGLARY      5101\n",
       "4        WARRANTS  OTHER OFFENSES      4936"
      ]
     },
     "execution_count": 105,
     "metadata": {},
     "output_type": "execute_result"
    }
   ],
   "source": [
    "nb_results = pd.DataFrame({'actual_nb': ['NON-CRIMINAL', 'OTHER OFFENSES', 'VANDALISM', 'ASSAULT', 'WARRANTS'], 'predicted_nb': ['LARENCY/THEFT', 'NON-CRIMINAL', 'LARENCY/THEFT', 'BURGLARY', 'OTHER OFFENSES'], 'count_nb': [8250, 5240, 5230, 5101, 4936]})\n",
    "nb_results = nb_results[['actual_nb', 'predicted_nb', 'count_nb']]\n",
    "nb_results"
   ]
  },
  {
   "cell_type": "markdown",
   "metadata": {},
   "source": [
    "## Decision Tree\n",
    "- 23,531 out of 175,610  cases misclassified"
   ]
  },
  {
   "cell_type": "code",
   "execution_count": 106,
   "metadata": {},
   "outputs": [
    {
     "data": {
      "text/html": [
       "<div>\n",
       "<style scoped>\n",
       "    .dataframe tbody tr th:only-of-type {\n",
       "        vertical-align: middle;\n",
       "    }\n",
       "\n",
       "    .dataframe tbody tr th {\n",
       "        vertical-align: top;\n",
       "    }\n",
       "\n",
       "    .dataframe thead th {\n",
       "        text-align: right;\n",
       "    }\n",
       "</style>\n",
       "<table border=\"1\" class=\"dataframe\">\n",
       "  <thead>\n",
       "    <tr style=\"text-align: right;\">\n",
       "      <th></th>\n",
       "      <th>actual</th>\n",
       "      <th>predicted</th>\n",
       "      <th>count</th>\n",
       "    </tr>\n",
       "  </thead>\n",
       "  <tbody>\n",
       "    <tr>\n",
       "      <th>0</th>\n",
       "      <td>1</td>\n",
       "      <td>15</td>\n",
       "      <td>36</td>\n",
       "    </tr>\n",
       "    <tr>\n",
       "      <th>7</th>\n",
       "      <td>15</td>\n",
       "      <td>1</td>\n",
       "      <td>21</td>\n",
       "    </tr>\n",
       "    <tr>\n",
       "      <th>1</th>\n",
       "      <td>1</td>\n",
       "      <td>27</td>\n",
       "      <td>4</td>\n",
       "    </tr>\n",
       "    <tr>\n",
       "      <th>26</th>\n",
       "      <td>37</td>\n",
       "      <td>13</td>\n",
       "      <td>3</td>\n",
       "    </tr>\n",
       "    <tr>\n",
       "      <th>23</th>\n",
       "      <td>28</td>\n",
       "      <td>13</td>\n",
       "      <td>3</td>\n",
       "    </tr>\n",
       "  </tbody>\n",
       "</table>\n",
       "</div>"
      ],
      "text/plain": [
       "    actual  predicted  count\n",
       "0        1         15     36\n",
       "7       15          1     21\n",
       "1        1         27      4\n",
       "26      37         13      3\n",
       "23      28         13      3"
      ]
     },
     "execution_count": 106,
     "metadata": {},
     "output_type": "execute_result"
    }
   ],
   "source": [
    "decT = pd.DataFrame({'actual': y_test, 'predicted': tree_pred, 'random': np.random.rand(175610)}) # need random as a place \n",
    "                                                                                              # holder for groupby later\n",
    "decT = decT[decT.actual != decT.predicted]\n",
    "decT = decT.groupby(['actual', 'predicted']).count().reset_index().rename(columns={'random': 'count'}).sort_values(by='count', ascending=False)\n",
    "decT.head()"
   ]
  },
  {
   "cell_type": "markdown",
   "metadata": {},
   "source": [
    "### Top 5 misclassified categories for Decision Tree"
   ]
  },
  {
   "cell_type": "code",
   "execution_count": 107,
   "metadata": {},
   "outputs": [
    {
     "data": {
      "text/html": [
       "<div>\n",
       "<style scoped>\n",
       "    .dataframe tbody tr th:only-of-type {\n",
       "        vertical-align: middle;\n",
       "    }\n",
       "\n",
       "    .dataframe tbody tr th {\n",
       "        vertical-align: top;\n",
       "    }\n",
       "\n",
       "    .dataframe thead th {\n",
       "        text-align: right;\n",
       "    }\n",
       "</style>\n",
       "<table border=\"1\" class=\"dataframe\">\n",
       "  <thead>\n",
       "    <tr style=\"text-align: right;\">\n",
       "      <th></th>\n",
       "      <th>actual_decT</th>\n",
       "      <th>predicted_decT</th>\n",
       "      <th>count_decT</th>\n",
       "    </tr>\n",
       "  </thead>\n",
       "  <tbody>\n",
       "    <tr>\n",
       "      <th>0</th>\n",
       "      <td>OTHER OFFENSES</td>\n",
       "      <td>NON-CRIMINAL</td>\n",
       "      <td>652</td>\n",
       "    </tr>\n",
       "    <tr>\n",
       "      <th>1</th>\n",
       "      <td>NON-CRIMINAL</td>\n",
       "      <td>OTHER OFFENSES</td>\n",
       "      <td>579</td>\n",
       "    </tr>\n",
       "    <tr>\n",
       "      <th>2</th>\n",
       "      <td>OTHER OFFENSES</td>\n",
       "      <td>ASSAULT</td>\n",
       "      <td>403</td>\n",
       "    </tr>\n",
       "    <tr>\n",
       "      <th>3</th>\n",
       "      <td>ASSAULT</td>\n",
       "      <td>NON-CRIMINAL</td>\n",
       "      <td>399</td>\n",
       "    </tr>\n",
       "    <tr>\n",
       "      <th>4</th>\n",
       "      <td>OTHER OFFENSES</td>\n",
       "      <td>VANDALISM</td>\n",
       "      <td>392</td>\n",
       "    </tr>\n",
       "  </tbody>\n",
       "</table>\n",
       "</div>"
      ],
      "text/plain": [
       "      actual_decT  predicted_decT  count_decT\n",
       "0  OTHER OFFENSES    NON-CRIMINAL         652\n",
       "1    NON-CRIMINAL  OTHER OFFENSES         579\n",
       "2  OTHER OFFENSES         ASSAULT         403\n",
       "3         ASSAULT    NON-CRIMINAL         399\n",
       "4  OTHER OFFENSES       VANDALISM         392"
      ]
     },
     "execution_count": 107,
     "metadata": {},
     "output_type": "execute_result"
    }
   ],
   "source": [
    "decT_results = pd.DataFrame({'actual_decT': ['OTHER OFFENSES', 'NON-CRIMINAL', 'OTHER OFFENSES', 'ASSAULT', 'OTHER OFFENSES'], 'predicted_decT': ['NON-CRIMINAL', 'OTHER OFFENSES', 'ASSAULT', 'NON-CRIMINAL', 'VANDALISM'], 'count_decT': [652, 579, 403, 399, 392]})\n",
    "decT_results = decT_results[['actual_decT', 'predicted_decT', 'count_decT']]\n",
    "decT_results"
   ]
  },
  {
   "cell_type": "markdown",
   "metadata": {},
   "source": [
    "## Random Forest\n",
    "- 16,513 out of 175,610  cases misclassified"
   ]
  },
  {
   "cell_type": "code",
   "execution_count": 108,
   "metadata": {},
   "outputs": [
    {
     "data": {
      "text/html": [
       "<div>\n",
       "<style scoped>\n",
       "    .dataframe tbody tr th:only-of-type {\n",
       "        vertical-align: middle;\n",
       "    }\n",
       "\n",
       "    .dataframe tbody tr th {\n",
       "        vertical-align: top;\n",
       "    }\n",
       "\n",
       "    .dataframe thead th {\n",
       "        text-align: right;\n",
       "    }\n",
       "</style>\n",
       "<table border=\"1\" class=\"dataframe\">\n",
       "  <thead>\n",
       "    <tr style=\"text-align: right;\">\n",
       "      <th></th>\n",
       "      <th>actual</th>\n",
       "      <th>predicted</th>\n",
       "      <th>count</th>\n",
       "    </tr>\n",
       "  </thead>\n",
       "  <tbody>\n",
       "    <tr>\n",
       "      <th>428</th>\n",
       "      <td>21</td>\n",
       "      <td>20</td>\n",
       "      <td>479</td>\n",
       "    </tr>\n",
       "    <tr>\n",
       "      <th>424</th>\n",
       "      <td>21</td>\n",
       "      <td>16</td>\n",
       "      <td>475</td>\n",
       "    </tr>\n",
       "    <tr>\n",
       "      <th>410</th>\n",
       "      <td>21</td>\n",
       "      <td>1</td>\n",
       "      <td>471</td>\n",
       "    </tr>\n",
       "    <tr>\n",
       "      <th>416</th>\n",
       "      <td>21</td>\n",
       "      <td>7</td>\n",
       "      <td>434</td>\n",
       "    </tr>\n",
       "    <tr>\n",
       "      <th>378</th>\n",
       "      <td>20</td>\n",
       "      <td>1</td>\n",
       "      <td>384</td>\n",
       "    </tr>\n",
       "  </tbody>\n",
       "</table>\n",
       "</div>"
      ],
      "text/plain": [
       "     actual  predicted  count\n",
       "428      21         20    479\n",
       "424      21         16    475\n",
       "410      21          1    471\n",
       "416      21          7    434\n",
       "378      20          1    384"
      ]
     },
     "execution_count": 108,
     "metadata": {},
     "output_type": "execute_result"
    }
   ],
   "source": [
    "forest = pd.DataFrame({'actual': y_test, 'predicted': forest_pred, 'random': np.random.rand(175610)}) # need random as a place \n",
    "                                                                                              # holder for groupby later\n",
    "forest = forest[forest.actual != forest.predicted]\n",
    "forest = forest.groupby(['actual', 'predicted']).count().reset_index().rename(columns={'random': 'count'}).sort_values(by='count', ascending=False)\n",
    "forest.head()"
   ]
  },
  {
   "cell_type": "markdown",
   "metadata": {},
   "source": [
    "### Top 5 misclassified categories for Random Forest"
   ]
  },
  {
   "cell_type": "code",
   "execution_count": 109,
   "metadata": {},
   "outputs": [
    {
     "data": {
      "text/html": [
       "<div>\n",
       "<style scoped>\n",
       "    .dataframe tbody tr th:only-of-type {\n",
       "        vertical-align: middle;\n",
       "    }\n",
       "\n",
       "    .dataframe tbody tr th {\n",
       "        vertical-align: top;\n",
       "    }\n",
       "\n",
       "    .dataframe thead th {\n",
       "        text-align: right;\n",
       "    }\n",
       "</style>\n",
       "<table border=\"1\" class=\"dataframe\">\n",
       "  <thead>\n",
       "    <tr style=\"text-align: right;\">\n",
       "      <th></th>\n",
       "      <th>actual_forest</th>\n",
       "      <th>predicted_forest</th>\n",
       "      <th>count_forest</th>\n",
       "    </tr>\n",
       "  </thead>\n",
       "  <tbody>\n",
       "    <tr>\n",
       "      <th>0</th>\n",
       "      <td>OTHER OFFENSES</td>\n",
       "      <td>ASSAULT</td>\n",
       "      <td>652</td>\n",
       "    </tr>\n",
       "    <tr>\n",
       "      <th>1</th>\n",
       "      <td>OTHER OFFENSES</td>\n",
       "      <td>NON-CRIMINAL</td>\n",
       "      <td>579</td>\n",
       "    </tr>\n",
       "    <tr>\n",
       "      <th>2</th>\n",
       "      <td>OTHER OFFENSES</td>\n",
       "      <td>DRUG/NARCOTIC</td>\n",
       "      <td>403</td>\n",
       "    </tr>\n",
       "    <tr>\n",
       "      <th>3</th>\n",
       "      <td>NON-CRIMINAL</td>\n",
       "      <td>OTHER OFFENSES</td>\n",
       "      <td>399</td>\n",
       "    </tr>\n",
       "    <tr>\n",
       "      <th>4</th>\n",
       "      <td>ASSAULT</td>\n",
       "      <td>OTHER OFFENSES</td>\n",
       "      <td>392</td>\n",
       "    </tr>\n",
       "  </tbody>\n",
       "</table>\n",
       "</div>"
      ],
      "text/plain": [
       "    actual_forest predicted_forest  count_forest\n",
       "0  OTHER OFFENSES          ASSAULT           652\n",
       "1  OTHER OFFENSES     NON-CRIMINAL           579\n",
       "2  OTHER OFFENSES    DRUG/NARCOTIC           403\n",
       "3    NON-CRIMINAL   OTHER OFFENSES           399\n",
       "4         ASSAULT   OTHER OFFENSES           392"
      ]
     },
     "execution_count": 109,
     "metadata": {},
     "output_type": "execute_result"
    }
   ],
   "source": [
    "forest_results = pd.DataFrame({'actual_forest': ['OTHER OFFENSES', 'OTHER OFFENSES', 'OTHER OFFENSES', 'NON-CRIMINAL', 'ASSAULT'], 'predicted_forest': ['ASSAULT', 'NON-CRIMINAL', 'DRUG/NARCOTIC', 'OTHER OFFENSES', 'OTHER OFFENSES'], 'count_forest': [652, 579, 403, 399, 392]})\n",
    "forest_results = forest_results[['actual_forest', 'predicted_forest', 'count_forest']]\n",
    "forest_results"
   ]
  },
  {
   "cell_type": "markdown",
   "metadata": {},
   "source": [
    "OTHER OFFENSES wrongly predicted as NON-CRIMINAL was in the top three misclassified categories for all three classifiers, vice versa, as well as ASSAULT also being misclassified as either OTHER OFFENSES or NON-CRIMINAL. Because GuassianNB did significantly worse than the Decision Tree and Random Forest classifiers, we will just look at these two classifiers from now on and see what we can do to improve results by looking deeper into the OTHER OFFENSES and NON-CRIMINAL categories."
   ]
  },
  {
   "cell_type": "markdown",
   "metadata": {},
   "source": [
    "## A Deeper Look into OTHER OFFENSES vs NON-CRIMINAL"
   ]
  },
  {
   "cell_type": "markdown",
   "metadata": {},
   "source": [
    "### Maybe Descript for both OTHER OFFENSES and NON-CRIMINAL Categories is relatively the same for the top crimes which is why the classifier is having a hard time distinguishing betweeen the two. "
   ]
  },
  {
   "cell_type": "code",
   "execution_count": 110,
   "metadata": {},
   "outputs": [
    {
     "name": "stdout",
     "output_type": "stream",
     "text": [
      "OTHER OFFENSES COUNT:  126182\n",
      "NON-CRIMINAL COUNT:  92304\n"
     ]
    }
   ],
   "source": [
    "print(\"OTHER OFFENSES COUNT: \", len(data[data.Category == 'OTHER OFFENSES']))\n",
    "print(\"NON-CRIMINAL COUNT: \", len(data[data.Category == 'NON-CRIMINAL']))"
   ]
  },
  {
   "cell_type": "code",
   "execution_count": 111,
   "metadata": {},
   "outputs": [
    {
     "data": {
      "text/html": [
       "<div>\n",
       "<style scoped>\n",
       "    .dataframe tbody tr th:only-of-type {\n",
       "        vertical-align: middle;\n",
       "    }\n",
       "\n",
       "    .dataframe tbody tr th {\n",
       "        vertical-align: top;\n",
       "    }\n",
       "\n",
       "    .dataframe thead th {\n",
       "        text-align: right;\n",
       "    }\n",
       "</style>\n",
       "<table border=\"1\" class=\"dataframe\">\n",
       "  <thead>\n",
       "    <tr style=\"text-align: right;\">\n",
       "      <th></th>\n",
       "      <th>Descript</th>\n",
       "      <th>Dates</th>\n",
       "      <th>Category</th>\n",
       "      <th>DayOfWeek</th>\n",
       "      <th>PdDistrict</th>\n",
       "      <th>Resolution</th>\n",
       "      <th>Address</th>\n",
       "      <th>X</th>\n",
       "      <th>Y</th>\n",
       "    </tr>\n",
       "  </thead>\n",
       "  <tbody>\n",
       "    <tr>\n",
       "      <th>25</th>\n",
       "      <td>DRIVERS LICENSE, SUSPENDED OR REVOKED</td>\n",
       "      <td>26839</td>\n",
       "      <td>26839</td>\n",
       "      <td>26839</td>\n",
       "      <td>26839</td>\n",
       "      <td>26839</td>\n",
       "      <td>26839</td>\n",
       "      <td>26839</td>\n",
       "      <td>26839</td>\n",
       "    </tr>\n",
       "    <tr>\n",
       "      <th>148</th>\n",
       "      <td>TRAFFIC VIOLATION</td>\n",
       "      <td>16471</td>\n",
       "      <td>16471</td>\n",
       "      <td>16471</td>\n",
       "      <td>16471</td>\n",
       "      <td>16471</td>\n",
       "      <td>16471</td>\n",
       "      <td>16471</td>\n",
       "      <td>16471</td>\n",
       "    </tr>\n",
       "    <tr>\n",
       "      <th>123</th>\n",
       "      <td>RESISTING ARREST</td>\n",
       "      <td>8983</td>\n",
       "      <td>8983</td>\n",
       "      <td>8983</td>\n",
       "      <td>8983</td>\n",
       "      <td>8983</td>\n",
       "      <td>8983</td>\n",
       "      <td>8983</td>\n",
       "      <td>8983</td>\n",
       "    </tr>\n",
       "    <tr>\n",
       "      <th>86</th>\n",
       "      <td>MISCELLANEOUS INVESTIGATION</td>\n",
       "      <td>8389</td>\n",
       "      <td>8389</td>\n",
       "      <td>8389</td>\n",
       "      <td>8389</td>\n",
       "      <td>8389</td>\n",
       "      <td>8389</td>\n",
       "      <td>8389</td>\n",
       "      <td>8389</td>\n",
       "    </tr>\n",
       "    <tr>\n",
       "      <th>116</th>\n",
       "      <td>PROBATION VIOLATION</td>\n",
       "      <td>8016</td>\n",
       "      <td>8016</td>\n",
       "      <td>8016</td>\n",
       "      <td>8016</td>\n",
       "      <td>8016</td>\n",
       "      <td>8016</td>\n",
       "      <td>8016</td>\n",
       "      <td>8016</td>\n",
       "    </tr>\n",
       "  </tbody>\n",
       "</table>\n",
       "</div>"
      ],
      "text/plain": [
       "                                  Descript  Dates  Category  DayOfWeek  \\\n",
       "25   DRIVERS LICENSE, SUSPENDED OR REVOKED  26839     26839      26839   \n",
       "148                      TRAFFIC VIOLATION  16471     16471      16471   \n",
       "123                       RESISTING ARREST   8983      8983       8983   \n",
       "86             MISCELLANEOUS INVESTIGATION   8389      8389       8389   \n",
       "116                    PROBATION VIOLATION   8016      8016       8016   \n",
       "\n",
       "     PdDistrict  Resolution  Address      X      Y  \n",
       "25        26839       26839    26839  26839  26839  \n",
       "148       16471       16471    16471  16471  16471  \n",
       "123        8983        8983     8983   8983   8983  \n",
       "86         8389        8389     8389   8389   8389  \n",
       "116        8016        8016     8016   8016   8016  "
      ]
     },
     "execution_count": 111,
     "metadata": {},
     "output_type": "execute_result"
    }
   ],
   "source": [
    "ood = data[data.Category == 'OTHER OFFENSES']\n",
    "ood.groupby(['Descript']).count().reset_index().sort_values(by='Dates', ascending=False).head()"
   ]
  },
  {
   "cell_type": "code",
   "execution_count": 112,
   "metadata": {},
   "outputs": [
    {
     "data": {
      "text/html": [
       "<div>\n",
       "<style scoped>\n",
       "    .dataframe tbody tr th:only-of-type {\n",
       "        vertical-align: middle;\n",
       "    }\n",
       "\n",
       "    .dataframe tbody tr th {\n",
       "        vertical-align: top;\n",
       "    }\n",
       "\n",
       "    .dataframe thead th {\n",
       "        text-align: right;\n",
       "    }\n",
       "</style>\n",
       "<table border=\"1\" class=\"dataframe\">\n",
       "  <thead>\n",
       "    <tr style=\"text-align: right;\">\n",
       "      <th></th>\n",
       "      <th>Descript</th>\n",
       "      <th>Dates</th>\n",
       "      <th>Category</th>\n",
       "      <th>DayOfWeek</th>\n",
       "      <th>PdDistrict</th>\n",
       "      <th>Resolution</th>\n",
       "      <th>Address</th>\n",
       "      <th>X</th>\n",
       "      <th>Y</th>\n",
       "    </tr>\n",
       "  </thead>\n",
       "  <tbody>\n",
       "    <tr>\n",
       "      <th>27</th>\n",
       "      <td>LOST PROPERTY</td>\n",
       "      <td>31729</td>\n",
       "      <td>31729</td>\n",
       "      <td>31729</td>\n",
       "      <td>31729</td>\n",
       "      <td>31729</td>\n",
       "      <td>31729</td>\n",
       "      <td>31729</td>\n",
       "      <td>31729</td>\n",
       "    </tr>\n",
       "    <tr>\n",
       "      <th>6</th>\n",
       "      <td>AIDED CASE, MENTAL DISTURBED</td>\n",
       "      <td>21497</td>\n",
       "      <td>21497</td>\n",
       "      <td>21497</td>\n",
       "      <td>21497</td>\n",
       "      <td>21497</td>\n",
       "      <td>21497</td>\n",
       "      <td>21497</td>\n",
       "      <td>21497</td>\n",
       "    </tr>\n",
       "    <tr>\n",
       "      <th>22</th>\n",
       "      <td>FOUND PROPERTY</td>\n",
       "      <td>12146</td>\n",
       "      <td>12146</td>\n",
       "      <td>12146</td>\n",
       "      <td>12146</td>\n",
       "      <td>12146</td>\n",
       "      <td>12146</td>\n",
       "      <td>12146</td>\n",
       "      <td>12146</td>\n",
       "    </tr>\n",
       "    <tr>\n",
       "      <th>2</th>\n",
       "      <td>AIDED CASE</td>\n",
       "      <td>5419</td>\n",
       "      <td>5419</td>\n",
       "      <td>5419</td>\n",
       "      <td>5419</td>\n",
       "      <td>5419</td>\n",
       "      <td>5419</td>\n",
       "      <td>5419</td>\n",
       "      <td>5419</td>\n",
       "    </tr>\n",
       "    <tr>\n",
       "      <th>15</th>\n",
       "      <td>DEATH REPORT, CAUSE UNKNOWN</td>\n",
       "      <td>4207</td>\n",
       "      <td>4207</td>\n",
       "      <td>4207</td>\n",
       "      <td>4207</td>\n",
       "      <td>4207</td>\n",
       "      <td>4207</td>\n",
       "      <td>4207</td>\n",
       "      <td>4207</td>\n",
       "    </tr>\n",
       "  </tbody>\n",
       "</table>\n",
       "</div>"
      ],
      "text/plain": [
       "                        Descript  Dates  Category  DayOfWeek  PdDistrict  \\\n",
       "27                 LOST PROPERTY  31729     31729      31729       31729   \n",
       "6   AIDED CASE, MENTAL DISTURBED  21497     21497      21497       21497   \n",
       "22                FOUND PROPERTY  12146     12146      12146       12146   \n",
       "2                     AIDED CASE   5419      5419       5419        5419   \n",
       "15   DEATH REPORT, CAUSE UNKNOWN   4207      4207       4207        4207   \n",
       "\n",
       "    Resolution  Address      X      Y  \n",
       "27       31729    31729  31729  31729  \n",
       "6        21497    21497  21497  21497  \n",
       "22       12146    12146  12146  12146  \n",
       "2         5419     5419   5419   5419  \n",
       "15        4207     4207   4207   4207  "
      ]
     },
     "execution_count": 112,
     "metadata": {},
     "output_type": "execute_result"
    }
   ],
   "source": [
    "ncd = data[data.Category == 'NON-CRIMINAL']\n",
    "ncd.groupby(['Descript']).count().reset_index().sort_values(by='Dates', ascending=False).head()"
   ]
  },
  {
   "cell_type": "markdown",
   "metadata": {},
   "source": [
    "### Takeaways\n",
    "- Descript, the highest correlation column with Category, does not seem consistent across OTHER OFFENSES and NON-CRIMINAL\n",
    "- Descript is possibly not what is causing the misclassificaition of OTHER OFFENSES to be NON-CRIMINAL and vice versa"
   ]
  },
  {
   "cell_type": "markdown",
   "metadata": {},
   "source": [
    "### OTHER OFFENSES most likely has a greater number of unique Descript values than other Categories, making it harder to classify, let's look into this."
   ]
  },
  {
   "cell_type": "code",
   "execution_count": 113,
   "metadata": {},
   "outputs": [
    {
     "data": {
      "text/html": [
       "<div>\n",
       "<style scoped>\n",
       "    .dataframe tbody tr th:only-of-type {\n",
       "        vertical-align: middle;\n",
       "    }\n",
       "\n",
       "    .dataframe tbody tr th {\n",
       "        vertical-align: top;\n",
       "    }\n",
       "\n",
       "    .dataframe thead th {\n",
       "        text-align: right;\n",
       "    }\n",
       "</style>\n",
       "<table border=\"1\" class=\"dataframe\">\n",
       "  <thead>\n",
       "    <tr style=\"text-align: right;\">\n",
       "      <th>Descript</th>\n",
       "      <th>Category</th>\n",
       "      <th>ABANDONMENT OF CHILD</th>\n",
       "      <th>ABORTION</th>\n",
       "      <th>ACCESS CARD INFORMATION, PUBLICATION OF</th>\n",
       "      <th>ACCESS CARD INFORMATION, THEFT OF</th>\n",
       "      <th>ACCIDENTAL BURNS</th>\n",
       "      <th>ACCIDENTAL SHOOTING</th>\n",
       "      <th>ACTS AGAINST PUBLIC TRANSIT</th>\n",
       "      <th>ADVERTISING DISTRIBUTORS PERMIT VIOLATION</th>\n",
       "      <th>AEROSOL CONTAINER; SALE, PURCHASE OR POSSESSION OF</th>\n",
       "      <th>...</th>\n",
       "      <th>WEAPON, DEADLY, CARRYING WITH INTENT TO COMMIT ASSAULT</th>\n",
       "      <th>WEAPON, DEADLY, EXHIBITING TO RESIST ARREST</th>\n",
       "      <th>WEAPON, POSSESS OR BRING OTHER ON SCHOOL GROUNDS</th>\n",
       "      <th>WEAPON, POSSESSING IN PUBLIC BUILDING OR OPEN MEETING</th>\n",
       "      <th>WEAPON, TAKING OR ATTEMPTING TO TAKE FROM PEACE OFFICER</th>\n",
       "      <th>WEAPONS POSSESSION BY JUVENILE SUSPECT</th>\n",
       "      <th>WEARING MASK OR DISGUISE FOR UNLAWFUL PURPOSE</th>\n",
       "      <th>WEARING THE APPAREL OF OPPOSITE SEX TO DECEIVE</th>\n",
       "      <th>WILLFUL CRUELTY TO CHILD</th>\n",
       "      <th>YOUTH COURT</th>\n",
       "    </tr>\n",
       "  </thead>\n",
       "  <tbody>\n",
       "    <tr>\n",
       "      <th>0</th>\n",
       "      <td>ARSON</td>\n",
       "      <td>0</td>\n",
       "      <td>0</td>\n",
       "      <td>0</td>\n",
       "      <td>0</td>\n",
       "      <td>0</td>\n",
       "      <td>0</td>\n",
       "      <td>0</td>\n",
       "      <td>0</td>\n",
       "      <td>0</td>\n",
       "      <td>...</td>\n",
       "      <td>0</td>\n",
       "      <td>0</td>\n",
       "      <td>0</td>\n",
       "      <td>0</td>\n",
       "      <td>0</td>\n",
       "      <td>0</td>\n",
       "      <td>0</td>\n",
       "      <td>0</td>\n",
       "      <td>0</td>\n",
       "      <td>0</td>\n",
       "    </tr>\n",
       "    <tr>\n",
       "      <th>1</th>\n",
       "      <td>ASSAULT</td>\n",
       "      <td>0</td>\n",
       "      <td>0</td>\n",
       "      <td>0</td>\n",
       "      <td>0</td>\n",
       "      <td>0</td>\n",
       "      <td>0</td>\n",
       "      <td>0</td>\n",
       "      <td>0</td>\n",
       "      <td>0</td>\n",
       "      <td>...</td>\n",
       "      <td>0</td>\n",
       "      <td>0</td>\n",
       "      <td>0</td>\n",
       "      <td>0</td>\n",
       "      <td>0</td>\n",
       "      <td>0</td>\n",
       "      <td>0</td>\n",
       "      <td>0</td>\n",
       "      <td>114</td>\n",
       "      <td>0</td>\n",
       "    </tr>\n",
       "    <tr>\n",
       "      <th>2</th>\n",
       "      <td>BAD CHECKS</td>\n",
       "      <td>0</td>\n",
       "      <td>0</td>\n",
       "      <td>0</td>\n",
       "      <td>0</td>\n",
       "      <td>0</td>\n",
       "      <td>0</td>\n",
       "      <td>0</td>\n",
       "      <td>0</td>\n",
       "      <td>0</td>\n",
       "      <td>...</td>\n",
       "      <td>0</td>\n",
       "      <td>0</td>\n",
       "      <td>0</td>\n",
       "      <td>0</td>\n",
       "      <td>0</td>\n",
       "      <td>0</td>\n",
       "      <td>0</td>\n",
       "      <td>0</td>\n",
       "      <td>0</td>\n",
       "      <td>0</td>\n",
       "    </tr>\n",
       "    <tr>\n",
       "      <th>3</th>\n",
       "      <td>BRIBERY</td>\n",
       "      <td>0</td>\n",
       "      <td>0</td>\n",
       "      <td>0</td>\n",
       "      <td>0</td>\n",
       "      <td>0</td>\n",
       "      <td>0</td>\n",
       "      <td>0</td>\n",
       "      <td>0</td>\n",
       "      <td>0</td>\n",
       "      <td>...</td>\n",
       "      <td>0</td>\n",
       "      <td>0</td>\n",
       "      <td>0</td>\n",
       "      <td>0</td>\n",
       "      <td>0</td>\n",
       "      <td>0</td>\n",
       "      <td>0</td>\n",
       "      <td>0</td>\n",
       "      <td>0</td>\n",
       "      <td>0</td>\n",
       "    </tr>\n",
       "    <tr>\n",
       "      <th>4</th>\n",
       "      <td>BURGLARY</td>\n",
       "      <td>0</td>\n",
       "      <td>0</td>\n",
       "      <td>0</td>\n",
       "      <td>0</td>\n",
       "      <td>0</td>\n",
       "      <td>0</td>\n",
       "      <td>0</td>\n",
       "      <td>0</td>\n",
       "      <td>0</td>\n",
       "      <td>...</td>\n",
       "      <td>0</td>\n",
       "      <td>0</td>\n",
       "      <td>0</td>\n",
       "      <td>0</td>\n",
       "      <td>0</td>\n",
       "      <td>0</td>\n",
       "      <td>0</td>\n",
       "      <td>0</td>\n",
       "      <td>0</td>\n",
       "      <td>0</td>\n",
       "    </tr>\n",
       "  </tbody>\n",
       "</table>\n",
       "<p>5 rows × 880 columns</p>\n",
       "</div>"
      ],
      "text/plain": [
       "Descript    Category  ABANDONMENT OF CHILD  ABORTION  \\\n",
       "0              ARSON                     0         0   \n",
       "1            ASSAULT                     0         0   \n",
       "2         BAD CHECKS                     0         0   \n",
       "3            BRIBERY                     0         0   \n",
       "4           BURGLARY                     0         0   \n",
       "\n",
       "Descript  ACCESS CARD INFORMATION, PUBLICATION OF  \\\n",
       "0                                               0   \n",
       "1                                               0   \n",
       "2                                               0   \n",
       "3                                               0   \n",
       "4                                               0   \n",
       "\n",
       "Descript  ACCESS CARD INFORMATION, THEFT OF  ACCIDENTAL BURNS  \\\n",
       "0                                         0                 0   \n",
       "1                                         0                 0   \n",
       "2                                         0                 0   \n",
       "3                                         0                 0   \n",
       "4                                         0                 0   \n",
       "\n",
       "Descript  ACCIDENTAL SHOOTING  ACTS AGAINST PUBLIC TRANSIT  \\\n",
       "0                           0                            0   \n",
       "1                           0                            0   \n",
       "2                           0                            0   \n",
       "3                           0                            0   \n",
       "4                           0                            0   \n",
       "\n",
       "Descript  ADVERTISING DISTRIBUTORS PERMIT VIOLATION  \\\n",
       "0                                                 0   \n",
       "1                                                 0   \n",
       "2                                                 0   \n",
       "3                                                 0   \n",
       "4                                                 0   \n",
       "\n",
       "Descript  AEROSOL CONTAINER; SALE, PURCHASE OR POSSESSION OF     ...       \\\n",
       "0                                                         0      ...        \n",
       "1                                                         0      ...        \n",
       "2                                                         0      ...        \n",
       "3                                                         0      ...        \n",
       "4                                                         0      ...        \n",
       "\n",
       "Descript  WEAPON, DEADLY, CARRYING WITH INTENT TO COMMIT ASSAULT  \\\n",
       "0                                                         0        \n",
       "1                                                         0        \n",
       "2                                                         0        \n",
       "3                                                         0        \n",
       "4                                                         0        \n",
       "\n",
       "Descript  WEAPON, DEADLY, EXHIBITING TO RESIST ARREST  \\\n",
       "0                                                   0   \n",
       "1                                                   0   \n",
       "2                                                   0   \n",
       "3                                                   0   \n",
       "4                                                   0   \n",
       "\n",
       "Descript  WEAPON, POSSESS OR BRING OTHER ON SCHOOL GROUNDS  \\\n",
       "0                                                        0   \n",
       "1                                                        0   \n",
       "2                                                        0   \n",
       "3                                                        0   \n",
       "4                                                        0   \n",
       "\n",
       "Descript  WEAPON, POSSESSING IN PUBLIC BUILDING OR OPEN MEETING  \\\n",
       "0                                                         0       \n",
       "1                                                         0       \n",
       "2                                                         0       \n",
       "3                                                         0       \n",
       "4                                                         0       \n",
       "\n",
       "Descript  WEAPON, TAKING OR ATTEMPTING TO TAKE FROM PEACE OFFICER  \\\n",
       "0                                                         0         \n",
       "1                                                         0         \n",
       "2                                                         0         \n",
       "3                                                         0         \n",
       "4                                                         0         \n",
       "\n",
       "Descript  WEAPONS POSSESSION BY JUVENILE SUSPECT  \\\n",
       "0                                              0   \n",
       "1                                              0   \n",
       "2                                              0   \n",
       "3                                              0   \n",
       "4                                              0   \n",
       "\n",
       "Descript  WEARING MASK OR DISGUISE FOR UNLAWFUL PURPOSE  \\\n",
       "0                                                     0   \n",
       "1                                                     0   \n",
       "2                                                     0   \n",
       "3                                                     0   \n",
       "4                                                     0   \n",
       "\n",
       "Descript  WEARING THE APPAREL OF OPPOSITE SEX TO DECEIVE  \\\n",
       "0                                                      0   \n",
       "1                                                      0   \n",
       "2                                                      0   \n",
       "3                                                      0   \n",
       "4                                                      0   \n",
       "\n",
       "Descript  WILLFUL CRUELTY TO CHILD  YOUTH COURT  \n",
       "0                                0            0  \n",
       "1                              114            0  \n",
       "2                                0            0  \n",
       "3                                0            0  \n",
       "4                                0            0  \n",
       "\n",
       "[5 rows x 880 columns]"
      ]
     },
     "execution_count": 113,
     "metadata": {},
     "output_type": "execute_result"
    }
   ],
   "source": [
    "ct = pd.crosstab(data['Category'], data['Descript']).reset_index()\n",
    "ct.head()"
   ]
  },
  {
   "cell_type": "code",
   "execution_count": 114,
   "metadata": {},
   "outputs": [],
   "source": [
    "# crosstab of Category and Descript\n",
    "ct = pd.crosstab(data['Category'], data['Descript']).reset_index()\n",
    "\n",
    "# for loop to iterate through rows and columns\n",
    "total = {}\n",
    "for index, row in ct.iterrows():\n",
    "    category = \"\"\n",
    "    count = 0\n",
    "    for col in row:\n",
    "        if isinstance(col, str):\n",
    "            category = col\n",
    "        elif col != 0:\n",
    "            count += 1\n",
    "    total[category] = count"
   ]
  },
  {
   "cell_type": "code",
   "execution_count": 115,
   "metadata": {},
   "outputs": [
    {
     "data": {
      "text/html": [
       "<div>\n",
       "<style scoped>\n",
       "    .dataframe tbody tr th:only-of-type {\n",
       "        vertical-align: middle;\n",
       "    }\n",
       "\n",
       "    .dataframe tbody tr th {\n",
       "        vertical-align: top;\n",
       "    }\n",
       "\n",
       "    .dataframe thead th {\n",
       "        text-align: right;\n",
       "    }\n",
       "</style>\n",
       "<table border=\"1\" class=\"dataframe\">\n",
       "  <thead>\n",
       "    <tr style=\"text-align: right;\">\n",
       "      <th></th>\n",
       "      <th>category</th>\n",
       "      <th>count_of_unique_descripts</th>\n",
       "    </tr>\n",
       "  </thead>\n",
       "  <tbody>\n",
       "    <tr>\n",
       "      <th>21</th>\n",
       "      <td>OTHER OFFENSES</td>\n",
       "      <td>169</td>\n",
       "    </tr>\n",
       "    <tr>\n",
       "      <th>25</th>\n",
       "      <td>ROBBERY</td>\n",
       "      <td>72</td>\n",
       "    </tr>\n",
       "    <tr>\n",
       "      <th>7</th>\n",
       "      <td>DRUG/NARCOTIC</td>\n",
       "      <td>69</td>\n",
       "    </tr>\n",
       "    <tr>\n",
       "      <th>1</th>\n",
       "      <td>ASSAULT</td>\n",
       "      <td>63</td>\n",
       "    </tr>\n",
       "    <tr>\n",
       "      <th>16</th>\n",
       "      <td>LARCENY/THEFT</td>\n",
       "      <td>62</td>\n",
       "    </tr>\n",
       "  </tbody>\n",
       "</table>\n",
       "</div>"
      ],
      "text/plain": [
       "          category  count_of_unique_descripts\n",
       "21  OTHER OFFENSES                        169\n",
       "25         ROBBERY                         72\n",
       "7    DRUG/NARCOTIC                         69\n",
       "1          ASSAULT                         63\n",
       "16   LARCENY/THEFT                         62"
      ]
     },
     "execution_count": 115,
     "metadata": {},
     "output_type": "execute_result"
    }
   ],
   "source": [
    "ctcd = pd.Series(total, name='count_of_unique_descripts').reset_index().rename(columns={'index': 'category'}).sort_values(by='count_of_unique_descripts', ascending=False)\n",
    "ctcd.head()"
   ]
  },
  {
   "cell_type": "markdown",
   "metadata": {},
   "source": [
    "### Takeaways\n",
    "It is evident that the number of unique descriptions for OTHER OFFENSES is significantly higher than the rest of the 38 categories. Coming in at 162 unique descriptions, this is more than ROBBERY, the second runner up, checking in at 72 unique descriptions. Because Descript is a great indictor of Category, having a large number of Descripts has caused the classifiers to be thrown off and not predict OTHER OFFENSES as well as other Categories. "
   ]
  },
  {
   "cell_type": "markdown",
   "metadata": {},
   "source": [
    "### If we take out OTHER OFFENSES, how much will our results improve?"
   ]
  },
  {
   "cell_type": "code",
   "execution_count": 116,
   "metadata": {},
   "outputs": [],
   "source": [
    "# getting rid of OTHER OFFENSES\n",
    "dropOF = data[data.Category != 'OTHER OFFENSES'] # 126,182 rows were dropped\n",
    "# reordering columns\n",
    "dropOFReorder = dropOF[['Category', 'Descript', 'Dates', 'DayOfWeek', 'PdDistrict', 'Resolution', 'Address', 'X', 'Y']]\n",
    "dropOFReorderAgain = dropOF[['Category', 'Descript', 'Dates', 'DayOfWeek', 'PdDistrict', 'Resolution', 'Address', 'X', 'Y']]\n",
    "# dropOFReorder.head()"
   ]
  },
  {
   "cell_type": "code",
   "execution_count": 117,
   "metadata": {},
   "outputs": [
    {
     "data": {
      "text/html": [
       "<div>\n",
       "<style scoped>\n",
       "    .dataframe tbody tr th:only-of-type {\n",
       "        vertical-align: middle;\n",
       "    }\n",
       "\n",
       "    .dataframe tbody tr th {\n",
       "        vertical-align: top;\n",
       "    }\n",
       "\n",
       "    .dataframe thead th {\n",
       "        text-align: right;\n",
       "    }\n",
       "</style>\n",
       "<table border=\"1\" class=\"dataframe\">\n",
       "  <thead>\n",
       "    <tr style=\"text-align: right;\">\n",
       "      <th></th>\n",
       "      <th>Category</th>\n",
       "      <th>Descript</th>\n",
       "      <th>Dates</th>\n",
       "      <th>DayOfWeek</th>\n",
       "      <th>PdDistrict</th>\n",
       "      <th>Resolution</th>\n",
       "      <th>Address</th>\n",
       "      <th>X</th>\n",
       "      <th>Y</th>\n",
       "    </tr>\n",
       "  </thead>\n",
       "  <tbody>\n",
       "    <tr>\n",
       "      <th>0</th>\n",
       "      <td>36</td>\n",
       "      <td>700</td>\n",
       "      <td>345356</td>\n",
       "      <td>6</td>\n",
       "      <td>4</td>\n",
       "      <td>0</td>\n",
       "      <td>19468</td>\n",
       "      <td>18412</td>\n",
       "      <td>22625</td>\n",
       "    </tr>\n",
       "    <tr>\n",
       "      <th>3</th>\n",
       "      <td>16</td>\n",
       "      <td>349</td>\n",
       "      <td>345355</td>\n",
       "      <td>6</td>\n",
       "      <td>4</td>\n",
       "      <td>11</td>\n",
       "      <td>4245</td>\n",
       "      <td>18034</td>\n",
       "      <td>32343</td>\n",
       "    </tr>\n",
       "    <tr>\n",
       "      <th>4</th>\n",
       "      <td>16</td>\n",
       "      <td>349</td>\n",
       "      <td>345355</td>\n",
       "      <td>6</td>\n",
       "      <td>5</td>\n",
       "      <td>11</td>\n",
       "      <td>1836</td>\n",
       "      <td>13533</td>\n",
       "      <td>21404</td>\n",
       "    </tr>\n",
       "    <tr>\n",
       "      <th>5</th>\n",
       "      <td>16</td>\n",
       "      <td>351</td>\n",
       "      <td>345355</td>\n",
       "      <td>6</td>\n",
       "      <td>2</td>\n",
       "      <td>11</td>\n",
       "      <td>1500</td>\n",
       "      <td>28643</td>\n",
       "      <td>1316</td>\n",
       "    </tr>\n",
       "    <tr>\n",
       "      <th>6</th>\n",
       "      <td>35</td>\n",
       "      <td>600</td>\n",
       "      <td>345355</td>\n",
       "      <td>6</td>\n",
       "      <td>2</td>\n",
       "      <td>11</td>\n",
       "      <td>13225</td>\n",
       "      <td>19386</td>\n",
       "      <td>4638</td>\n",
       "    </tr>\n",
       "  </tbody>\n",
       "</table>\n",
       "</div>"
      ],
      "text/plain": [
       "   Category  Descript   Dates  DayOfWeek  PdDistrict  Resolution  Address  \\\n",
       "0        36       700  345356          6           4           0    19468   \n",
       "3        16       349  345355          6           4          11     4245   \n",
       "4        16       349  345355          6           5          11     1836   \n",
       "5        16       351  345355          6           2          11     1500   \n",
       "6        35       600  345355          6           2          11    13225   \n",
       "\n",
       "       X      Y  \n",
       "0  18412  22625  \n",
       "3  18034  32343  \n",
       "4  13533  21404  \n",
       "5  28643   1316  \n",
       "6  19386   4638  "
      ]
     },
     "execution_count": 117,
     "metadata": {},
     "output_type": "execute_result"
    }
   ],
   "source": [
    "labelencoder = LabelEncoder()\n",
    "for col in dropOFReorderAgain.columns:\n",
    "    dropOFReorderAgain[col] = labelencoder.fit_transform(dropOFReorderAgain[col])\n",
    "dropOFReorderAgain.head()"
   ]
  },
  {
   "cell_type": "code",
   "execution_count": 118,
   "metadata": {},
   "outputs": [],
   "source": [
    "Xof = dropOFReorderAgain.iloc[:, 1:] \n",
    "yof = dropOFReorderAgain.iloc[:, 0]\n",
    "\n",
    "Xof_train, Xof_test, yof_train, yof_test = train_test_split(Xof, yof, test_size=0.2)\n",
    "\n",
    "# GuassianNB\n",
    "model_naive.fit(Xof_train, yof_train)\n",
    "nb_predof = model_naive.predict(Xof_test)\n",
    "\n",
    "# Decision Tree\n",
    "model_tree.fit(Xof_train, yof_train)\n",
    "tree_predof = model_tree.predict(Xof_test)\n",
    "\n",
    "# Random Forest\n",
    "model_forest.fit(Xof_train, yof_train)\n",
    "forest_predof = model_forest.predict(Xof_test)"
   ]
  },
  {
   "cell_type": "code",
   "execution_count": 119,
   "metadata": {},
   "outputs": [
    {
     "name": "stdout",
     "output_type": "stream",
     "text": [
      "ACCURACY SCORES\n",
      "\n",
      "GuassianNb: 0.5057722744623405\n",
      "Decision Tree: 0.9994613430513254\n",
      "Random Forest: 0.9085147698405309\n"
     ]
    }
   ],
   "source": [
    "print(\"ACCURACY SCORES\")\n",
    "print()\n",
    "pred_names = [\"GuassianNb\", \"Decision Tree\", \"Random Forest\"]\n",
    "predictions = [nb_predof, tree_predof, forest_predof]\n",
    "for i in range(0, 3):\n",
    "    print(pred_names[i] + \": \" + str(accuracy_score(yof_test, predictions[i])))"
   ]
  },
  {
   "cell_type": "markdown",
   "metadata": {},
   "source": [
    "### Takeaways\n",
    "- As expected, all the classifiers did significantly better without OTHER OFFENSES to account for"
   ]
  },
  {
   "cell_type": "markdown",
   "metadata": {},
   "source": [
    "## That was fun, but let's do some data exploration of the misclassified data to see what's really going on"
   ]
  },
  {
   "cell_type": "code",
   "execution_count": 167,
   "metadata": {},
   "outputs": [],
   "source": [
    "# le = {}\n",
    "# for i in range(len(data)):\n",
    "#     le[i] = LabelEncoder()\n",
    "#     data.iloc[:,i] = le[i].fit_transform(data.iloc[:,i])\n",
    "# do stuff\n",
    "# for i in range(len(misclassified)):\n",
    "#     X.iloc[:,i] = le[i].inverse_transform(X.iloc[:,i])"
   ]
  },
  {
   "cell_type": "code",
   "execution_count": 169,
   "metadata": {},
   "outputs": [],
   "source": [
    "misclassified = X_test[list(y_test) != forest_pred]\n",
    "correct = X_test[list(y_test) == forest_pred]\n",
    "# x = list(labelencoder.inverse_transform(forest_pred)) \n",
    "# x\n",
    "# y = labelencoder.inverse_transform(list(y_test))\n",
    "# for col in datareorder.columns:\n",
    "#     datareorder[col] = labelencoder.inverse_transform(datareorder[col]).any()\n",
    "# datareorder.head()\n"
   ]
  },
  {
   "cell_type": "code",
   "execution_count": 168,
   "metadata": {},
   "outputs": [
    {
     "data": {
      "image/png": "[encoded data removed]",
      "text/plain": [
       "<Figure size 1152x360 with 2 Axes>"
      ]
     },
     "metadata": {},
     "output_type": "display_data"
    }
   ],
   "source": [
    "plt.figure(figsize = (16,5))\n",
    "ax = sns.heatmap(misclassified.corr(), annot=True)"
   ]
  },
  {
   "cell_type": "code",
   "execution_count": 170,
   "metadata": {},
   "outputs": [
    {
     "data": {
      "image/png": "[encoded data removed]",
      "text/plain": [
       "<Figure size 1152x360 with 2 Axes>"
      ]
     },
     "metadata": {},
     "output_type": "display_data"
    }
   ],
   "source": [
    "plt.figure(figsize = (16,5))\n",
    "ax = sns.heatmap(correct.corr(), annot=True)"
   ]
  },
  {
   "cell_type": "code",
   "execution_count": null,
   "metadata": {},
   "outputs": [],
   "source": []
  },
  {
   "cell_type": "markdown",
   "metadata": {},
   "source": [
    "# Follow-up Part 2: GridSearchCV\n",
    "\n",
    "Use either the GridSearchCV or RandomizedSearchCV class to try to find the best values for the hyperparameters for one or more of your algorithms. You should use the sklearn documenation to select some hyper parameters as well as for the details of how to use the Grid or Randomized search models.\n",
    "- In most cases, the best way to determine optimal values for hyperparameters is through a grid search over possible parameter values, using cross validation to evaluate the performance of the model on your data at each value\n",
    "    - (Exhaustive search over specified parameter values for an estimator.)\n",
    "- Hyperparameter optimization finds a tuple of hyperparameters that yields an optimal model which minimizes a predefined loss function on given independent data. The objective function takes a tuple of hyperparameters and returns the associated loss. Cross-validation is often used to estimate this generalization performance.\n",
    "\n",
    "\n",
    "####  *Random forest, Logistic Regression, and SVM were all taking more than two hours to run so unfortunely I was only able to hyper-tune the Decision Tree Classifier.*"
   ]
  },
  {
   "cell_type": "markdown",
   "metadata": {},
   "source": [
    "## Decision Tree"
   ]
  },
  {
   "cell_type": "markdown",
   "metadata": {},
   "source": [
    "### Parameters to try out\n",
    "- max_depth: The maximum depth of the tree. If None, then nodes are expanded until all leaves are pure or until all leaves contain less than min_samples_split samples.\n",
    "- max_features: The number of features to consider when looking for the best split:\n",
    "- max_leaf_nodes: Grow a tree with max_leaf_nodes in best-first fashion. Best nodes are defined as relative reduction in impurity. If None then unlimited number of leaf nodes.\n",
    "- splitter: "
   ]
  },
  {
   "cell_type": "code",
   "execution_count": 37,
   "metadata": {},
   "outputs": [
    {
     "name": "stdout",
     "output_type": "stream",
     "text": [
      "CPU times: user 17min 28s, sys: 1min 18s, total: 18min 46s\n",
      "Wall time: 18min 46s\n"
     ]
    }
   ],
   "source": [
    "%%time\n",
    "\n",
    "parameters = {'max_depth': [None, 15, 20, 30], 'max_features': [None, 4, \"sqrt\", \"log2\"], 'max_leaf_nodes': [None, 10, 50, 100, 120, 150, 200, 300, 500], 'splitter': ['random', 'best']}\n",
    "model_treeGrid = GridSearchCV(DecisionTreeClassifier(), parameters)\n",
    "model_treeGrid.fit(X_train, y_train)"
   ]
  },
  {
   "cell_type": "code",
   "execution_count": 38,
   "metadata": {},
   "outputs": [
    {
     "data": {
      "text/plain": [
       "{'max_depth': 30,\n",
       " 'max_features': None,\n",
       " 'max_leaf_nodes': None,\n",
       " 'splitter': 'best'}"
      ]
     },
     "execution_count": 38,
     "metadata": {},
     "output_type": "execute_result"
    }
   ],
   "source": [
    "model_treeGrid.best_params_"
   ]
  },
  {
   "cell_type": "code",
   "execution_count": 39,
   "metadata": {},
   "outputs": [],
   "source": [
    "treeGrid_pred = model_treeGrid.predict(X_test)"
   ]
  },
  {
   "cell_type": "code",
   "execution_count": 40,
   "metadata": {},
   "outputs": [
    {
     "data": {
      "text/plain": [
       "0.999424861909914"
      ]
     },
     "execution_count": 40,
     "metadata": {},
     "output_type": "execute_result"
    }
   ],
   "source": [
    "accuracy_score(y_test, treeGrid_pred)"
   ]
  },
  {
   "cell_type": "code",
   "execution_count": 41,
   "metadata": {},
   "outputs": [
    {
     "data": {
      "text/plain": [
       "array([[  317,     0,     0, ...,     0,     0,     0],\n",
       "       [    0, 15357,     0, ...,     0,     0,     0],\n",
       "       [    0,     0,    96, ...,     0,     0,     0],\n",
       "       ...,\n",
       "       [    0,     0,     0, ..., 10743,     0,     0],\n",
       "       [    0,     0,     0, ...,     0,  8373,     0],\n",
       "       [    0,     0,     0, ...,     0,     0,  1684]])"
      ]
     },
     "execution_count": 41,
     "metadata": {},
     "output_type": "execute_result"
    }
   ],
   "source": [
    "confusion_matrix(y_test, treeGrid_pred)"
   ]
  },
  {
   "cell_type": "code",
   "execution_count": 42,
   "metadata": {},
   "outputs": [
    {
     "name": "stdout",
     "output_type": "stream",
     "text": [
      "                             precision    recall  f1-score   support\n",
      "\n",
      "                      ARSON       1.00      1.00      1.00       317\n",
      "                    ASSAULT       1.00      1.00      1.00     15397\n",
      "                 BAD CHECKS       1.00      1.00      1.00        96\n",
      "                    BRIBERY       1.00      1.00      1.00        61\n",
      "                   BURGLARY       1.00      1.00      1.00      7405\n",
      "         DISORDERLY CONDUCT       1.00      1.00      1.00       831\n",
      "DRIVING UNDER THE INFLUENCE       1.00      1.00      1.00       447\n",
      "              DRUG/NARCOTIC       1.00      1.00      1.00     10779\n",
      "                DRUNKENNESS       1.00      1.00      1.00       847\n",
      "               EMBEZZLEMENT       1.00      1.00      1.00       246\n",
      "                  EXTORTION       1.00      1.00      1.00        53\n",
      "            FAMILY OFFENSES       1.00      1.00      1.00        94\n",
      "     FORGERY/COUNTERFEITING       1.00      1.00      1.00      2131\n",
      "                      FRAUD       1.00      1.00      1.00      3336\n",
      "                   GAMBLING       1.00      1.00      1.00        29\n",
      "                 KIDNAPPING       0.92      0.93      0.92       451\n",
      "              LARCENY/THEFT       1.00      1.00      1.00     35195\n",
      "                LIQUOR LAWS       1.00      1.00      1.00       401\n",
      "                  LOITERING       1.00      1.00      1.00       221\n",
      "             MISSING PERSON       1.00      1.00      1.00      5125\n",
      "               NON-CRIMINAL       1.00      1.00      1.00     18400\n",
      "             OTHER OFFENSES       1.00      1.00      1.00     25375\n",
      "    PORNOGRAPHY/OBSCENE MAT       1.00      1.00      1.00         2\n",
      "               PROSTITUTION       1.00      1.00      1.00      1485\n",
      "          RECOVERED VEHICLE       1.00      1.00      1.00       648\n",
      "                    ROBBERY       1.00      1.00      1.00      4619\n",
      "                    RUNAWAY       1.00      1.00      1.00       364\n",
      "            SECONDARY CODES       1.00      1.00      1.00      2083\n",
      "      SEX OFFENSES FORCIBLE       1.00      1.00      1.00       891\n",
      "  SEX OFFENSES NON FORCIBLE       1.00      0.97      0.99        35\n",
      "            STOLEN PROPERTY       1.00      1.00      1.00       872\n",
      "                    SUICIDE       1.00      0.99      1.00       109\n",
      "             SUSPICIOUS OCC       1.00      1.00      1.00      6177\n",
      "                       TREA       1.00      1.00      1.00         1\n",
      "                   TRESPASS       1.00      1.00      1.00      1382\n",
      "                  VANDALISM       1.00      1.00      1.00      8902\n",
      "              VEHICLE THEFT       1.00      1.00      1.00     10743\n",
      "                   WARRANTS       1.00      1.00      1.00      8373\n",
      "                WEAPON LAWS       1.00      1.00      1.00      1687\n",
      "\n",
      "                avg / total       1.00      1.00      1.00    175610\n",
      "\n"
     ]
    }
   ],
   "source": [
    "print(classification_report(y_test, treeGrid_pred, target_names=sorted_names))"
   ]
  },
  {
   "cell_type": "markdown",
   "metadata": {},
   "source": [
    "### Takeaways\n",
    "- The best parameters were {'max_depth': 30, 'max_features': None, 'max_leaf_nodes': None}\n",
    "- After hyper-tuning, the accuracy score was 99% -- a significant improvement from the original 90% "
   ]
  },
  {
   "cell_type": "markdown",
   "metadata": {},
   "source": [
    "## Follow-up Part 3: Ensemble Learning"
   ]
  },
  {
   "cell_type": "code",
   "execution_count": 47,
   "metadata": {},
   "outputs": [
    {
     "ename": "KeyboardInterrupt",
     "evalue": "",
     "output_type": "error",
     "traceback": [
      "\u001b[0;31m---------------------------------------------------------------------------\u001b[0m",
      "\u001b[0;31mKeyboardInterrupt\u001b[0m                         Traceback (most recent call last)",
      "\u001b[0;32m<timed exec>\u001b[0m in \u001b[0;36m<module>\u001b[0;34m()\u001b[0m\n",
      "\u001b[0;32m/usr/local/lib/python3.5/site-packages/sklearn/ensemble/voting_classifier.py\u001b[0m in \u001b[0;36mfit\u001b[0;34m(self, X, y, sample_weight)\u001b[0m\n\u001b[1;32m    187\u001b[0m                 delayed(_parallel_fit_estimator)(clone(clf), X, transformed_y,\n\u001b[1;32m    188\u001b[0m                                                  sample_weight=sample_weight)\n\u001b[0;32m--> 189\u001b[0;31m                 for clf in clfs if clf is not None)\n\u001b[0m\u001b[1;32m    190\u001b[0m \u001b[0;34m\u001b[0m\u001b[0m\n\u001b[1;32m    191\u001b[0m         \u001b[0;32mreturn\u001b[0m \u001b[0mself\u001b[0m\u001b[0;34m\u001b[0m\u001b[0m\n",
      "\u001b[0;32m/usr/local/lib/python3.5/site-packages/sklearn/externals/joblib/parallel.py\u001b[0m in \u001b[0;36m__call__\u001b[0;34m(self, iterable)\u001b[0m\n\u001b[1;32m    777\u001b[0m             \u001b[0;31m# was dispatched. In particular this covers the edge\u001b[0m\u001b[0;34m\u001b[0m\u001b[0;34m\u001b[0m\u001b[0m\n\u001b[1;32m    778\u001b[0m             \u001b[0;31m# case of Parallel used with an exhausted iterator.\u001b[0m\u001b[0;34m\u001b[0m\u001b[0;34m\u001b[0m\u001b[0m\n\u001b[0;32m--> 779\u001b[0;31m             \u001b[0;32mwhile\u001b[0m \u001b[0mself\u001b[0m\u001b[0;34m.\u001b[0m\u001b[0mdispatch_one_batch\u001b[0m\u001b[0;34m(\u001b[0m\u001b[0miterator\u001b[0m\u001b[0;34m)\u001b[0m\u001b[0;34m:\u001b[0m\u001b[0;34m\u001b[0m\u001b[0m\n\u001b[0m\u001b[1;32m    780\u001b[0m                 \u001b[0mself\u001b[0m\u001b[0;34m.\u001b[0m\u001b[0m_iterating\u001b[0m \u001b[0;34m=\u001b[0m \u001b[0;32mTrue\u001b[0m\u001b[0;34m\u001b[0m\u001b[0m\n\u001b[1;32m    781\u001b[0m             \u001b[0;32melse\u001b[0m\u001b[0;34m:\u001b[0m\u001b[0;34m\u001b[0m\u001b[0m\n",
      "\u001b[0;32m/usr/local/lib/python3.5/site-packages/sklearn/externals/joblib/parallel.py\u001b[0m in \u001b[0;36mdispatch_one_batch\u001b[0;34m(self, iterator)\u001b[0m\n\u001b[1;32m    623\u001b[0m                 \u001b[0;32mreturn\u001b[0m \u001b[0;32mFalse\u001b[0m\u001b[0;34m\u001b[0m\u001b[0m\n\u001b[1;32m    624\u001b[0m             \u001b[0;32melse\u001b[0m\u001b[0;34m:\u001b[0m\u001b[0;34m\u001b[0m\u001b[0m\n\u001b[0;32m--> 625\u001b[0;31m                 \u001b[0mself\u001b[0m\u001b[0;34m.\u001b[0m\u001b[0m_dispatch\u001b[0m\u001b[0;34m(\u001b[0m\u001b[0mtasks\u001b[0m\u001b[0;34m)\u001b[0m\u001b[0;34m\u001b[0m\u001b[0m\n\u001b[0m\u001b[1;32m    626\u001b[0m                 \u001b[0;32mreturn\u001b[0m \u001b[0;32mTrue\u001b[0m\u001b[0;34m\u001b[0m\u001b[0m\n\u001b[1;32m    627\u001b[0m \u001b[0;34m\u001b[0m\u001b[0m\n",
      "\u001b[0;32m/usr/local/lib/python3.5/site-packages/sklearn/externals/joblib/parallel.py\u001b[0m in \u001b[0;36m_dispatch\u001b[0;34m(self, batch)\u001b[0m\n\u001b[1;32m    586\u001b[0m         \u001b[0mdispatch_timestamp\u001b[0m \u001b[0;34m=\u001b[0m \u001b[0mtime\u001b[0m\u001b[0;34m.\u001b[0m\u001b[0mtime\u001b[0m\u001b[0;34m(\u001b[0m\u001b[0;34m)\u001b[0m\u001b[0;34m\u001b[0m\u001b[0m\n\u001b[1;32m    587\u001b[0m         \u001b[0mcb\u001b[0m \u001b[0;34m=\u001b[0m \u001b[0mBatchCompletionCallBack\u001b[0m\u001b[0;34m(\u001b[0m\u001b[0mdispatch_timestamp\u001b[0m\u001b[0;34m,\u001b[0m \u001b[0mlen\u001b[0m\u001b[0;34m(\u001b[0m\u001b[0mbatch\u001b[0m\u001b[0;34m)\u001b[0m\u001b[0;34m,\u001b[0m \u001b[0mself\u001b[0m\u001b[0;34m)\u001b[0m\u001b[0;34m\u001b[0m\u001b[0m\n\u001b[0;32m--> 588\u001b[0;31m         \u001b[0mjob\u001b[0m \u001b[0;34m=\u001b[0m \u001b[0mself\u001b[0m\u001b[0;34m.\u001b[0m\u001b[0m_backend\u001b[0m\u001b[0;34m.\u001b[0m\u001b[0mapply_async\u001b[0m\u001b[0;34m(\u001b[0m\u001b[0mbatch\u001b[0m\u001b[0;34m,\u001b[0m \u001b[0mcallback\u001b[0m\u001b[0;34m=\u001b[0m\u001b[0mcb\u001b[0m\u001b[0;34m)\u001b[0m\u001b[0;34m\u001b[0m\u001b[0m\n\u001b[0m\u001b[1;32m    589\u001b[0m         \u001b[0mself\u001b[0m\u001b[0;34m.\u001b[0m\u001b[0m_jobs\u001b[0m\u001b[0;34m.\u001b[0m\u001b[0mappend\u001b[0m\u001b[0;34m(\u001b[0m\u001b[0mjob\u001b[0m\u001b[0;34m)\u001b[0m\u001b[0;34m\u001b[0m\u001b[0m\n\u001b[1;32m    590\u001b[0m \u001b[0;34m\u001b[0m\u001b[0m\n",
      "\u001b[0;32m/usr/local/lib/python3.5/site-packages/sklearn/externals/joblib/_parallel_backends.py\u001b[0m in \u001b[0;36mapply_async\u001b[0;34m(self, func, callback)\u001b[0m\n\u001b[1;32m    109\u001b[0m     \u001b[0;32mdef\u001b[0m \u001b[0mapply_async\u001b[0m\u001b[0;34m(\u001b[0m\u001b[0mself\u001b[0m\u001b[0;34m,\u001b[0m \u001b[0mfunc\u001b[0m\u001b[0;34m,\u001b[0m \u001b[0mcallback\u001b[0m\u001b[0;34m=\u001b[0m\u001b[0;32mNone\u001b[0m\u001b[0;34m)\u001b[0m\u001b[0;34m:\u001b[0m\u001b[0;34m\u001b[0m\u001b[0m\n\u001b[1;32m    110\u001b[0m         \u001b[0;34m\"\"\"Schedule a func to be run\"\"\"\u001b[0m\u001b[0;34m\u001b[0m\u001b[0m\n\u001b[0;32m--> 111\u001b[0;31m         \u001b[0mresult\u001b[0m \u001b[0;34m=\u001b[0m \u001b[0mImmediateResult\u001b[0m\u001b[0;34m(\u001b[0m\u001b[0mfunc\u001b[0m\u001b[0;34m)\u001b[0m\u001b[0;34m\u001b[0m\u001b[0m\n\u001b[0m\u001b[1;32m    112\u001b[0m         \u001b[0;32mif\u001b[0m \u001b[0mcallback\u001b[0m\u001b[0;34m:\u001b[0m\u001b[0;34m\u001b[0m\u001b[0m\n\u001b[1;32m    113\u001b[0m             \u001b[0mcallback\u001b[0m\u001b[0;34m(\u001b[0m\u001b[0mresult\u001b[0m\u001b[0;34m)\u001b[0m\u001b[0;34m\u001b[0m\u001b[0m\n",
      "\u001b[0;32m/usr/local/lib/python3.5/site-packages/sklearn/externals/joblib/_parallel_backends.py\u001b[0m in \u001b[0;36m__init__\u001b[0;34m(self, batch)\u001b[0m\n\u001b[1;32m    330\u001b[0m         \u001b[0;31m# Don't delay the application, to avoid keeping the input\u001b[0m\u001b[0;34m\u001b[0m\u001b[0;34m\u001b[0m\u001b[0m\n\u001b[1;32m    331\u001b[0m         \u001b[0;31m# arguments in memory\u001b[0m\u001b[0;34m\u001b[0m\u001b[0;34m\u001b[0m\u001b[0m\n\u001b[0;32m--> 332\u001b[0;31m         \u001b[0mself\u001b[0m\u001b[0;34m.\u001b[0m\u001b[0mresults\u001b[0m \u001b[0;34m=\u001b[0m \u001b[0mbatch\u001b[0m\u001b[0;34m(\u001b[0m\u001b[0;34m)\u001b[0m\u001b[0;34m\u001b[0m\u001b[0m\n\u001b[0m\u001b[1;32m    333\u001b[0m \u001b[0;34m\u001b[0m\u001b[0m\n\u001b[1;32m    334\u001b[0m     \u001b[0;32mdef\u001b[0m \u001b[0mget\u001b[0m\u001b[0;34m(\u001b[0m\u001b[0mself\u001b[0m\u001b[0;34m)\u001b[0m\u001b[0;34m:\u001b[0m\u001b[0;34m\u001b[0m\u001b[0m\n",
      "\u001b[0;32m/usr/local/lib/python3.5/site-packages/sklearn/externals/joblib/parallel.py\u001b[0m in \u001b[0;36m__call__\u001b[0;34m(self)\u001b[0m\n\u001b[1;32m    129\u001b[0m \u001b[0;34m\u001b[0m\u001b[0m\n\u001b[1;32m    130\u001b[0m     \u001b[0;32mdef\u001b[0m \u001b[0m__call__\u001b[0m\u001b[0;34m(\u001b[0m\u001b[0mself\u001b[0m\u001b[0;34m)\u001b[0m\u001b[0;34m:\u001b[0m\u001b[0;34m\u001b[0m\u001b[0m\n\u001b[0;32m--> 131\u001b[0;31m         \u001b[0;32mreturn\u001b[0m \u001b[0;34m[\u001b[0m\u001b[0mfunc\u001b[0m\u001b[0;34m(\u001b[0m\u001b[0;34m*\u001b[0m\u001b[0margs\u001b[0m\u001b[0;34m,\u001b[0m \u001b[0;34m**\u001b[0m\u001b[0mkwargs\u001b[0m\u001b[0;34m)\u001b[0m \u001b[0;32mfor\u001b[0m \u001b[0mfunc\u001b[0m\u001b[0;34m,\u001b[0m \u001b[0margs\u001b[0m\u001b[0;34m,\u001b[0m \u001b[0mkwargs\u001b[0m \u001b[0;32min\u001b[0m \u001b[0mself\u001b[0m\u001b[0;34m.\u001b[0m\u001b[0mitems\u001b[0m\u001b[0;34m]\u001b[0m\u001b[0;34m\u001b[0m\u001b[0m\n\u001b[0m\u001b[1;32m    132\u001b[0m \u001b[0;34m\u001b[0m\u001b[0m\n\u001b[1;32m    133\u001b[0m     \u001b[0;32mdef\u001b[0m \u001b[0m__len__\u001b[0m\u001b[0;34m(\u001b[0m\u001b[0mself\u001b[0m\u001b[0;34m)\u001b[0m\u001b[0;34m:\u001b[0m\u001b[0;34m\u001b[0m\u001b[0m\n",
      "\u001b[0;32m/usr/local/lib/python3.5/site-packages/sklearn/externals/joblib/parallel.py\u001b[0m in \u001b[0;36m<listcomp>\u001b[0;34m(.0)\u001b[0m\n\u001b[1;32m    129\u001b[0m \u001b[0;34m\u001b[0m\u001b[0m\n\u001b[1;32m    130\u001b[0m     \u001b[0;32mdef\u001b[0m \u001b[0m__call__\u001b[0m\u001b[0;34m(\u001b[0m\u001b[0mself\u001b[0m\u001b[0;34m)\u001b[0m\u001b[0;34m:\u001b[0m\u001b[0;34m\u001b[0m\u001b[0m\n\u001b[0;32m--> 131\u001b[0;31m         \u001b[0;32mreturn\u001b[0m \u001b[0;34m[\u001b[0m\u001b[0mfunc\u001b[0m\u001b[0;34m(\u001b[0m\u001b[0;34m*\u001b[0m\u001b[0margs\u001b[0m\u001b[0;34m,\u001b[0m \u001b[0;34m**\u001b[0m\u001b[0mkwargs\u001b[0m\u001b[0;34m)\u001b[0m \u001b[0;32mfor\u001b[0m \u001b[0mfunc\u001b[0m\u001b[0;34m,\u001b[0m \u001b[0margs\u001b[0m\u001b[0;34m,\u001b[0m \u001b[0mkwargs\u001b[0m \u001b[0;32min\u001b[0m \u001b[0mself\u001b[0m\u001b[0;34m.\u001b[0m\u001b[0mitems\u001b[0m\u001b[0;34m]\u001b[0m\u001b[0;34m\u001b[0m\u001b[0m\n\u001b[0m\u001b[1;32m    132\u001b[0m \u001b[0;34m\u001b[0m\u001b[0m\n\u001b[1;32m    133\u001b[0m     \u001b[0;32mdef\u001b[0m \u001b[0m__len__\u001b[0m\u001b[0;34m(\u001b[0m\u001b[0mself\u001b[0m\u001b[0;34m)\u001b[0m\u001b[0;34m:\u001b[0m\u001b[0;34m\u001b[0m\u001b[0m\n",
      "\u001b[0;32m/usr/local/lib/python3.5/site-packages/sklearn/ensemble/voting_classifier.py\u001b[0m in \u001b[0;36m_parallel_fit_estimator\u001b[0;34m(estimator, X, y, sample_weight)\u001b[0m\n\u001b[1;32m     29\u001b[0m         \u001b[0mestimator\u001b[0m\u001b[0;34m.\u001b[0m\u001b[0mfit\u001b[0m\u001b[0;34m(\u001b[0m\u001b[0mX\u001b[0m\u001b[0;34m,\u001b[0m \u001b[0my\u001b[0m\u001b[0;34m,\u001b[0m \u001b[0msample_weight\u001b[0m\u001b[0;34m=\u001b[0m\u001b[0msample_weight\u001b[0m\u001b[0;34m)\u001b[0m\u001b[0;34m\u001b[0m\u001b[0m\n\u001b[1;32m     30\u001b[0m     \u001b[0;32melse\u001b[0m\u001b[0;34m:\u001b[0m\u001b[0;34m\u001b[0m\u001b[0m\n\u001b[0;32m---> 31\u001b[0;31m         \u001b[0mestimator\u001b[0m\u001b[0;34m.\u001b[0m\u001b[0mfit\u001b[0m\u001b[0;34m(\u001b[0m\u001b[0mX\u001b[0m\u001b[0;34m,\u001b[0m \u001b[0my\u001b[0m\u001b[0;34m)\u001b[0m\u001b[0;34m\u001b[0m\u001b[0m\n\u001b[0m\u001b[1;32m     32\u001b[0m     \u001b[0;32mreturn\u001b[0m \u001b[0mestimator\u001b[0m\u001b[0;34m\u001b[0m\u001b[0m\n\u001b[1;32m     33\u001b[0m \u001b[0;34m\u001b[0m\u001b[0m\n",
      "\u001b[0;32m/usr/local/lib/python3.5/site-packages/sklearn/model_selection/_search.py\u001b[0m in \u001b[0;36mfit\u001b[0;34m(self, X, y, groups, **fit_params)\u001b[0m\n\u001b[1;32m    637\u001b[0m                                   error_score=self.error_score)\n\u001b[1;32m    638\u001b[0m           for parameters, (train, test) in product(candidate_params,\n\u001b[0;32m--> 639\u001b[0;31m                                                    cv.split(X, y, groups)))\n\u001b[0m\u001b[1;32m    640\u001b[0m \u001b[0;34m\u001b[0m\u001b[0m\n\u001b[1;32m    641\u001b[0m         \u001b[0;31m# if one choose to see train score, \"out\" will contain train score info\u001b[0m\u001b[0;34m\u001b[0m\u001b[0;34m\u001b[0m\u001b[0m\n",
      "\u001b[0;32m/usr/local/lib/python3.5/site-packages/sklearn/externals/joblib/parallel.py\u001b[0m in \u001b[0;36m__call__\u001b[0;34m(self, iterable)\u001b[0m\n\u001b[1;32m    777\u001b[0m             \u001b[0;31m# was dispatched. In particular this covers the edge\u001b[0m\u001b[0;34m\u001b[0m\u001b[0;34m\u001b[0m\u001b[0m\n\u001b[1;32m    778\u001b[0m             \u001b[0;31m# case of Parallel used with an exhausted iterator.\u001b[0m\u001b[0;34m\u001b[0m\u001b[0;34m\u001b[0m\u001b[0m\n\u001b[0;32m--> 779\u001b[0;31m             \u001b[0;32mwhile\u001b[0m \u001b[0mself\u001b[0m\u001b[0;34m.\u001b[0m\u001b[0mdispatch_one_batch\u001b[0m\u001b[0;34m(\u001b[0m\u001b[0miterator\u001b[0m\u001b[0;34m)\u001b[0m\u001b[0;34m:\u001b[0m\u001b[0;34m\u001b[0m\u001b[0m\n\u001b[0m\u001b[1;32m    780\u001b[0m                 \u001b[0mself\u001b[0m\u001b[0;34m.\u001b[0m\u001b[0m_iterating\u001b[0m \u001b[0;34m=\u001b[0m \u001b[0;32mTrue\u001b[0m\u001b[0;34m\u001b[0m\u001b[0m\n\u001b[1;32m    781\u001b[0m             \u001b[0;32melse\u001b[0m\u001b[0;34m:\u001b[0m\u001b[0;34m\u001b[0m\u001b[0m\n",
      "\u001b[0;32m/usr/local/lib/python3.5/site-packages/sklearn/externals/joblib/parallel.py\u001b[0m in \u001b[0;36mdispatch_one_batch\u001b[0;34m(self, iterator)\u001b[0m\n\u001b[1;32m    623\u001b[0m                 \u001b[0;32mreturn\u001b[0m \u001b[0;32mFalse\u001b[0m\u001b[0;34m\u001b[0m\u001b[0m\n\u001b[1;32m    624\u001b[0m             \u001b[0;32melse\u001b[0m\u001b[0;34m:\u001b[0m\u001b[0;34m\u001b[0m\u001b[0m\n\u001b[0;32m--> 625\u001b[0;31m                 \u001b[0mself\u001b[0m\u001b[0;34m.\u001b[0m\u001b[0m_dispatch\u001b[0m\u001b[0;34m(\u001b[0m\u001b[0mtasks\u001b[0m\u001b[0;34m)\u001b[0m\u001b[0;34m\u001b[0m\u001b[0m\n\u001b[0m\u001b[1;32m    626\u001b[0m                 \u001b[0;32mreturn\u001b[0m \u001b[0;32mTrue\u001b[0m\u001b[0;34m\u001b[0m\u001b[0m\n\u001b[1;32m    627\u001b[0m \u001b[0;34m\u001b[0m\u001b[0m\n",
      "\u001b[0;32m/usr/local/lib/python3.5/site-packages/sklearn/externals/joblib/parallel.py\u001b[0m in \u001b[0;36m_dispatch\u001b[0;34m(self, batch)\u001b[0m\n\u001b[1;32m    586\u001b[0m         \u001b[0mdispatch_timestamp\u001b[0m \u001b[0;34m=\u001b[0m \u001b[0mtime\u001b[0m\u001b[0;34m.\u001b[0m\u001b[0mtime\u001b[0m\u001b[0;34m(\u001b[0m\u001b[0;34m)\u001b[0m\u001b[0;34m\u001b[0m\u001b[0m\n\u001b[1;32m    587\u001b[0m         \u001b[0mcb\u001b[0m \u001b[0;34m=\u001b[0m \u001b[0mBatchCompletionCallBack\u001b[0m\u001b[0;34m(\u001b[0m\u001b[0mdispatch_timestamp\u001b[0m\u001b[0;34m,\u001b[0m \u001b[0mlen\u001b[0m\u001b[0;34m(\u001b[0m\u001b[0mbatch\u001b[0m\u001b[0;34m)\u001b[0m\u001b[0;34m,\u001b[0m \u001b[0mself\u001b[0m\u001b[0;34m)\u001b[0m\u001b[0;34m\u001b[0m\u001b[0m\n\u001b[0;32m--> 588\u001b[0;31m         \u001b[0mjob\u001b[0m \u001b[0;34m=\u001b[0m \u001b[0mself\u001b[0m\u001b[0;34m.\u001b[0m\u001b[0m_backend\u001b[0m\u001b[0;34m.\u001b[0m\u001b[0mapply_async\u001b[0m\u001b[0;34m(\u001b[0m\u001b[0mbatch\u001b[0m\u001b[0;34m,\u001b[0m \u001b[0mcallback\u001b[0m\u001b[0;34m=\u001b[0m\u001b[0mcb\u001b[0m\u001b[0;34m)\u001b[0m\u001b[0;34m\u001b[0m\u001b[0m\n\u001b[0m\u001b[1;32m    589\u001b[0m         \u001b[0mself\u001b[0m\u001b[0;34m.\u001b[0m\u001b[0m_jobs\u001b[0m\u001b[0;34m.\u001b[0m\u001b[0mappend\u001b[0m\u001b[0;34m(\u001b[0m\u001b[0mjob\u001b[0m\u001b[0;34m)\u001b[0m\u001b[0;34m\u001b[0m\u001b[0m\n\u001b[1;32m    590\u001b[0m \u001b[0;34m\u001b[0m\u001b[0m\n",
      "\u001b[0;32m/usr/local/lib/python3.5/site-packages/sklearn/externals/joblib/_parallel_backends.py\u001b[0m in \u001b[0;36mapply_async\u001b[0;34m(self, func, callback)\u001b[0m\n\u001b[1;32m    109\u001b[0m     \u001b[0;32mdef\u001b[0m \u001b[0mapply_async\u001b[0m\u001b[0;34m(\u001b[0m\u001b[0mself\u001b[0m\u001b[0;34m,\u001b[0m \u001b[0mfunc\u001b[0m\u001b[0;34m,\u001b[0m \u001b[0mcallback\u001b[0m\u001b[0;34m=\u001b[0m\u001b[0;32mNone\u001b[0m\u001b[0;34m)\u001b[0m\u001b[0;34m:\u001b[0m\u001b[0;34m\u001b[0m\u001b[0m\n\u001b[1;32m    110\u001b[0m         \u001b[0;34m\"\"\"Schedule a func to be run\"\"\"\u001b[0m\u001b[0;34m\u001b[0m\u001b[0m\n\u001b[0;32m--> 111\u001b[0;31m         \u001b[0mresult\u001b[0m \u001b[0;34m=\u001b[0m \u001b[0mImmediateResult\u001b[0m\u001b[0;34m(\u001b[0m\u001b[0mfunc\u001b[0m\u001b[0;34m)\u001b[0m\u001b[0;34m\u001b[0m\u001b[0m\n\u001b[0m\u001b[1;32m    112\u001b[0m         \u001b[0;32mif\u001b[0m \u001b[0mcallback\u001b[0m\u001b[0;34m:\u001b[0m\u001b[0;34m\u001b[0m\u001b[0m\n\u001b[1;32m    113\u001b[0m             \u001b[0mcallback\u001b[0m\u001b[0;34m(\u001b[0m\u001b[0mresult\u001b[0m\u001b[0;34m)\u001b[0m\u001b[0;34m\u001b[0m\u001b[0m\n",
      "\u001b[0;32m/usr/local/lib/python3.5/site-packages/sklearn/externals/joblib/_parallel_backends.py\u001b[0m in \u001b[0;36m__init__\u001b[0;34m(self, batch)\u001b[0m\n\u001b[1;32m    330\u001b[0m         \u001b[0;31m# Don't delay the application, to avoid keeping the input\u001b[0m\u001b[0;34m\u001b[0m\u001b[0;34m\u001b[0m\u001b[0m\n\u001b[1;32m    331\u001b[0m         \u001b[0;31m# arguments in memory\u001b[0m\u001b[0;34m\u001b[0m\u001b[0;34m\u001b[0m\u001b[0m\n\u001b[0;32m--> 332\u001b[0;31m         \u001b[0mself\u001b[0m\u001b[0;34m.\u001b[0m\u001b[0mresults\u001b[0m \u001b[0;34m=\u001b[0m \u001b[0mbatch\u001b[0m\u001b[0;34m(\u001b[0m\u001b[0;34m)\u001b[0m\u001b[0;34m\u001b[0m\u001b[0m\n\u001b[0m\u001b[1;32m    333\u001b[0m \u001b[0;34m\u001b[0m\u001b[0m\n\u001b[1;32m    334\u001b[0m     \u001b[0;32mdef\u001b[0m \u001b[0mget\u001b[0m\u001b[0;34m(\u001b[0m\u001b[0mself\u001b[0m\u001b[0;34m)\u001b[0m\u001b[0;34m:\u001b[0m\u001b[0;34m\u001b[0m\u001b[0m\n",
      "\u001b[0;32m/usr/local/lib/python3.5/site-packages/sklearn/externals/joblib/parallel.py\u001b[0m in \u001b[0;36m__call__\u001b[0;34m(self)\u001b[0m\n\u001b[1;32m    129\u001b[0m \u001b[0;34m\u001b[0m\u001b[0m\n\u001b[1;32m    130\u001b[0m     \u001b[0;32mdef\u001b[0m \u001b[0m__call__\u001b[0m\u001b[0;34m(\u001b[0m\u001b[0mself\u001b[0m\u001b[0;34m)\u001b[0m\u001b[0;34m:\u001b[0m\u001b[0;34m\u001b[0m\u001b[0m\n\u001b[0;32m--> 131\u001b[0;31m         \u001b[0;32mreturn\u001b[0m \u001b[0;34m[\u001b[0m\u001b[0mfunc\u001b[0m\u001b[0;34m(\u001b[0m\u001b[0;34m*\u001b[0m\u001b[0margs\u001b[0m\u001b[0;34m,\u001b[0m \u001b[0;34m**\u001b[0m\u001b[0mkwargs\u001b[0m\u001b[0;34m)\u001b[0m \u001b[0;32mfor\u001b[0m \u001b[0mfunc\u001b[0m\u001b[0;34m,\u001b[0m \u001b[0margs\u001b[0m\u001b[0;34m,\u001b[0m \u001b[0mkwargs\u001b[0m \u001b[0;32min\u001b[0m \u001b[0mself\u001b[0m\u001b[0;34m.\u001b[0m\u001b[0mitems\u001b[0m\u001b[0;34m]\u001b[0m\u001b[0;34m\u001b[0m\u001b[0m\n\u001b[0m\u001b[1;32m    132\u001b[0m \u001b[0;34m\u001b[0m\u001b[0m\n\u001b[1;32m    133\u001b[0m     \u001b[0;32mdef\u001b[0m \u001b[0m__len__\u001b[0m\u001b[0;34m(\u001b[0m\u001b[0mself\u001b[0m\u001b[0;34m)\u001b[0m\u001b[0;34m:\u001b[0m\u001b[0;34m\u001b[0m\u001b[0m\n",
      "\u001b[0;32m/usr/local/lib/python3.5/site-packages/sklearn/externals/joblib/parallel.py\u001b[0m in \u001b[0;36m<listcomp>\u001b[0;34m(.0)\u001b[0m\n\u001b[1;32m    129\u001b[0m \u001b[0;34m\u001b[0m\u001b[0m\n\u001b[1;32m    130\u001b[0m     \u001b[0;32mdef\u001b[0m \u001b[0m__call__\u001b[0m\u001b[0;34m(\u001b[0m\u001b[0mself\u001b[0m\u001b[0;34m)\u001b[0m\u001b[0;34m:\u001b[0m\u001b[0;34m\u001b[0m\u001b[0m\n\u001b[0;32m--> 131\u001b[0;31m         \u001b[0;32mreturn\u001b[0m \u001b[0;34m[\u001b[0m\u001b[0mfunc\u001b[0m\u001b[0;34m(\u001b[0m\u001b[0;34m*\u001b[0m\u001b[0margs\u001b[0m\u001b[0;34m,\u001b[0m \u001b[0;34m**\u001b[0m\u001b[0mkwargs\u001b[0m\u001b[0;34m)\u001b[0m \u001b[0;32mfor\u001b[0m \u001b[0mfunc\u001b[0m\u001b[0;34m,\u001b[0m \u001b[0margs\u001b[0m\u001b[0;34m,\u001b[0m \u001b[0mkwargs\u001b[0m \u001b[0;32min\u001b[0m \u001b[0mself\u001b[0m\u001b[0;34m.\u001b[0m\u001b[0mitems\u001b[0m\u001b[0;34m]\u001b[0m\u001b[0;34m\u001b[0m\u001b[0m\n\u001b[0m\u001b[1;32m    132\u001b[0m \u001b[0;34m\u001b[0m\u001b[0m\n\u001b[1;32m    133\u001b[0m     \u001b[0;32mdef\u001b[0m \u001b[0m__len__\u001b[0m\u001b[0;34m(\u001b[0m\u001b[0mself\u001b[0m\u001b[0;34m)\u001b[0m\u001b[0;34m:\u001b[0m\u001b[0;34m\u001b[0m\u001b[0m\n",
      "\u001b[0;32m/usr/local/lib/python3.5/site-packages/sklearn/model_selection/_validation.py\u001b[0m in \u001b[0;36m_fit_and_score\u001b[0;34m(estimator, X, y, scorer, train, test, verbose, parameters, fit_params, return_train_score, return_parameters, return_n_test_samples, return_times, error_score)\u001b[0m\n\u001b[1;32m    456\u001b[0m             \u001b[0mestimator\u001b[0m\u001b[0;34m.\u001b[0m\u001b[0mfit\u001b[0m\u001b[0;34m(\u001b[0m\u001b[0mX_train\u001b[0m\u001b[0;34m,\u001b[0m \u001b[0;34m**\u001b[0m\u001b[0mfit_params\u001b[0m\u001b[0;34m)\u001b[0m\u001b[0;34m\u001b[0m\u001b[0m\n\u001b[1;32m    457\u001b[0m         \u001b[0;32melse\u001b[0m\u001b[0;34m:\u001b[0m\u001b[0;34m\u001b[0m\u001b[0m\n\u001b[0;32m--> 458\u001b[0;31m             \u001b[0mestimator\u001b[0m\u001b[0;34m.\u001b[0m\u001b[0mfit\u001b[0m\u001b[0;34m(\u001b[0m\u001b[0mX_train\u001b[0m\u001b[0;34m,\u001b[0m \u001b[0my_train\u001b[0m\u001b[0;34m,\u001b[0m \u001b[0;34m**\u001b[0m\u001b[0mfit_params\u001b[0m\u001b[0;34m)\u001b[0m\u001b[0;34m\u001b[0m\u001b[0m\n\u001b[0m\u001b[1;32m    459\u001b[0m \u001b[0;34m\u001b[0m\u001b[0m\n\u001b[1;32m    460\u001b[0m     \u001b[0;32mexcept\u001b[0m \u001b[0mException\u001b[0m \u001b[0;32mas\u001b[0m \u001b[0me\u001b[0m\u001b[0;34m:\u001b[0m\u001b[0;34m\u001b[0m\u001b[0m\n",
      "\u001b[0;32m/usr/local/lib/python3.5/site-packages/sklearn/tree/tree.py\u001b[0m in \u001b[0;36mfit\u001b[0;34m(self, X, y, sample_weight, check_input, X_idx_sorted)\u001b[0m\n\u001b[1;32m    788\u001b[0m             \u001b[0msample_weight\u001b[0m\u001b[0;34m=\u001b[0m\u001b[0msample_weight\u001b[0m\u001b[0;34m,\u001b[0m\u001b[0;34m\u001b[0m\u001b[0m\n\u001b[1;32m    789\u001b[0m             \u001b[0mcheck_input\u001b[0m\u001b[0;34m=\u001b[0m\u001b[0mcheck_input\u001b[0m\u001b[0;34m,\u001b[0m\u001b[0;34m\u001b[0m\u001b[0m\n\u001b[0;32m--> 790\u001b[0;31m             X_idx_sorted=X_idx_sorted)\n\u001b[0m\u001b[1;32m    791\u001b[0m         \u001b[0;32mreturn\u001b[0m \u001b[0mself\u001b[0m\u001b[0;34m\u001b[0m\u001b[0m\n\u001b[1;32m    792\u001b[0m \u001b[0;34m\u001b[0m\u001b[0m\n",
      "\u001b[0;32m/usr/local/lib/python3.5/site-packages/sklearn/tree/tree.py\u001b[0m in \u001b[0;36mfit\u001b[0;34m(self, X, y, sample_weight, check_input, X_idx_sorted)\u001b[0m\n\u001b[1;32m    360\u001b[0m                                            min_impurity_split)\n\u001b[1;32m    361\u001b[0m \u001b[0;34m\u001b[0m\u001b[0m\n\u001b[0;32m--> 362\u001b[0;31m         \u001b[0mbuilder\u001b[0m\u001b[0;34m.\u001b[0m\u001b[0mbuild\u001b[0m\u001b[0;34m(\u001b[0m\u001b[0mself\u001b[0m\u001b[0;34m.\u001b[0m\u001b[0mtree_\u001b[0m\u001b[0;34m,\u001b[0m \u001b[0mX\u001b[0m\u001b[0;34m,\u001b[0m \u001b[0my\u001b[0m\u001b[0;34m,\u001b[0m \u001b[0msample_weight\u001b[0m\u001b[0;34m,\u001b[0m \u001b[0mX_idx_sorted\u001b[0m\u001b[0;34m)\u001b[0m\u001b[0;34m\u001b[0m\u001b[0m\n\u001b[0m\u001b[1;32m    363\u001b[0m \u001b[0;34m\u001b[0m\u001b[0m\n\u001b[1;32m    364\u001b[0m         \u001b[0;32mif\u001b[0m \u001b[0mself\u001b[0m\u001b[0;34m.\u001b[0m\u001b[0mn_outputs_\u001b[0m \u001b[0;34m==\u001b[0m \u001b[0;36m1\u001b[0m\u001b[0;34m:\u001b[0m\u001b[0;34m\u001b[0m\u001b[0m\n",
      "\u001b[0;31mKeyboardInterrupt\u001b[0m: "
     ]
    }
   ],
   "source": [
    "%%time\n",
    "\n",
    "estimators = [('NB', model_naive), ('DT', model_treeGrid), ('RF', model_forest)]\n",
    "votingClass = VotingClassifier(estimators)\n",
    "votingClass.fit(X_train, y_train)\n",
    "pred_ens = votingClass.predict(X_test)"
   ]
  },
  {
   "cell_type": "code",
   "execution_count": null,
   "metadata": {},
   "outputs": [],
   "source": [
    "for clf, label in zip([model_naive, model_treeGrid, model_forest, votingClass], ['Naive Bayes','Decision Tree', 'Random Forest', 'Ensemble']):\n",
    "    scores = cross_val_score(clf, X, y, cv=5, scoring='accuracy')\n",
    "    print(\"Accuracy: %0.2f (+/- %0.2f) [%s]\" % (scores.mean(), scores.std(), label))"
   ]
  },
  {
   "cell_type": "code",
   "execution_count": 74,
   "metadata": {},
   "outputs": [
    {
     "data": {
      "text/plain": [
       "0.8138773418370252"
      ]
     },
     "execution_count": 74,
     "metadata": {},
     "output_type": "execute_result"
    }
   ],
   "source": [
    "accuracy_score(y_test, pred_ens)"
   ]
  },
  {
   "cell_type": "code",
   "execution_count": 75,
   "metadata": {},
   "outputs": [
    {
     "data": {
      "text/plain": [
       "array([[  169,    77,     0, ...,     0,     0,     0],\n",
       "       [   56, 13652,     6, ...,   217,     2,     3],\n",
       "       [    0,     2,    16, ...,     0,     0,     0],\n",
       "       ...,\n",
       "       [    9,   123,     0, ..., 10233,     0,     2],\n",
       "       [    0,    79,     0, ...,    26,  7366,     1],\n",
       "       [    3,   154,     3, ...,     2,    16,   549]])"
      ]
     },
     "execution_count": 75,
     "metadata": {},
     "output_type": "execute_result"
    }
   ],
   "source": [
    "confusion_matrix(y_test, pred_ens)"
   ]
  },
  {
   "cell_type": "code",
   "execution_count": 87,
   "metadata": {},
   "outputs": [
    {
     "name": "stdout",
     "output_type": "stream",
     "text": [
      "                             precision    recall  f1-score   support\n",
      "\n",
      "                      ARSON       0.38      0.43      0.40       280\n",
      "                    ASSAULT       0.73      0.90      0.81     15498\n",
      "                 BAD CHECKS       0.15      0.20      0.17        75\n",
      "                    BRIBERY       0.21      0.13      0.16        55\n",
      "                   BURGLARY       0.84      0.99      0.91      7427\n",
      "         DISORDERLY CONDUCT       0.50      0.51      0.51       929\n",
      "DRIVING UNDER THE INFLUENCE       0.32      0.87      0.47       447\n",
      "              DRUG/NARCOTIC       0.73      0.93      0.82     10676\n",
      "                DRUNKENNESS       0.59      0.78      0.67       872\n",
      "               EMBEZZLEMENT       0.33      0.32      0.32       236\n",
      "                  EXTORTION       0.11      0.08      0.09        50\n",
      "            FAMILY OFFENSES       0.25      0.17      0.20       101\n",
      "     FORGERY/COUNTERFEITING       0.60      0.61      0.61      2125\n",
      "                      FRAUD       0.66      0.64      0.65      3230\n",
      "                   GAMBLING       0.18      0.06      0.09        33\n",
      "                 KIDNAPPING       0.19      0.15      0.17       452\n",
      "              LARCENY/THEFT       0.87      0.97      0.91     34857\n",
      "                LIQUOR LAWS       0.42      0.21      0.28       361\n",
      "                  LOITERING       0.79      0.51      0.62       250\n",
      "             MISSING PERSON       0.91      0.83      0.87      5236\n",
      "               NON-CRIMINAL       0.88      0.86      0.87     18232\n",
      "             OTHER OFFENSES       0.80      0.75      0.78     25726\n",
      "    PORNOGRAPHY/OBSCENE MAT       0.00      0.00      0.00         3\n",
      "               PROSTITUTION       0.95      0.84      0.89      1511\n",
      "          RECOVERED VEHICLE       0.73      0.54      0.62       605\n",
      "                    ROBBERY       0.93      0.64      0.76      4597\n",
      "                    RUNAWAY       0.94      0.91      0.92       375\n",
      "            SECONDARY CODES       0.81      0.29      0.42      1996\n",
      "      SEX OFFENSES FORCIBLE       0.59      0.12      0.20       898\n",
      "  SEX OFFENSES NON FORCIBLE       0.00      0.00      0.00        26\n",
      "            STOLEN PROPERTY       0.72      0.25      0.36       902\n",
      "                    SUICIDE       0.75      0.34      0.47        96\n",
      "             SUSPICIOUS OCC       0.96      0.77      0.86      6283\n",
      "                       TREA       0.00      0.00      0.00         1\n",
      "                   TRESPASS       0.89      0.42      0.57      1410\n",
      "                  VANDALISM       0.96      0.85      0.91      9083\n",
      "              VEHICLE THEFT       0.92      0.95      0.93     10582\n",
      "                   WARRANTS       0.99      0.83      0.90      8378\n",
      "                WEAPON LAWS       0.89      0.27      0.41      1716\n",
      "\n",
      "                avg / total       0.84      0.83      0.83    175610\n",
      "\n"
     ]
    },
    {
     "name": "stderr",
     "output_type": "stream",
     "text": [
      "/usr/local/lib/python3.5/site-packages/sklearn/metrics/classification.py:1135: UndefinedMetricWarning: Precision and F-score are ill-defined and being set to 0.0 in labels with no predicted samples.\n",
      "  'precision', 'predicted', average, warn_for)\n"
     ]
    }
   ],
   "source": [
    "print(classification_report(y_test, pred_ens, target_names=sorted_names))"
   ]
  }
 ],
 "metadata": {
  "kernelspec": {
   "display_name": "Python 3",
   "language": "python",
   "name": "python3"
  },
  "language_info": {
   "codemirror_mode": {
    "name": "ipython",
    "version": 3
   },
   "file_extension": ".py",
   "mimetype": "text/x-python",
   "name": "python",
   "nbconvert_exporter": "python",
   "pygments_lexer": "ipython3",
   "version": "3.5.1"
  }
 },
 "nbformat": 4,
 "nbformat_minor": 2
}
