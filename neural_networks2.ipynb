{
 "cells": [
  {
   "cell_type": "code",
   "execution_count": 2,
   "metadata": {},
   "outputs": [],
   "source": [
    "%matplotlib inline\n",
    "import pandas as pd\n",
    "import dask.dataframe as dd\n",
    "from dask_ml.preprocessing import DummyEncoder\n",
    "import numpy as np\n",
    "import altair as alt\n",
    "import seaborn as sns\n",
    "import math\n",
    "\n",
    "from mpl_toolkits.mplot3d import Axes3D\n",
    "from matplotlib import pyplot as plt\n",
    "\n",
    "from sklearn.preprocessing import LabelEncoder\n",
    "from sklearn.preprocessing import StandardScaler\n",
    "from sklearn.pipeline import Pipeline\n",
    "from sklearn.model_selection import train_test_split\n",
    "from sklearn.metrics import classification_report, confusion_matrix, accuracy_score, roc_auc_score\n",
    "from sklearn import metrics\n",
    "\n",
    "from sklearn.decomposition import PCA\n",
    "from sklearn.cluster import KMeans\n",
    "from sklearn.linear_model import LinearRegression\n",
    "from sklearn import svm\n",
    "from sklearn.neural_network import MLPClassifier\n",
    "\n",
    "import random\n",
    "\n",
    "plt.style.use('ggplot')"
   ]
  },
  {
   "cell_type": "markdown",
   "metadata": {},
   "source": [
    "# The Perceptron\n",
    "\n",
    "Based on a simple (the simplest) nerual net.\n",
    "\n",
    "![http://i.stack.imgur.com/KUvpQ.png](http://i.stack.imgur.com/KUvpQ.png)\n",
    "\n",
    "\n",
    "$h(x) = sign((\\sum{w_ix_i}) - threshold)$\n",
    "\n",
    "Can simplify by adding an artificial coordinate $x_0$ and $w_0$  where $x_0 = 1$ \n",
    "\n",
    "This makes it easy\n",
    "\n",
    "$h(x) = sign(\\sum{w_ix_i})$\n",
    "\n",
    "or in vector notation\n",
    "\n",
    "$h(x) = sign(w \\cdot x)$\n",
    "\n"
   ]
  },
  {
   "cell_type": "markdown",
   "metadata": {},
   "source": [
    "## So, how is this a learning system?\n",
    "\n",
    "We need a learning algorithm\n",
    "\n",
    "Supervised Learning requires a training set where we have some data and we know the answer.\n",
    "\n",
    "1. Given a training set of $\\vec x,\\vec y$\n",
    "2. Classify all of the points in $\\vec x$\n",
    "3. Pick a point $n$ from $\\vec x$ that was misclassified\n",
    "4. update the weight vector $\\vec w$ using: $\\vec w = \\vec w + y_n \\vec x$\n",
    "\n",
    "Repeat 2 -- 4 until all points are classified correctly.  OR at some upper limit of iteration.\n"
   ]
  },
  {
   "cell_type": "markdown",
   "metadata": {},
   "source": [
    "#### The McCulloch and Pitts neuron is a binary threshold device. It sums up the inputs (multiplied by the synaptic strengths or weights) and either ﬁres (produces output 1) or does not ﬁre (produces output 0) depending on whether the input is above some threshold."
   ]
  },
  {
   "cell_type": "markdown",
   "metadata": {},
   "source": [
    "## numpy tidbits"
   ]
  },
  {
   "cell_type": "markdown",
   "metadata": {},
   "source": [
    "#### making an array of randomly generated numbers between 0 and 1"
   ]
  },
  {
   "cell_type": "code",
   "execution_count": 3,
   "metadata": {},
   "outputs": [
    {
     "data": {
      "text/plain": [
       "array([0.09088202, 0.20334489])"
      ]
     },
     "execution_count": 3,
     "metadata": {},
     "output_type": "execute_result"
    }
   ],
   "source": [
    "np.array([random.random() for x in range(2)])"
   ]
  },
  {
   "cell_type": "code",
   "execution_count": 4,
   "metadata": {},
   "outputs": [
    {
     "data": {
      "text/plain": [
       "array([2, 3, 4])"
      ]
     },
     "execution_count": 4,
     "metadata": {},
     "output_type": "execute_result"
    }
   ],
   "source": [
    "np.array([2, 3, 4])"
   ]
  },
  {
   "cell_type": "markdown",
   "metadata": {},
   "source": [
    "#### inserting number into index 0 of a list"
   ]
  },
  {
   "cell_type": "code",
   "execution_count": 5,
   "metadata": {},
   "outputs": [
    {
     "data": {
      "text/plain": [
       "array([[1., 1., 2.],\n",
       "       [1., 4., 7.],\n",
       "       [1., 9., 4.],\n",
       "       [1., 5., 3.]])"
      ]
     },
     "execution_count": 5,
     "metadata": {},
     "output_type": "execute_result"
    }
   ],
   "source": [
    "ii = [(1, 2), (4, 7), (9, 4), (5, 3)]\n",
    "np.c_[np.array([1.0]*len(ii)), ii]    "
   ]
  },
  {
   "cell_type": "code",
   "execution_count": 68,
   "metadata": {},
   "outputs": [
    {
     "data": {
      "text/plain": [
       "array([[ 1.,  4.,  1.],\n",
       "       [ 1.,  4., 10.],\n",
       "       [ 1.,  3.,  5.]])"
      ]
     },
     "execution_count": 68,
     "metadata": {},
     "output_type": "execute_result"
    }
   ],
   "source": [
    "asdf = [(4, 1), (4, 10), (3, 5),]\n",
    "\n",
    "np.c_[[1.0]*len(asdf), asdf]"
   ]
  },
  {
   "cell_type": "markdown",
   "metadata": {},
   "source": [
    "#### array of just zeros"
   ]
  },
  {
   "cell_type": "code",
   "execution_count": 7,
   "metadata": {},
   "outputs": [
    {
     "data": {
      "text/plain": [
       "array([0., 0., 0.])"
      ]
     },
     "execution_count": 7,
     "metadata": {},
     "output_type": "execute_result"
    }
   ],
   "source": [
    "np.zeros(3)"
   ]
  },
  {
   "cell_type": "markdown",
   "metadata": {},
   "source": [
    "#### regular lists concatenate, numpy arrays add its contents together to from new numbers"
   ]
  },
  {
   "cell_type": "code",
   "execution_count": 9,
   "metadata": {},
   "outputs": [
    {
     "name": "stdout",
     "output_type": "stream",
     "text": [
      "[1, 2, 3, 5, 6, 7]\n"
     ]
    }
   ],
   "source": [
    "# regular lists concaten\n",
    "e = [1,2,3]\n",
    "f = [5,6,7]\n",
    "f = e + f\n",
    "print(f)"
   ]
  },
  {
   "cell_type": "code",
   "execution_count": 10,
   "metadata": {},
   "outputs": [
    {
     "name": "stdout",
     "output_type": "stream",
     "text": [
      "[2 3 4]\n"
     ]
    }
   ],
   "source": [
    "# np arrays\n",
    "p = np.array([1, 2, 3])\n",
    "c = np.array([1, 1, 1])\n",
    "# print(p, c)\n",
    "print(p + c)"
   ]
  },
  {
   "cell_type": "markdown",
   "metadata": {},
   "source": [
    "#### The sign function returns -1 if x < 0, 0 if x==0, 1 if x > 0. nan is returned for nan inputs"
   ]
  },
  {
   "cell_type": "code",
   "execution_count": 11,
   "metadata": {},
   "outputs": [
    {
     "name": "stdout",
     "output_type": "stream",
     "text": [
      "-1\n",
      "0\n",
      "1\n",
      "nan\n"
     ]
    }
   ],
   "source": [
    "print(np.sign(-32))\n",
    "print(np.sign(0))\n",
    "print(np.sign(8))\n",
    "print(np.nan)"
   ]
  },
  {
   "cell_type": "markdown",
   "metadata": {},
   "source": [
    "#### np.dot does a product of two arrays"
   ]
  },
  {
   "cell_type": "code",
   "execution_count": 13,
   "metadata": {},
   "outputs": [
    {
     "data": {
      "text/plain": [
       "1.6310000000000002"
      ]
     },
     "execution_count": 13,
     "metadata": {},
     "output_type": "execute_result"
    }
   ],
   "source": [
    "np.dot([1,2,3], [1.124, .003, .167])"
   ]
  },
  {
   "cell_type": "markdown",
   "metadata": {},
   "source": [
    "#### enumerate() returns a tuple"
   ]
  },
  {
   "cell_type": "code",
   "execution_count": 15,
   "metadata": {},
   "outputs": [
    {
     "name": "stdout",
     "output_type": "stream",
     "text": [
      "[(0, 'hellow'), (1, 'world')]\n"
     ]
    }
   ],
   "source": [
    "bb = ['hellow', 'world']\n",
    "print(list(enumerate(bb))) # I turned it into a list in order to get a readable print statement, otherwise the enumerate \n",
    "                           # object would have been returned"
   ]
  },
  {
   "cell_type": "markdown",
   "metadata": {},
   "source": [
    "#### misc"
   ]
  },
  {
   "cell_type": "code",
   "execution_count": 16,
   "metadata": {},
   "outputs": [
    {
     "name": "stdout",
     "output_type": "stream",
     "text": [
      "[-1 -3 -7]\n",
      "[]\n"
     ]
    }
   ],
   "source": [
    "print(np.array([1, 3, 7])*[-1])\n",
    "print([1, 3, 7]*-1)"
   ]
  },
  {
   "cell_type": "markdown",
   "metadata": {},
   "source": [
    "## taking a look at the fit method outside of the Perceptron class"
   ]
  },
  {
   "cell_type": "code",
   "execution_count": 70,
   "metadata": {},
   "outputs": [
    {
     "name": "stdout",
     "output_type": "stream",
     "text": [
      "ix:  0\n",
      "i:  [1. 4. 1.]\n",
      "np.sign(np.dot(i, w)):  1.0\n",
      "y[ix]:  0\n",
      "ix:  1\n",
      "i:  [ 1.  4. 10.]\n",
      "np.sign(np.dot(i, w)):  1.0\n",
      "y[ix]:  0\n",
      "ix:  2\n",
      "i:  [1. 3. 5.]\n",
      "np.sign(np.dot(i, w)):  1.0\n",
      "y[ix]:  0\n",
      "ix:  3\n",
      "i:  [1. 4. 4.]\n",
      "np.sign(np.dot(i, w)):  1.0\n",
      "y[ix]:  0\n",
      "ix:  4\n",
      "i:  [ 1.  8. 10.]\n",
      "np.sign(np.dot(i, w)):  1.0\n",
      "y[ix]:  0\n",
      "ix:  5\n",
      "i:  [1. 6. 9.]\n",
      "np.sign(np.dot(i, w)):  1.0\n",
      "y[ix]:  0\n",
      "ix:  6\n",
      "i:  [ 1.  7. 11.]\n",
      "np.sign(np.dot(i, w)):  1.0\n",
      "y[ix]:  0\n",
      "ix:  7\n",
      "i:  [1. 5. 7.]\n",
      "np.sign(np.dot(i, w)):  1.0\n",
      "y[ix]:  0\n",
      "ix:  8\n",
      "i:  [1. 4. 2.]\n",
      "np.sign(np.dot(i, w)):  1.0\n",
      "y[ix]:  0\n",
      "ix:  9\n",
      "i:  [1. 2. 3.]\n",
      "np.sign(np.dot(i, w)):  1.0\n",
      "y[ix]:  0\n",
      "ix:  10\n",
      "i:  [1. 7. 6.]\n",
      "np.sign(np.dot(i, w)):  1.0\n",
      "y[ix]:  0\n"
     ]
    }
   ],
   "source": [
    "def addBias(data):\n",
    "    return np.c_[[1.0]*len(data), data]\n",
    "\n",
    "x = addBias(pts)\n",
    "w = np.array([random.random() for x in range(len(x[0]))])\n",
    "# print(x)\n",
    "# print('~~~~~~~~~~~~~~~~~~~~~~')\n",
    "# 0, (1, 4, 1)\n",
    "for ix,i in enumerate(x):\n",
    "    print(\"ix: \", ix)\n",
    "    print(\"i: \", i)\n",
    "    print(\"np.sign(np.dot(i, w)): \", np.sign(np.dot(i, w)))\n",
    "    print(\"y[ix]: \", y[ix])\n",
    "    if np.sign(np.dot(i, w)) != y[ix]:\n",
    "#         print(\"w before: \", w)\n",
    "#         print(\"w = \" + str(w) + \" + \" + str(i) + \"*\" + str(y) + \"[\" + str(ix) + \"]\")\n",
    "        w = w + i*y[ix]\n",
    "#         print(\"w after: \", w)"
   ]
  },
  {
   "cell_type": "code",
   "execution_count": 17,
   "metadata": {},
   "outputs": [],
   "source": [
    "#Some sample data\n",
    "pts = [(4, 1),\n",
    " (4, 10),\n",
    " (3, 5),\n",
    " (4, 4),\n",
    " (8, 10),\n",
    " (6, 9),\n",
    " (7, 11),\n",
    " (5, 7),\n",
    " (4, 2),\n",
    " (2, 3),\n",
    " (7, 6)\n",
    "      ]\n",
    "\n",
    "y = [-1, 1, -1, -1, 1, 1, 1, 1, -1, -1, 1]"
   ]
  },
  {
   "cell_type": "code",
   "execution_count": 64,
   "metadata": {},
   "outputs": [],
   "source": [
    "class Perceptron:\n",
    "    def __init__(self):\n",
    "        self.w = []\n",
    "    \n",
    "    def fit(self, x, y):\n",
    "        self.x = x\n",
    "        self.y = y\n",
    "        \n",
    "        # insert a bias of 1 into each row in x\n",
    "        self.x = self.addBias(self.x)\n",
    "        \n",
    "        # num of weights is equal to items per row in x + bias\n",
    "        self.w = np.array([random.random() for x in range(len(self.x[0]))])\n",
    "        \n",
    "        for i in range(1000):\n",
    "            # ix, i --> 0, (1, 4, 1)\n",
    "            for ix,j in enumerate(self.x):\n",
    "                # np.dot multiplies the row and weights, np.sign returns 1 if > 0 else 0, check if not equal \n",
    "                    # to self.y[ix]\n",
    "#                 print(\"j: \", j)\n",
    "#                 print(\"ix: \", ix)\n",
    "#                 print(\"y[ix]: \", self.y[ix])\n",
    "#                 print(\"self.w: \", self.w)\n",
    "#                 print(\"np.dot(i, self.w): \", np.dot(i, self.w))\n",
    "#                 print(\"np.sign(np.dot(i, self.w)): \", np.sign(np.dot(i, self.w)))\n",
    "#                 print(\"self.y[ix]: \", self.y[ix])\n",
    "                if np.sign(np.dot(j, self.w)) != self.y[ix]:\n",
    "#                     ex: [0.8417449  0.92459656 0.75276383] + [1. 4. 1.]*[-1, 1, -1, -1, 1, 1, 1, 1, -1, -1, 1][0]\n",
    "#                     because these two arrays are np objects, they will add together \n",
    "#                         NOT concatenate like regular arrays\n",
    "                    self.w = self.w + j*self.y[ix] # update the weights\n",
    "#                 print('~~~~')\n",
    "                                \n",
    "    def addBias(self, data):\n",
    "        return np.c_[[1.0]*len(data), data]\n",
    "    \n",
    "    def predict(self, test):\n",
    "        test = self.addBias(test)\n",
    "#         print(test)\n",
    "#         print(\"in predict row: \", row)\n",
    "        predictions = []\n",
    "        for pt in test:\n",
    "            predictions.append(np.sign(np.dot(pt, self.w)))\n",
    "        return predictions\n",
    "    \n",
    "    def getWeights(self):\n",
    "        return self.w\n",
    "\n",
    "\n",
    "# CLASS NOTES\n",
    "# initial weights are randomly chosen between -1 and 1\n",
    "# make sure to add a bias column of 1\n",
    "# once you have dot prod, pass through sign function, if sum of product is > 0, its 1, else 0"
   ]
  },
  {
   "cell_type": "code",
   "execution_count": 19,
   "metadata": {},
   "outputs": [],
   "source": [
    "train = pd.DataFrame(pts).values\n",
    "# train"
   ]
  },
  {
   "cell_type": "code",
   "execution_count": 20,
   "metadata": {},
   "outputs": [
    {
     "data": {
      "text/plain": [
       "array([[1, 1],\n",
       "       [8, 8]])"
      ]
     },
     "execution_count": 20,
     "metadata": {},
     "output_type": "execute_result"
    }
   ],
   "source": [
    "np.array([np.array([1,1]), np.array([8,8])])"
   ]
  },
  {
   "cell_type": "code",
   "execution_count": 30,
   "metadata": {},
   "outputs": [],
   "source": [
    "# misc \n",
    "# percept.predict(np.array([np.array([1,1]), np.array([8,8])], ndmin=2))"
   ]
  },
  {
   "cell_type": "markdown",
   "metadata": {},
   "source": [
    "# Iris data with Perceptron class"
   ]
  },
  {
   "cell_type": "code",
   "execution_count": 38,
   "metadata": {},
   "outputs": [
    {
     "data": {
      "text/html": [
       "<div>\n",
       "<style scoped>\n",
       "    .dataframe tbody tr th:only-of-type {\n",
       "        vertical-align: middle;\n",
       "    }\n",
       "\n",
       "    .dataframe tbody tr th {\n",
       "        vertical-align: top;\n",
       "    }\n",
       "\n",
       "    .dataframe thead th {\n",
       "        text-align: right;\n",
       "    }\n",
       "</style>\n",
       "<table border=\"1\" class=\"dataframe\">\n",
       "  <thead>\n",
       "    <tr style=\"text-align: right;\">\n",
       "      <th></th>\n",
       "      <th>sepal_length</th>\n",
       "      <th>sepal_width</th>\n",
       "      <th>petal_length</th>\n",
       "      <th>petal_width</th>\n",
       "      <th>name</th>\n",
       "    </tr>\n",
       "  </thead>\n",
       "  <tbody>\n",
       "    <tr>\n",
       "      <th>0</th>\n",
       "      <td>5.1</td>\n",
       "      <td>3.5</td>\n",
       "      <td>1.4</td>\n",
       "      <td>0.2</td>\n",
       "      <td>Iris-setosa</td>\n",
       "    </tr>\n",
       "    <tr>\n",
       "      <th>1</th>\n",
       "      <td>4.9</td>\n",
       "      <td>3.0</td>\n",
       "      <td>1.4</td>\n",
       "      <td>0.2</td>\n",
       "      <td>Iris-setosa</td>\n",
       "    </tr>\n",
       "    <tr>\n",
       "      <th>2</th>\n",
       "      <td>4.7</td>\n",
       "      <td>3.2</td>\n",
       "      <td>1.3</td>\n",
       "      <td>0.2</td>\n",
       "      <td>Iris-setosa</td>\n",
       "    </tr>\n",
       "    <tr>\n",
       "      <th>3</th>\n",
       "      <td>4.6</td>\n",
       "      <td>3.1</td>\n",
       "      <td>1.5</td>\n",
       "      <td>0.2</td>\n",
       "      <td>Iris-setosa</td>\n",
       "    </tr>\n",
       "    <tr>\n",
       "      <th>4</th>\n",
       "      <td>5.0</td>\n",
       "      <td>3.6</td>\n",
       "      <td>1.4</td>\n",
       "      <td>0.2</td>\n",
       "      <td>Iris-setosa</td>\n",
       "    </tr>\n",
       "  </tbody>\n",
       "</table>\n",
       "</div>"
      ],
      "text/plain": [
       "   sepal_length  sepal_width  petal_length  petal_width         name\n",
       "0           5.1          3.5           1.4          0.2  Iris-setosa\n",
       "1           4.9          3.0           1.4          0.2  Iris-setosa\n",
       "2           4.7          3.2           1.3          0.2  Iris-setosa\n",
       "3           4.6          3.1           1.5          0.2  Iris-setosa\n",
       "4           5.0          3.6           1.4          0.2  Iris-setosa"
      ]
     },
     "execution_count": 38,
     "metadata": {},
     "output_type": "execute_result"
    }
   ],
   "source": [
    "iris = pd.read_csv('Data/iris.csv')\n",
    "iris.head()"
   ]
  },
  {
   "cell_type": "code",
   "execution_count": 39,
   "metadata": {},
   "outputs": [
    {
     "data": {
      "text/html": [
       "<div>\n",
       "<style scoped>\n",
       "    .dataframe tbody tr th:only-of-type {\n",
       "        vertical-align: middle;\n",
       "    }\n",
       "\n",
       "    .dataframe tbody tr th {\n",
       "        vertical-align: top;\n",
       "    }\n",
       "\n",
       "    .dataframe thead th {\n",
       "        text-align: right;\n",
       "    }\n",
       "</style>\n",
       "<table border=\"1\" class=\"dataframe\">\n",
       "  <thead>\n",
       "    <tr style=\"text-align: right;\">\n",
       "      <th></th>\n",
       "      <th>sepal_length</th>\n",
       "      <th>sepal_width</th>\n",
       "      <th>petal_length</th>\n",
       "      <th>petal_width</th>\n",
       "      <th>name</th>\n",
       "    </tr>\n",
       "  </thead>\n",
       "  <tbody>\n",
       "    <tr>\n",
       "      <th>0</th>\n",
       "      <td>5.1</td>\n",
       "      <td>3.5</td>\n",
       "      <td>1.4</td>\n",
       "      <td>0.2</td>\n",
       "      <td>0</td>\n",
       "    </tr>\n",
       "    <tr>\n",
       "      <th>1</th>\n",
       "      <td>4.9</td>\n",
       "      <td>3.0</td>\n",
       "      <td>1.4</td>\n",
       "      <td>0.2</td>\n",
       "      <td>0</td>\n",
       "    </tr>\n",
       "    <tr>\n",
       "      <th>2</th>\n",
       "      <td>4.7</td>\n",
       "      <td>3.2</td>\n",
       "      <td>1.3</td>\n",
       "      <td>0.2</td>\n",
       "      <td>0</td>\n",
       "    </tr>\n",
       "    <tr>\n",
       "      <th>3</th>\n",
       "      <td>4.6</td>\n",
       "      <td>3.1</td>\n",
       "      <td>1.5</td>\n",
       "      <td>0.2</td>\n",
       "      <td>0</td>\n",
       "    </tr>\n",
       "    <tr>\n",
       "      <th>4</th>\n",
       "      <td>5.0</td>\n",
       "      <td>3.6</td>\n",
       "      <td>1.4</td>\n",
       "      <td>0.2</td>\n",
       "      <td>0</td>\n",
       "    </tr>\n",
       "  </tbody>\n",
       "</table>\n",
       "</div>"
      ],
      "text/plain": [
       "   sepal_length  sepal_width  petal_length  petal_width  name\n",
       "0           5.1          3.5           1.4          0.2     0\n",
       "1           4.9          3.0           1.4          0.2     0\n",
       "2           4.7          3.2           1.3          0.2     0\n",
       "3           4.6          3.1           1.5          0.2     0\n",
       "4           5.0          3.6           1.4          0.2     0"
      ]
     },
     "execution_count": 39,
     "metadata": {},
     "output_type": "execute_result"
    }
   ],
   "source": [
    "# label encode iris data\n",
    "irisencode = iris\n",
    "labelencoder = LabelEncoder()\n",
    "irisencode['name'] = labelencoder.fit_transform(irisencode['name'])\n",
    "irisencode.head()"
   ]
  },
  {
   "cell_type": "code",
   "execution_count": 60,
   "metadata": {},
   "outputs": [],
   "source": [
    "X = irisencode.iloc[:, 0:3] \n",
    "y = irisencode.iloc[:, 4]\n",
    "\n",
    "X_train, X_test, y_train, y_test = train_test_split(X, y, test_size=0.2)"
   ]
  },
  {
   "cell_type": "code",
   "execution_count": 66,
   "metadata": {},
   "outputs": [],
   "source": [
    "percept = Perceptron()\n",
    "percept.fit(X_train.values, y_train.values)\n",
    "percpt_pred = percept.predict(X_test)"
   ]
  },
  {
   "cell_type": "code",
   "execution_count": 71,
   "metadata": {},
   "outputs": [
    {
     "data": {
      "text/plain": [
       "0.3"
      ]
     },
     "execution_count": 71,
     "metadata": {},
     "output_type": "execute_result"
    }
   ],
   "source": [
    "accuracy_score(y_test, percpt_pred) # poor accuracy score because the Perceptron is not build to handle multi-class classification"
   ]
  },
  {
   "cell_type": "code",
   "execution_count": null,
   "metadata": {},
   "outputs": [],
   "source": []
  }
 ],
 "metadata": {
  "kernelspec": {
   "display_name": "Python 3",
   "language": "python",
   "name": "python3"
  },
  "language_info": {
   "codemirror_mode": {
    "name": "ipython",
    "version": 3
   },
   "file_extension": ".py",
   "mimetype": "text/x-python",
   "name": "python",
   "nbconvert_exporter": "python",
   "pygments_lexer": "ipython3",
   "version": "3.5.1"
  }
 },
 "nbformat": 4,
 "nbformat_minor": 2
}
