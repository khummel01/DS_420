{
 "cells": [
  {
   "cell_type": "code",
   "execution_count": 506,
   "metadata": {},
   "outputs": [],
   "source": [
    "%matplotlib inline\n",
    "import pandas as pd\n",
    "import dask.dataframe as dd\n",
    "from dask_ml.preprocessing import DummyEncoder\n",
    "import numpy as np\n",
    "import altair as alt\n",
    "import seaborn as sns\n",
    "import math\n",
    "\n",
    "from mpl_toolkits.mplot3d import Axes3D\n",
    "from matplotlib import pyplot as plt\n",
    "\n",
    "from sklearn.preprocessing import LabelEncoder\n",
    "from sklearn.preprocessing import StandardScaler\n",
    "from sklearn.pipeline import Pipeline\n",
    "from sklearn.model_selection import train_test_split\n",
    "from sklearn.metrics import classification_report, confusion_matrix, accuracy_score, roc_auc_score\n",
    "from sklearn import metrics\n",
    "\n",
    "from sklearn.decomposition import PCA\n",
    "from sklearn.cluster import KMeans\n",
    "from sklearn.linear_model import LinearRegression\n",
    "from sklearn import svm\n",
    "from sklearn.neural_network import MLPClassifier\n",
    "from sklearn.model_selection import GridSearchCV\n",
    "from sklearn.ensemble import VotingClassifier\n",
    "\n",
    "import random\n",
    "\n",
    "plt.style.use('ggplot')"
   ]
  },
  {
   "cell_type": "markdown",
   "metadata": {},
   "source": [
    "# Midterm Follow-up"
   ]
  },
  {
   "cell_type": "markdown",
   "metadata": {},
   "source": [
    "### Starting from your mid-term project see if you can improve your recommendations by doing the following:\n",
    "\n",
    "- Do some exploratory data analysis on the incorrectly classified rows of data. What can you learn about this subset? How does it compare to the dataset as a whole or even look at how it compares to the set of correctly classified instances. Does this inspire any further preprocessing of the data or perhaps some additional variables that you could add? If so add them and investigate the results.\n",
    "- Use either the GridSearchCV or RandomizedSearchCV class to try to find the best values for the hyperparameters for one or more of your algorithms. You should use the sklearn documenation to select some hyper parameters as well as for the details of how to use the Grid or Randomized search models.\n",
    "- Finally, the ensemble learning idea could really help improve your results. That is use all three (or more) of your models and have them vote on the final classification. You can implement a simple Python class that provides a fit and predict method."
   ]
  },
  {
   "cell_type": "code",
   "execution_count": 507,
   "metadata": {},
   "outputs": [
    {
     "data": {
      "text/html": [
       "<div>\n",
       "<style scoped>\n",
       "    .dataframe tbody tr th:only-of-type {\n",
       "        vertical-align: middle;\n",
       "    }\n",
       "\n",
       "    .dataframe tbody tr th {\n",
       "        vertical-align: top;\n",
       "    }\n",
       "\n",
       "    .dataframe thead th {\n",
       "        text-align: right;\n",
       "    }\n",
       "</style>\n",
       "<table border=\"1\" class=\"dataframe\">\n",
       "  <thead>\n",
       "    <tr style=\"text-align: right;\">\n",
       "      <th></th>\n",
       "      <th>Dates</th>\n",
       "      <th>Category</th>\n",
       "      <th>Descript</th>\n",
       "      <th>DayOfWeek</th>\n",
       "      <th>PdDistrict</th>\n",
       "      <th>Resolution</th>\n",
       "      <th>Address</th>\n",
       "      <th>X</th>\n",
       "      <th>Y</th>\n",
       "    </tr>\n",
       "  </thead>\n",
       "  <tbody>\n",
       "    <tr>\n",
       "      <th>0</th>\n",
       "      <td>2015-05-13 23:53:00</td>\n",
       "      <td>WARRANTS</td>\n",
       "      <td>WARRANT ARREST</td>\n",
       "      <td>Wednesday</td>\n",
       "      <td>NORTHERN</td>\n",
       "      <td>ARREST, BOOKED</td>\n",
       "      <td>OAK ST / LAGUNA ST</td>\n",
       "      <td>-122.425892</td>\n",
       "      <td>37.774599</td>\n",
       "    </tr>\n",
       "    <tr>\n",
       "      <th>1</th>\n",
       "      <td>2015-05-13 23:53:00</td>\n",
       "      <td>OTHER OFFENSES</td>\n",
       "      <td>TRAFFIC VIOLATION ARREST</td>\n",
       "      <td>Wednesday</td>\n",
       "      <td>NORTHERN</td>\n",
       "      <td>ARREST, BOOKED</td>\n",
       "      <td>OAK ST / LAGUNA ST</td>\n",
       "      <td>-122.425892</td>\n",
       "      <td>37.774599</td>\n",
       "    </tr>\n",
       "    <tr>\n",
       "      <th>2</th>\n",
       "      <td>2015-05-13 23:33:00</td>\n",
       "      <td>OTHER OFFENSES</td>\n",
       "      <td>TRAFFIC VIOLATION ARREST</td>\n",
       "      <td>Wednesday</td>\n",
       "      <td>NORTHERN</td>\n",
       "      <td>ARREST, BOOKED</td>\n",
       "      <td>VANNESS AV / GREENWICH ST</td>\n",
       "      <td>-122.424363</td>\n",
       "      <td>37.800414</td>\n",
       "    </tr>\n",
       "    <tr>\n",
       "      <th>3</th>\n",
       "      <td>2015-05-13 23:30:00</td>\n",
       "      <td>LARCENY/THEFT</td>\n",
       "      <td>GRAND THEFT FROM LOCKED AUTO</td>\n",
       "      <td>Wednesday</td>\n",
       "      <td>NORTHERN</td>\n",
       "      <td>NONE</td>\n",
       "      <td>1500 Block of LOMBARD ST</td>\n",
       "      <td>-122.426995</td>\n",
       "      <td>37.800873</td>\n",
       "    </tr>\n",
       "    <tr>\n",
       "      <th>4</th>\n",
       "      <td>2015-05-13 23:30:00</td>\n",
       "      <td>LARCENY/THEFT</td>\n",
       "      <td>GRAND THEFT FROM LOCKED AUTO</td>\n",
       "      <td>Wednesday</td>\n",
       "      <td>PARK</td>\n",
       "      <td>NONE</td>\n",
       "      <td>100 Block of BRODERICK ST</td>\n",
       "      <td>-122.438738</td>\n",
       "      <td>37.771541</td>\n",
       "    </tr>\n",
       "  </tbody>\n",
       "</table>\n",
       "</div>"
      ],
      "text/plain": [
       "                Dates        Category                      Descript  \\\n",
       "0 2015-05-13 23:53:00        WARRANTS                WARRANT ARREST   \n",
       "1 2015-05-13 23:53:00  OTHER OFFENSES      TRAFFIC VIOLATION ARREST   \n",
       "2 2015-05-13 23:33:00  OTHER OFFENSES      TRAFFIC VIOLATION ARREST   \n",
       "3 2015-05-13 23:30:00   LARCENY/THEFT  GRAND THEFT FROM LOCKED AUTO   \n",
       "4 2015-05-13 23:30:00   LARCENY/THEFT  GRAND THEFT FROM LOCKED AUTO   \n",
       "\n",
       "   DayOfWeek PdDistrict      Resolution                    Address  \\\n",
       "0  Wednesday   NORTHERN  ARREST, BOOKED         OAK ST / LAGUNA ST   \n",
       "1  Wednesday   NORTHERN  ARREST, BOOKED         OAK ST / LAGUNA ST   \n",
       "2  Wednesday   NORTHERN  ARREST, BOOKED  VANNESS AV / GREENWICH ST   \n",
       "3  Wednesday   NORTHERN            NONE   1500 Block of LOMBARD ST   \n",
       "4  Wednesday       PARK            NONE  100 Block of BRODERICK ST   \n",
       "\n",
       "            X          Y  \n",
       "0 -122.425892  37.774599  \n",
       "1 -122.425892  37.774599  \n",
       "2 -122.424363  37.800414  \n",
       "3 -122.426995  37.800873  \n",
       "4 -122.438738  37.771541  "
      ]
     },
     "execution_count": 507,
     "metadata": {},
     "output_type": "execute_result"
    }
   ],
   "source": [
    "# 878049 rows x 9 columns\n",
    "data = pd.read_csv('crimetrain.csv', parse_dates=['Dates'])\n",
    "# train = pd.read_csv('crimetrain.csv')\n",
    "data.head()"
   ]
  },
  {
   "cell_type": "markdown",
   "metadata": {},
   "source": [
    "# Original Results"
   ]
  },
  {
   "cell_type": "code",
   "execution_count": 508,
   "metadata": {},
   "outputs": [
    {
     "data": {
      "text/html": [
       "<div>\n",
       "<style scoped>\n",
       "    .dataframe tbody tr th:only-of-type {\n",
       "        vertical-align: middle;\n",
       "    }\n",
       "\n",
       "    .dataframe tbody tr th {\n",
       "        vertical-align: top;\n",
       "    }\n",
       "\n",
       "    .dataframe thead th {\n",
       "        text-align: right;\n",
       "    }\n",
       "</style>\n",
       "<table border=\"1\" class=\"dataframe\">\n",
       "  <thead>\n",
       "    <tr style=\"text-align: right;\">\n",
       "      <th></th>\n",
       "      <th>Category</th>\n",
       "      <th>Descript</th>\n",
       "      <th>Dates</th>\n",
       "      <th>DayOfWeek</th>\n",
       "      <th>PdDistrict</th>\n",
       "      <th>Resolution</th>\n",
       "      <th>Address</th>\n",
       "      <th>X</th>\n",
       "      <th>Y</th>\n",
       "    </tr>\n",
       "  </thead>\n",
       "  <tbody>\n",
       "    <tr>\n",
       "      <th>0</th>\n",
       "      <td>WARRANTS</td>\n",
       "      <td>WARRANT ARREST</td>\n",
       "      <td>2015-05-13 23:53:00</td>\n",
       "      <td>Wednesday</td>\n",
       "      <td>NORTHERN</td>\n",
       "      <td>ARREST, BOOKED</td>\n",
       "      <td>OAK ST / LAGUNA ST</td>\n",
       "      <td>-122.425892</td>\n",
       "      <td>37.774599</td>\n",
       "    </tr>\n",
       "  </tbody>\n",
       "</table>\n",
       "</div>"
      ],
      "text/plain": [
       "   Category        Descript               Dates  DayOfWeek PdDistrict  \\\n",
       "0  WARRANTS  WARRANT ARREST 2015-05-13 23:53:00  Wednesday   NORTHERN   \n",
       "\n",
       "       Resolution             Address           X          Y  \n",
       "0  ARREST, BOOKED  OAK ST / LAGUNA ST -122.425892  37.774599  "
      ]
     },
     "execution_count": 508,
     "metadata": {},
     "output_type": "execute_result"
    }
   ],
   "source": [
    "datareorder = data[['Category', 'Descript', 'Dates', 'DayOfWeek', 'PdDistrict', 'Resolution', 'Address', 'X', 'Y']]\n",
    "datareorder.head(n=1)"
   ]
  },
  {
   "cell_type": "code",
   "execution_count": 509,
   "metadata": {},
   "outputs": [
    {
     "data": {
      "text/html": [
       "<div>\n",
       "<style scoped>\n",
       "    .dataframe tbody tr th:only-of-type {\n",
       "        vertical-align: middle;\n",
       "    }\n",
       "\n",
       "    .dataframe tbody tr th {\n",
       "        vertical-align: top;\n",
       "    }\n",
       "\n",
       "    .dataframe thead th {\n",
       "        text-align: right;\n",
       "    }\n",
       "</style>\n",
       "<table border=\"1\" class=\"dataframe\">\n",
       "  <thead>\n",
       "    <tr style=\"text-align: right;\">\n",
       "      <th></th>\n",
       "      <th>Category</th>\n",
       "      <th>Descript</th>\n",
       "      <th>Dates</th>\n",
       "      <th>DayOfWeek</th>\n",
       "      <th>PdDistrict</th>\n",
       "      <th>Resolution</th>\n",
       "      <th>Address</th>\n",
       "      <th>X</th>\n",
       "      <th>Y</th>\n",
       "    </tr>\n",
       "  </thead>\n",
       "  <tbody>\n",
       "    <tr>\n",
       "      <th>0</th>\n",
       "      <td>37</td>\n",
       "      <td>866</td>\n",
       "      <td>389256</td>\n",
       "      <td>6</td>\n",
       "      <td>4</td>\n",
       "      <td>0</td>\n",
       "      <td>19790</td>\n",
       "      <td>18787</td>\n",
       "      <td>23130</td>\n",
       "    </tr>\n",
       "    <tr>\n",
       "      <th>1</th>\n",
       "      <td>21</td>\n",
       "      <td>810</td>\n",
       "      <td>389256</td>\n",
       "      <td>6</td>\n",
       "      <td>4</td>\n",
       "      <td>0</td>\n",
       "      <td>19790</td>\n",
       "      <td>18787</td>\n",
       "      <td>23130</td>\n",
       "    </tr>\n",
       "    <tr>\n",
       "      <th>2</th>\n",
       "      <td>21</td>\n",
       "      <td>810</td>\n",
       "      <td>389255</td>\n",
       "      <td>6</td>\n",
       "      <td>4</td>\n",
       "      <td>0</td>\n",
       "      <td>22697</td>\n",
       "      <td>19317</td>\n",
       "      <td>32784</td>\n",
       "    </tr>\n",
       "    <tr>\n",
       "      <th>3</th>\n",
       "      <td>16</td>\n",
       "      <td>404</td>\n",
       "      <td>389254</td>\n",
       "      <td>6</td>\n",
       "      <td>4</td>\n",
       "      <td>11</td>\n",
       "      <td>4266</td>\n",
       "      <td>18403</td>\n",
       "      <td>32936</td>\n",
       "    </tr>\n",
       "    <tr>\n",
       "      <th>4</th>\n",
       "      <td>16</td>\n",
       "      <td>404</td>\n",
       "      <td>389254</td>\n",
       "      <td>6</td>\n",
       "      <td>5</td>\n",
       "      <td>11</td>\n",
       "      <td>1843</td>\n",
       "      <td>13848</td>\n",
       "      <td>21892</td>\n",
       "    </tr>\n",
       "  </tbody>\n",
       "</table>\n",
       "</div>"
      ],
      "text/plain": [
       "   Category  Descript   Dates  DayOfWeek  PdDistrict  Resolution  Address  \\\n",
       "0        37       866  389256          6           4           0    19790   \n",
       "1        21       810  389256          6           4           0    19790   \n",
       "2        21       810  389255          6           4           0    22697   \n",
       "3        16       404  389254          6           4          11     4266   \n",
       "4        16       404  389254          6           5          11     1843   \n",
       "\n",
       "       X      Y  \n",
       "0  18787  23130  \n",
       "1  18787  23130  \n",
       "2  19317  32784  \n",
       "3  18403  32936  \n",
       "4  13848  21892  "
      ]
     },
     "execution_count": 509,
     "metadata": {},
     "output_type": "execute_result"
    }
   ],
   "source": [
    "labelencoder = LabelEncoder()\n",
    "for col in datareorder.columns:\n",
    "    datareorder[col] = labelencoder.fit_transform(datareorder[col])\n",
    "# datareorder[datareorder.Category == 20]\n",
    "datareorder.head()"
   ]
  },
  {
   "cell_type": "code",
   "execution_count": 510,
   "metadata": {},
   "outputs": [],
   "source": [
    "from sklearn.naive_bayes import GaussianNB\n",
    "model_naive = GaussianNB()\n",
    "\n",
    "from sklearn.tree import DecisionTreeClassifier\n",
    "model_tree = DecisionTreeClassifier() # max_features=\"auto\"\n",
    "\n",
    "from sklearn.ensemble import RandomForestClassifier\n",
    "model_forest = RandomForestClassifier() # max_features=\"auto\""
   ]
  },
  {
   "cell_type": "code",
   "execution_count": 511,
   "metadata": {},
   "outputs": [],
   "source": [
    "X = datareorder.iloc[:, 1:] \n",
    "y = datareorder.iloc[:, 0]"
   ]
  },
  {
   "cell_type": "code",
   "execution_count": 512,
   "metadata": {},
   "outputs": [],
   "source": [
    "X_train, X_test, y_train, y_test = train_test_split(X, y, test_size=0.2)"
   ]
  },
  {
   "cell_type": "code",
   "execution_count": 513,
   "metadata": {},
   "outputs": [],
   "source": [
    "# GuassianNb\n",
    "model_naive.fit(X_train, y_train)\n",
    "nb_pred = model_naive.predict(X_test)\n",
    "\n",
    "# Decision Tree\n",
    "model_tree.fit(X_train, y_train)\n",
    "tree_pred = model_tree.predict(X_test)\n",
    "\n",
    "# Random Forest\n",
    "model_forest.fit(X_train, y_train)\n",
    "forest_pred = model_forest.predict(X_test)"
   ]
  },
  {
   "cell_type": "markdown",
   "metadata": {},
   "source": [
    "### Accuracy Scores"
   ]
  },
  {
   "cell_type": "code",
   "execution_count": 514,
   "metadata": {},
   "outputs": [
    {
     "name": "stdout",
     "output_type": "stream",
     "text": [
      "ACCURACY SCORES\n",
      "\n",
      "GuassianNb: 0.4372985593075565\n",
      "Decision Tree: 0.9994533340925915\n",
      "Random Forest: 0.9047833266898241\n"
     ]
    }
   ],
   "source": [
    "print(\"ACCURACY SCORES\")\n",
    "print()\n",
    "pred_names = [\"GuassianNb\", \"Decision Tree\", \"Random Forest\"]\n",
    "predictions = [nb_pred, tree_pred, forest_pred]\n",
    "for i in range(0, 3):\n",
    "    print(pred_names[i] + \": \" + str(accuracy_score(y_test, predictions[i])))"
   ]
  },
  {
   "cell_type": "code",
   "execution_count": 515,
   "metadata": {},
   "outputs": [
    {
     "data": {
      "text/plain": [
       "175610"
      ]
     },
     "execution_count": 515,
     "metadata": {},
     "output_type": "execute_result"
    }
   ],
   "source": [
    "len(forest_pred)"
   ]
  },
  {
   "cell_type": "markdown",
   "metadata": {},
   "source": [
    "### Confusion Matrices"
   ]
  },
  {
   "cell_type": "code",
   "execution_count": 516,
   "metadata": {},
   "outputs": [
    {
     "name": "stdout",
     "output_type": "stream",
     "text": [
      "CONFUSSION MATRICES\n",
      "\n",
      "GuassianNb:\n",
      "[[    0   125     0 ...     0     0     0]\n",
      " [    0  2107     0 ...  2434   327     0]\n",
      " [    0     0     0 ...     0     0     0]\n",
      " ...\n",
      " [    0     5     0 ... 10121    82     0]\n",
      " [    0    12     0 ...   276  2822     0]\n",
      " [    0    79     0 ...    34    10     0]]\n",
      "\n",
      "Decision Tree:\n",
      "[[  297     0     0 ...     0     0     0]\n",
      " [    0 15489     0 ...     0     0     0]\n",
      " [    0     0    91 ...     0     0     0]\n",
      " ...\n",
      " [    0     0     0 ... 10838     0     0]\n",
      " [    0     0     0 ...     0  8254     0]\n",
      " [    0     0     0 ...     0     0  1723]]\n",
      "\n",
      "Random Forest:\n",
      "[[  171    77     0 ...     0     0     0]\n",
      " [   30 14434     0 ...    30    18    16]\n",
      " [    0     3    15 ...     0     0     0]\n",
      " ...\n",
      " [    1   101     0 ... 10431     0     0]\n",
      " [    0    28     0 ...     5  7889     5]\n",
      " [    1    93     0 ...     1    52   859]]\n",
      "\n"
     ]
    }
   ],
   "source": [
    "print(\"CONFUSSION MATRICES\")\n",
    "print()\n",
    "pred_names = [\"GuassianNb\", \"Decision Tree\", \"Random Forest\"]\n",
    "predictions = [nb_pred, tree_pred, forest_pred]\n",
    "for i in range(0, 3):\n",
    "    print(pred_names[i] + \":\") \n",
    "    print(str(confusion_matrix(y_test, predictions[i])))\n",
    "    print()"
   ]
  },
  {
   "cell_type": "markdown",
   "metadata": {},
   "source": [
    "### Classification Reports"
   ]
  },
  {
   "cell_type": "code",
   "execution_count": 517,
   "metadata": {},
   "outputs": [
    {
     "name": "stdout",
     "output_type": "stream",
     "text": [
      "CLASSIFICATION REPORTS\n",
      "\n",
      "GuassianNb:\n",
      "                             precision    recall  f1-score   support\n",
      "\n",
      "                      ARSON       0.00      0.00      0.00       297\n",
      "                    ASSAULT       0.46      0.14      0.21     15526\n",
      "                 BAD CHECKS       0.00      0.00      0.00        91\n",
      "                    BRIBERY       0.00      0.00      0.00        54\n",
      "                   BURGLARY       0.46      0.94      0.62      7276\n",
      "         DISORDERLY CONDUCT       0.00      0.00      0.00       828\n",
      "DRIVING UNDER THE INFLUENCE       0.07      0.93      0.13       459\n",
      "              DRUG/NARCOTIC       0.48      0.72      0.58     10658\n",
      "                DRUNKENNESS       0.84      0.91      0.87       853\n",
      "               EMBEZZLEMENT       1.00      0.05      0.09       221\n",
      "                  EXTORTION       0.00      0.00      0.00        54\n",
      "            FAMILY OFFENSES       0.00      0.00      0.00       102\n",
      "     FORGERY/COUNTERFEITING       0.00      0.00      0.00      2136\n",
      "                      FRAUD       0.00      0.00      0.00      3309\n",
      "                   GAMBLING       0.00      0.00      0.00        26\n",
      "                 KIDNAPPING       0.00      0.00      0.00       441\n",
      "              LARCENY/THEFT       0.52      0.83      0.64     34982\n",
      "                LIQUOR LAWS       0.00      0.00      0.00       416\n",
      "                  LOITERING       0.00      0.00      0.00       254\n",
      "             MISSING PERSON       0.09      0.05      0.06      5231\n",
      "               NON-CRIMINAL       0.46      0.37      0.41     18628\n",
      "             OTHER OFFENSES       0.28      0.24      0.26     25323\n",
      "    PORNOGRAPHY/OBSCENE MAT       0.00      0.00      0.00         4\n",
      "               PROSTITUTION       0.51      0.40      0.45      1532\n",
      "          RECOVERED VEHICLE       0.88      0.03      0.06       653\n",
      "                    ROBBERY       0.00      0.00      0.00      4525\n",
      "                    RUNAWAY       0.61      0.74      0.67       391\n",
      "            SECONDARY CODES       0.00      0.00      0.00      2014\n",
      "      SEX OFFENSES FORCIBLE       0.00      0.00      0.00       878\n",
      "  SEX OFFENSES NON FORCIBLE       0.00      0.00      0.00        26\n",
      "            STOLEN PROPERTY       0.00      0.00      0.00       887\n",
      "                    SUICIDE       0.00      0.00      0.00        96\n",
      "             SUSPICIOUS OCC       0.09      0.02      0.03      6346\n",
      "                       TREA       0.00      0.00      0.00         2\n",
      "                   TRESPASS       0.00      0.00      0.00      1459\n",
      "                  VANDALISM       0.42      0.34      0.37      8814\n",
      "              VEHICLE THEFT       0.44      0.93      0.60     10838\n",
      "                   WARRANTS       0.50      0.34      0.41      8254\n",
      "                WEAPON LAWS       0.00      0.00      0.00      1726\n",
      "\n",
      "                avg / total       0.37      0.44      0.38    175610\n",
      "\n",
      "\n",
      "Decision Tree:\n",
      "                             precision    recall  f1-score   support\n",
      "\n",
      "                      ARSON       1.00      1.00      1.00       297\n",
      "                    ASSAULT       1.00      1.00      1.00     15526\n",
      "                 BAD CHECKS       1.00      1.00      1.00        91\n",
      "                    BRIBERY       1.00      1.00      1.00        54\n",
      "                   BURGLARY       1.00      1.00      1.00      7276\n",
      "         DISORDERLY CONDUCT       1.00      1.00      1.00       828\n",
      "DRIVING UNDER THE INFLUENCE       1.00      1.00      1.00       459\n",
      "              DRUG/NARCOTIC       1.00      1.00      1.00     10658\n",
      "                DRUNKENNESS       1.00      1.00      1.00       853\n",
      "               EMBEZZLEMENT       1.00      1.00      1.00       221\n",
      "                  EXTORTION       1.00      1.00      1.00        54\n",
      "            FAMILY OFFENSES       1.00      1.00      1.00       102\n",
      "     FORGERY/COUNTERFEITING       1.00      1.00      1.00      2136\n",
      "                      FRAUD       1.00      1.00      1.00      3309\n",
      "                   GAMBLING       1.00      1.00      1.00        26\n",
      "                 KIDNAPPING       0.93      0.92      0.93       441\n",
      "              LARCENY/THEFT       1.00      1.00      1.00     34982\n",
      "                LIQUOR LAWS       0.99      1.00      1.00       416\n",
      "                  LOITERING       1.00      1.00      1.00       254\n",
      "             MISSING PERSON       1.00      1.00      1.00      5231\n",
      "               NON-CRIMINAL       1.00      1.00      1.00     18628\n",
      "             OTHER OFFENSES       1.00      1.00      1.00     25323\n",
      "    PORNOGRAPHY/OBSCENE MAT       1.00      1.00      1.00         4\n",
      "               PROSTITUTION       1.00      1.00      1.00      1532\n",
      "          RECOVERED VEHICLE       1.00      1.00      1.00       653\n",
      "                    ROBBERY       1.00      1.00      1.00      4525\n",
      "                    RUNAWAY       1.00      1.00      1.00       391\n",
      "            SECONDARY CODES       1.00      1.00      1.00      2014\n",
      "      SEX OFFENSES FORCIBLE       1.00      1.00      1.00       878\n",
      "  SEX OFFENSES NON FORCIBLE       1.00      1.00      1.00        26\n",
      "            STOLEN PROPERTY       1.00      1.00      1.00       887\n",
      "                    SUICIDE       1.00      1.00      1.00        96\n",
      "             SUSPICIOUS OCC       1.00      1.00      1.00      6346\n",
      "                       TREA       1.00      1.00      1.00         2\n",
      "                   TRESPASS       1.00      1.00      1.00      1459\n",
      "                  VANDALISM       1.00      1.00      1.00      8814\n",
      "              VEHICLE THEFT       1.00      1.00      1.00     10838\n",
      "                   WARRANTS       1.00      1.00      1.00      8254\n",
      "                WEAPON LAWS       1.00      1.00      1.00      1726\n",
      "\n",
      "                avg / total       1.00      1.00      1.00    175610\n",
      "\n",
      "\n",
      "Random Forest:\n",
      "                             precision    recall  f1-score   support\n",
      "\n",
      "                      ARSON       0.72      0.58      0.64       297\n",
      "                    ASSAULT       0.85      0.93      0.89     15526\n",
      "                 BAD CHECKS       0.54      0.16      0.25        91\n",
      "                    BRIBERY       0.48      0.22      0.30        54\n",
      "                   BURGLARY       0.98      0.99      0.99      7276\n",
      "         DISORDERLY CONDUCT       0.61      0.55      0.58       828\n",
      "DRIVING UNDER THE INFLUENCE       0.76      0.59      0.67       459\n",
      "              DRUG/NARCOTIC       0.90      0.94      0.92     10658\n",
      "                DRUNKENNESS       0.66      0.61      0.64       853\n",
      "               EMBEZZLEMENT       0.43      0.33      0.37       221\n",
      "                  EXTORTION       0.00      0.00      0.00        54\n",
      "            FAMILY OFFENSES       0.41      0.23      0.29       102\n",
      "     FORGERY/COUNTERFEITING       0.72      0.75      0.74      2136\n",
      "                      FRAUD       0.75      0.75      0.75      3309\n",
      "                   GAMBLING       0.50      0.04      0.07        26\n",
      "                 KIDNAPPING       0.25      0.14      0.18       441\n",
      "              LARCENY/THEFT       0.98      0.98      0.98     34982\n",
      "                LIQUOR LAWS       0.60      0.33      0.43       416\n",
      "                  LOITERING       0.78      0.49      0.60       254\n",
      "             MISSING PERSON       0.94      0.91      0.92      5231\n",
      "               NON-CRIMINAL       0.91      0.93      0.92     18628\n",
      "             OTHER OFFENSES       0.84      0.88      0.86     25323\n",
      "    PORNOGRAPHY/OBSCENE MAT       0.00      0.00      0.00         4\n",
      "               PROSTITUTION       0.94      0.89      0.91      1532\n",
      "          RECOVERED VEHICLE       0.88      0.85      0.87       653\n",
      "                    ROBBERY       0.91      0.86      0.88      4525\n",
      "                    RUNAWAY       0.98      0.88      0.93       391\n",
      "            SECONDARY CODES       0.75      0.62      0.68      2014\n",
      "      SEX OFFENSES FORCIBLE       0.61      0.25      0.35       878\n",
      "  SEX OFFENSES NON FORCIBLE       0.40      0.08      0.13        26\n",
      "            STOLEN PROPERTY       0.68      0.43      0.52       887\n",
      "                    SUICIDE       0.97      0.39      0.55        96\n",
      "             SUSPICIOUS OCC       0.95      0.92      0.94      6346\n",
      "                       TREA       0.00      0.00      0.00         2\n",
      "                   TRESPASS       0.83      0.70      0.76      1459\n",
      "                  VANDALISM       0.96      0.94      0.95      8814\n",
      "              VEHICLE THEFT       0.98      0.96      0.97     10838\n",
      "                   WARRANTS       0.95      0.96      0.95      8254\n",
      "                WEAPON LAWS       0.80      0.50      0.61      1726\n",
      "\n",
      "                avg / total       0.90      0.90      0.90    175610\n",
      "\n",
      "\n"
     ]
    },
    {
     "name": "stderr",
     "output_type": "stream",
     "text": [
      "/usr/local/lib/python3.5/site-packages/sklearn/metrics/classification.py:1135: UndefinedMetricWarning: Precision and F-score are ill-defined and being set to 0.0 in labels with no predicted samples.\n",
      "  'precision', 'predicted', average, warn_for)\n"
     ]
    }
   ],
   "source": [
    "print(\"CLASSIFICATION REPORTS\")\n",
    "print()\n",
    "\n",
    "pred_names = [\"GuassianNb\", \"Decision Tree\", \"Random Forest\"]\n",
    "predictions = [nb_pred, tree_pred, forest_pred]\n",
    "sorted_names = sorted(data['Category'].unique())\n",
    "\n",
    "for i in range(0, 3):\n",
    "    print(pred_names[i] + \":\") \n",
    "    print(str(classification_report(y_test, predictions[i], target_names=sorted_names)))\n",
    "    print()"
   ]
  },
  {
   "cell_type": "markdown",
   "metadata": {},
   "source": [
    "After multiple runs of splitting the data into a training and test set and looking at the classification reports, it appears that TREA and PORNOGRAPHY/OBSCENE MAT were never classified correctly by any of the classifiers. This is most likely because there are only 6 TREA and 22 PORNOGRAPHY/OBSCENE MAT entires in the data set--not a whole of of information to train from to begin with."
   ]
  },
  {
   "cell_type": "code",
   "execution_count": 518,
   "metadata": {},
   "outputs": [
    {
     "data": {
      "text/plain": [
       "1532"
      ]
     },
     "execution_count": 518,
     "metadata": {},
     "output_type": "execute_result"
    }
   ],
   "source": [
    "list(y_test).count(23)"
   ]
  },
  {
   "cell_type": "markdown",
   "metadata": {},
   "source": [
    "# Follow-up Part 1: Data analysis of incorrectly classified rows of data\n",
    "Do some exploratory data analysis on the incorrectly classified rows of data. What can you learn about this subset? How does it compare to the dataset as a whole or even look at how it compares to the set of correctly classified instances. Does this inspire any further preprocessing of the data or perhaps some additional variables that you could add? If so add them and investigate the results."
   ]
  },
  {
   "cell_type": "markdown",
   "metadata": {},
   "source": [
    "## GuassianNb\n",
    "- 98,691 crime categories predicted incorrectly (only 76,919 correctly! yikes)\n",
    "- With a count of 8250, the most misclassified category was NON-CRIMINAL where the GuassianNb predicted it to be LARCENY/THEFT instead\n",
    "- Second behind NON-CRIMINAL with a count of 5240 was OTHER OFFENSES where it was misclassificed as DRIVING UNDER THE INFLUENCE\n",
    "- Third at 5230 was VANDALISM which was also misclassified as LARENCY/THEFT"
   ]
  },
  {
   "cell_type": "code",
   "execution_count": 519,
   "metadata": {},
   "outputs": [
    {
     "data": {
      "text/plain": [
       "1459"
      ]
     },
     "execution_count": 519,
     "metadata": {},
     "output_type": "execute_result"
    }
   ],
   "source": [
    "list(y_test.values).count(34)"
   ]
  },
  {
   "cell_type": "markdown",
   "metadata": {},
   "source": [
    "#### key"
   ]
  },
  {
   "cell_type": "code",
   "execution_count": 520,
   "metadata": {},
   "outputs": [
    {
     "data": {
      "text/html": [
       "<div>\n",
       "<style scoped>\n",
       "    .dataframe tbody tr th:only-of-type {\n",
       "        vertical-align: middle;\n",
       "    }\n",
       "\n",
       "    .dataframe tbody tr th {\n",
       "        vertical-align: top;\n",
       "    }\n",
       "\n",
       "    .dataframe thead th {\n",
       "        text-align: right;\n",
       "    }\n",
       "</style>\n",
       "<table border=\"1\" class=\"dataframe\">\n",
       "  <thead>\n",
       "    <tr style=\"text-align: right;\">\n",
       "      <th></th>\n",
       "      <th>category</th>\n",
       "      <th>labelencoded</th>\n",
       "    </tr>\n",
       "  </thead>\n",
       "  <tbody>\n",
       "    <tr>\n",
       "      <th>0</th>\n",
       "      <td>WARRANTS</td>\n",
       "      <td>37</td>\n",
       "    </tr>\n",
       "  </tbody>\n",
       "</table>\n",
       "</div>"
      ],
      "text/plain": [
       "   category  labelencoded\n",
       "0  WARRANTS            37"
      ]
     },
     "execution_count": 520,
     "metadata": {},
     "output_type": "execute_result"
    }
   ],
   "source": [
    "key = pd.DataFrame({'category': list(data.Category), 'labelencoded': list(datareorder.Category)})\n",
    "key[key.category == 'WARRANTS'].head(n=1) # change == value to find what category matched the label"
   ]
  },
  {
   "cell_type": "code",
   "execution_count": 521,
   "metadata": {},
   "outputs": [
    {
     "data": {
      "text/html": [
       "<div>\n",
       "<style scoped>\n",
       "    .dataframe tbody tr th:only-of-type {\n",
       "        vertical-align: middle;\n",
       "    }\n",
       "\n",
       "    .dataframe tbody tr th {\n",
       "        vertical-align: top;\n",
       "    }\n",
       "\n",
       "    .dataframe thead th {\n",
       "        text-align: right;\n",
       "    }\n",
       "</style>\n",
       "<table border=\"1\" class=\"dataframe\">\n",
       "  <thead>\n",
       "    <tr style=\"text-align: right;\">\n",
       "      <th></th>\n",
       "      <th>actual</th>\n",
       "      <th>predicted</th>\n",
       "      <th>count</th>\n",
       "    </tr>\n",
       "  </thead>\n",
       "  <tbody>\n",
       "    <tr>\n",
       "      <th>137</th>\n",
       "      <td>20</td>\n",
       "      <td>16</td>\n",
       "      <td>8416</td>\n",
       "    </tr>\n",
       "    <tr>\n",
       "      <th>245</th>\n",
       "      <td>35</td>\n",
       "      <td>16</td>\n",
       "      <td>5152</td>\n",
       "    </tr>\n",
       "    <tr>\n",
       "      <th>147</th>\n",
       "      <td>21</td>\n",
       "      <td>6</td>\n",
       "      <td>5105</td>\n",
       "    </tr>\n",
       "    <tr>\n",
       "      <th>4</th>\n",
       "      <td>1</td>\n",
       "      <td>4</td>\n",
       "      <td>5079</td>\n",
       "    </tr>\n",
       "    <tr>\n",
       "      <th>231</th>\n",
       "      <td>32</td>\n",
       "      <td>36</td>\n",
       "      <td>4795</td>\n",
       "    </tr>\n",
       "    <tr>\n",
       "      <th>265</th>\n",
       "      <td>37</td>\n",
       "      <td>21</td>\n",
       "      <td>4788</td>\n",
       "    </tr>\n",
       "    <tr>\n",
       "      <th>148</th>\n",
       "      <td>21</td>\n",
       "      <td>7</td>\n",
       "      <td>4388</td>\n",
       "    </tr>\n",
       "    <tr>\n",
       "      <th>150</th>\n",
       "      <td>21</td>\n",
       "      <td>16</td>\n",
       "      <td>4188</td>\n",
       "    </tr>\n",
       "    <tr>\n",
       "      <th>130</th>\n",
       "      <td>19</td>\n",
       "      <td>16</td>\n",
       "      <td>3189</td>\n",
       "    </tr>\n",
       "    <tr>\n",
       "      <th>9</th>\n",
       "      <td>1</td>\n",
       "      <td>20</td>\n",
       "      <td>2905</td>\n",
       "    </tr>\n",
       "  </tbody>\n",
       "</table>\n",
       "</div>"
      ],
      "text/plain": [
       "     actual  predicted  count\n",
       "137      20         16   8416\n",
       "245      35         16   5152\n",
       "147      21          6   5105\n",
       "4         1          4   5079\n",
       "231      32         36   4795\n",
       "265      37         21   4788\n",
       "148      21          7   4388\n",
       "150      21         16   4188\n",
       "130      19         16   3189\n",
       "9         1         20   2905"
      ]
     },
     "execution_count": 521,
     "metadata": {},
     "output_type": "execute_result"
    }
   ],
   "source": [
    "nb = pd.DataFrame({'actual': y_test, 'predicted': nb_pred, 'random': np.random.rand(175610)}) # need random as a place \n",
    "                                                                                              # holder for groupby later\n",
    "nb = nb[nb.actual != nb.predicted]\n",
    "nb = nb.groupby(['actual', 'predicted']).count().reset_index().rename(columns={'random': 'count'}).sort_values(by='count', ascending=False)\n",
    "nb.head(n=10)"
   ]
  },
  {
   "cell_type": "markdown",
   "metadata": {},
   "source": [
    "### Top 5 misclassified categories for GuassianNB"
   ]
  },
  {
   "cell_type": "code",
   "execution_count": 522,
   "metadata": {},
   "outputs": [
    {
     "data": {
      "text/html": [
       "<div>\n",
       "<style scoped>\n",
       "    .dataframe tbody tr th:only-of-type {\n",
       "        vertical-align: middle;\n",
       "    }\n",
       "\n",
       "    .dataframe tbody tr th {\n",
       "        vertical-align: top;\n",
       "    }\n",
       "\n",
       "    .dataframe thead th {\n",
       "        text-align: right;\n",
       "    }\n",
       "</style>\n",
       "<table border=\"1\" class=\"dataframe\">\n",
       "  <thead>\n",
       "    <tr style=\"text-align: right;\">\n",
       "      <th></th>\n",
       "      <th>actual_nb</th>\n",
       "      <th>predicted_nb</th>\n",
       "      <th>count_nb</th>\n",
       "    </tr>\n",
       "  </thead>\n",
       "  <tbody>\n",
       "    <tr>\n",
       "      <th>0</th>\n",
       "      <td>NON-CRIMINAL</td>\n",
       "      <td>LARENCY/THEFT</td>\n",
       "      <td>8250</td>\n",
       "    </tr>\n",
       "    <tr>\n",
       "      <th>1</th>\n",
       "      <td>OTHER OFFENSES</td>\n",
       "      <td>NON-CRIMINAL</td>\n",
       "      <td>5240</td>\n",
       "    </tr>\n",
       "    <tr>\n",
       "      <th>2</th>\n",
       "      <td>VANDALISM</td>\n",
       "      <td>LARENCY/THEFT</td>\n",
       "      <td>5230</td>\n",
       "    </tr>\n",
       "    <tr>\n",
       "      <th>3</th>\n",
       "      <td>ASSAULT</td>\n",
       "      <td>BURGLARY</td>\n",
       "      <td>5101</td>\n",
       "    </tr>\n",
       "    <tr>\n",
       "      <th>4</th>\n",
       "      <td>WARRANTS</td>\n",
       "      <td>OTHER OFFENSES</td>\n",
       "      <td>4936</td>\n",
       "    </tr>\n",
       "  </tbody>\n",
       "</table>\n",
       "</div>"
      ],
      "text/plain": [
       "        actual_nb    predicted_nb  count_nb\n",
       "0    NON-CRIMINAL   LARENCY/THEFT      8250\n",
       "1  OTHER OFFENSES    NON-CRIMINAL      5240\n",
       "2       VANDALISM   LARENCY/THEFT      5230\n",
       "3         ASSAULT        BURGLARY      5101\n",
       "4        WARRANTS  OTHER OFFENSES      4936"
      ]
     },
     "execution_count": 522,
     "metadata": {},
     "output_type": "execute_result"
    }
   ],
   "source": [
    "nb_results = pd.DataFrame({'actual_nb': ['NON-CRIMINAL', 'OTHER OFFENSES', 'VANDALISM', 'ASSAULT', 'WARRANTS'], 'predicted_nb': ['LARENCY/THEFT', 'NON-CRIMINAL', 'LARENCY/THEFT', 'BURGLARY', 'OTHER OFFENSES'], 'count_nb': [8250, 5240, 5230, 5101, 4936]})\n",
    "nb_results = nb_results[['actual_nb', 'predicted_nb', 'count_nb']]\n",
    "nb_results"
   ]
  },
  {
   "cell_type": "markdown",
   "metadata": {},
   "source": [
    "## Decision Tree\n",
    "- 23,531 out of 175,610  cases misclassified"
   ]
  },
  {
   "cell_type": "code",
   "execution_count": 523,
   "metadata": {},
   "outputs": [
    {
     "data": {
      "text/html": [
       "<div>\n",
       "<style scoped>\n",
       "    .dataframe tbody tr th:only-of-type {\n",
       "        vertical-align: middle;\n",
       "    }\n",
       "\n",
       "    .dataframe tbody tr th {\n",
       "        vertical-align: top;\n",
       "    }\n",
       "\n",
       "    .dataframe thead th {\n",
       "        text-align: right;\n",
       "    }\n",
       "</style>\n",
       "<table border=\"1\" class=\"dataframe\">\n",
       "  <thead>\n",
       "    <tr style=\"text-align: right;\">\n",
       "      <th></th>\n",
       "      <th>actual</th>\n",
       "      <th>predicted</th>\n",
       "      <th>count</th>\n",
       "    </tr>\n",
       "  </thead>\n",
       "  <tbody>\n",
       "    <tr>\n",
       "      <th>7</th>\n",
       "      <td>15</td>\n",
       "      <td>1</td>\n",
       "      <td>33</td>\n",
       "    </tr>\n",
       "    <tr>\n",
       "      <th>1</th>\n",
       "      <td>1</td>\n",
       "      <td>15</td>\n",
       "      <td>32</td>\n",
       "    </tr>\n",
       "    <tr>\n",
       "      <th>2</th>\n",
       "      <td>1</td>\n",
       "      <td>27</td>\n",
       "      <td>3</td>\n",
       "    </tr>\n",
       "    <tr>\n",
       "      <th>17</th>\n",
       "      <td>27</td>\n",
       "      <td>1</td>\n",
       "      <td>3</td>\n",
       "    </tr>\n",
       "    <tr>\n",
       "      <th>6</th>\n",
       "      <td>13</td>\n",
       "      <td>28</td>\n",
       "      <td>3</td>\n",
       "    </tr>\n",
       "  </tbody>\n",
       "</table>\n",
       "</div>"
      ],
      "text/plain": [
       "    actual  predicted  count\n",
       "7       15          1     33\n",
       "1        1         15     32\n",
       "2        1         27      3\n",
       "17      27          1      3\n",
       "6       13         28      3"
      ]
     },
     "execution_count": 523,
     "metadata": {},
     "output_type": "execute_result"
    }
   ],
   "source": [
    "decT = pd.DataFrame({'actual': y_test, 'predicted': tree_pred, 'random': np.random.rand(175610)}) # need random as a place \n",
    "                                                                                              # holder for groupby later\n",
    "decT = decT[decT.actual != decT.predicted]\n",
    "decT = decT.groupby(['actual', 'predicted']).count().reset_index().rename(columns={'random': 'count'}).sort_values(by='count', ascending=False)\n",
    "decT.head()"
   ]
  },
  {
   "cell_type": "markdown",
   "metadata": {},
   "source": [
    "### Top 5 misclassified categories for Decision Tree"
   ]
  },
  {
   "cell_type": "code",
   "execution_count": 524,
   "metadata": {},
   "outputs": [
    {
     "data": {
      "text/html": [
       "<div>\n",
       "<style scoped>\n",
       "    .dataframe tbody tr th:only-of-type {\n",
       "        vertical-align: middle;\n",
       "    }\n",
       "\n",
       "    .dataframe tbody tr th {\n",
       "        vertical-align: top;\n",
       "    }\n",
       "\n",
       "    .dataframe thead th {\n",
       "        text-align: right;\n",
       "    }\n",
       "</style>\n",
       "<table border=\"1\" class=\"dataframe\">\n",
       "  <thead>\n",
       "    <tr style=\"text-align: right;\">\n",
       "      <th></th>\n",
       "      <th>actual_decT</th>\n",
       "      <th>predicted_decT</th>\n",
       "      <th>count_decT</th>\n",
       "    </tr>\n",
       "  </thead>\n",
       "  <tbody>\n",
       "    <tr>\n",
       "      <th>0</th>\n",
       "      <td>OTHER OFFENSES</td>\n",
       "      <td>NON-CRIMINAL</td>\n",
       "      <td>652</td>\n",
       "    </tr>\n",
       "    <tr>\n",
       "      <th>1</th>\n",
       "      <td>NON-CRIMINAL</td>\n",
       "      <td>OTHER OFFENSES</td>\n",
       "      <td>579</td>\n",
       "    </tr>\n",
       "    <tr>\n",
       "      <th>2</th>\n",
       "      <td>OTHER OFFENSES</td>\n",
       "      <td>ASSAULT</td>\n",
       "      <td>403</td>\n",
       "    </tr>\n",
       "    <tr>\n",
       "      <th>3</th>\n",
       "      <td>ASSAULT</td>\n",
       "      <td>NON-CRIMINAL</td>\n",
       "      <td>399</td>\n",
       "    </tr>\n",
       "    <tr>\n",
       "      <th>4</th>\n",
       "      <td>OTHER OFFENSES</td>\n",
       "      <td>VANDALISM</td>\n",
       "      <td>392</td>\n",
       "    </tr>\n",
       "  </tbody>\n",
       "</table>\n",
       "</div>"
      ],
      "text/plain": [
       "      actual_decT  predicted_decT  count_decT\n",
       "0  OTHER OFFENSES    NON-CRIMINAL         652\n",
       "1    NON-CRIMINAL  OTHER OFFENSES         579\n",
       "2  OTHER OFFENSES         ASSAULT         403\n",
       "3         ASSAULT    NON-CRIMINAL         399\n",
       "4  OTHER OFFENSES       VANDALISM         392"
      ]
     },
     "execution_count": 524,
     "metadata": {},
     "output_type": "execute_result"
    }
   ],
   "source": [
    "decT_results = pd.DataFrame({'actual_decT': ['OTHER OFFENSES', 'NON-CRIMINAL', 'OTHER OFFENSES', 'ASSAULT', 'OTHER OFFENSES'], 'predicted_decT': ['NON-CRIMINAL', 'OTHER OFFENSES', 'ASSAULT', 'NON-CRIMINAL', 'VANDALISM'], 'count_decT': [652, 579, 403, 399, 392]})\n",
    "decT_results = decT_results[['actual_decT', 'predicted_decT', 'count_decT']]\n",
    "decT_results"
   ]
  },
  {
   "cell_type": "markdown",
   "metadata": {},
   "source": [
    "## Random Forest\n",
    "- 16,513 out of 175,610  cases misclassified"
   ]
  },
  {
   "cell_type": "code",
   "execution_count": 525,
   "metadata": {},
   "outputs": [
    {
     "data": {
      "text/html": [
       "<div>\n",
       "<style scoped>\n",
       "    .dataframe tbody tr th:only-of-type {\n",
       "        vertical-align: middle;\n",
       "    }\n",
       "\n",
       "    .dataframe tbody tr th {\n",
       "        vertical-align: top;\n",
       "    }\n",
       "\n",
       "    .dataframe thead th {\n",
       "        text-align: right;\n",
       "    }\n",
       "</style>\n",
       "<table border=\"1\" class=\"dataframe\">\n",
       "  <thead>\n",
       "    <tr style=\"text-align: right;\">\n",
       "      <th></th>\n",
       "      <th>actual</th>\n",
       "      <th>predicted</th>\n",
       "      <th>count</th>\n",
       "    </tr>\n",
       "  </thead>\n",
       "  <tbody>\n",
       "    <tr>\n",
       "      <th>395</th>\n",
       "      <td>21</td>\n",
       "      <td>7</td>\n",
       "      <td>468</td>\n",
       "    </tr>\n",
       "    <tr>\n",
       "      <th>389</th>\n",
       "      <td>21</td>\n",
       "      <td>1</td>\n",
       "      <td>445</td>\n",
       "    </tr>\n",
       "    <tr>\n",
       "      <th>27</th>\n",
       "      <td>1</td>\n",
       "      <td>21</td>\n",
       "      <td>341</td>\n",
       "    </tr>\n",
       "    <tr>\n",
       "      <th>407</th>\n",
       "      <td>21</td>\n",
       "      <td>20</td>\n",
       "      <td>331</td>\n",
       "    </tr>\n",
       "    <tr>\n",
       "      <th>374</th>\n",
       "      <td>20</td>\n",
       "      <td>21</td>\n",
       "      <td>301</td>\n",
       "    </tr>\n",
       "  </tbody>\n",
       "</table>\n",
       "</div>"
      ],
      "text/plain": [
       "     actual  predicted  count\n",
       "395      21          7    468\n",
       "389      21          1    445\n",
       "27        1         21    341\n",
       "407      21         20    331\n",
       "374      20         21    301"
      ]
     },
     "execution_count": 525,
     "metadata": {},
     "output_type": "execute_result"
    }
   ],
   "source": [
    "forest = pd.DataFrame({'actual': y_test, 'predicted': forest_pred, 'random': np.random.rand(175610)}) # need random as a place \n",
    "                                                                                              # holder for groupby later\n",
    "forest = forest[forest.actual != forest.predicted]\n",
    "forest = forest.groupby(['actual', 'predicted']).count().reset_index().rename(columns={'random': 'count'}).sort_values(by='count', ascending=False)\n",
    "forest.head()"
   ]
  },
  {
   "cell_type": "markdown",
   "metadata": {},
   "source": [
    "### Top 5 misclassified categories for Random Forest"
   ]
  },
  {
   "cell_type": "code",
   "execution_count": 526,
   "metadata": {},
   "outputs": [
    {
     "data": {
      "text/html": [
       "<div>\n",
       "<style scoped>\n",
       "    .dataframe tbody tr th:only-of-type {\n",
       "        vertical-align: middle;\n",
       "    }\n",
       "\n",
       "    .dataframe tbody tr th {\n",
       "        vertical-align: top;\n",
       "    }\n",
       "\n",
       "    .dataframe thead th {\n",
       "        text-align: right;\n",
       "    }\n",
       "</style>\n",
       "<table border=\"1\" class=\"dataframe\">\n",
       "  <thead>\n",
       "    <tr style=\"text-align: right;\">\n",
       "      <th></th>\n",
       "      <th>actual_forest</th>\n",
       "      <th>predicted_forest</th>\n",
       "      <th>count_forest</th>\n",
       "    </tr>\n",
       "  </thead>\n",
       "  <tbody>\n",
       "    <tr>\n",
       "      <th>0</th>\n",
       "      <td>OTHER OFFENSES</td>\n",
       "      <td>ASSAULT</td>\n",
       "      <td>652</td>\n",
       "    </tr>\n",
       "    <tr>\n",
       "      <th>1</th>\n",
       "      <td>OTHER OFFENSES</td>\n",
       "      <td>NON-CRIMINAL</td>\n",
       "      <td>579</td>\n",
       "    </tr>\n",
       "    <tr>\n",
       "      <th>2</th>\n",
       "      <td>OTHER OFFENSES</td>\n",
       "      <td>DRUG/NARCOTIC</td>\n",
       "      <td>403</td>\n",
       "    </tr>\n",
       "    <tr>\n",
       "      <th>3</th>\n",
       "      <td>NON-CRIMINAL</td>\n",
       "      <td>OTHER OFFENSES</td>\n",
       "      <td>399</td>\n",
       "    </tr>\n",
       "    <tr>\n",
       "      <th>4</th>\n",
       "      <td>ASSAULT</td>\n",
       "      <td>OTHER OFFENSES</td>\n",
       "      <td>392</td>\n",
       "    </tr>\n",
       "  </tbody>\n",
       "</table>\n",
       "</div>"
      ],
      "text/plain": [
       "    actual_forest predicted_forest  count_forest\n",
       "0  OTHER OFFENSES          ASSAULT           652\n",
       "1  OTHER OFFENSES     NON-CRIMINAL           579\n",
       "2  OTHER OFFENSES    DRUG/NARCOTIC           403\n",
       "3    NON-CRIMINAL   OTHER OFFENSES           399\n",
       "4         ASSAULT   OTHER OFFENSES           392"
      ]
     },
     "execution_count": 526,
     "metadata": {},
     "output_type": "execute_result"
    }
   ],
   "source": [
    "forest_results = pd.DataFrame({'actual_forest': ['OTHER OFFENSES', 'OTHER OFFENSES', 'OTHER OFFENSES', 'NON-CRIMINAL', 'ASSAULT'], 'predicted_forest': ['ASSAULT', 'NON-CRIMINAL', 'DRUG/NARCOTIC', 'OTHER OFFENSES', 'OTHER OFFENSES'], 'count_forest': [652, 579, 403, 399, 392]})\n",
    "forest_results = forest_results[['actual_forest', 'predicted_forest', 'count_forest']]\n",
    "forest_results"
   ]
  },
  {
   "cell_type": "markdown",
   "metadata": {},
   "source": [
    "OTHER OFFENSES wrongly predicted as NON-CRIMINAL was in the top three misclassified categories for all three classifiers, vice versa, as well as ASSAULT also being misclassified as either OTHER OFFENSES or NON-CRIMINAL. Because GuassianNB did significantly worse than the Decision Tree and Random Forest classifiers, we will just look at these two classifiers from now on and see what we can do to improve results by looking deeper into the OTHER OFFENSES and NON-CRIMINAL categories."
   ]
  },
  {
   "cell_type": "markdown",
   "metadata": {},
   "source": [
    "## A Deeper Look into OTHER OFFENSES vs NON-CRIMINAL"
   ]
  },
  {
   "cell_type": "markdown",
   "metadata": {},
   "source": [
    "### Maybe Descript for both OTHER OFFENSES and NON-CRIMINAL Categories is relatively the same for the top crimes which is why the classifier is having a hard time distinguishing betweeen the two. "
   ]
  },
  {
   "cell_type": "code",
   "execution_count": 527,
   "metadata": {},
   "outputs": [
    {
     "name": "stdout",
     "output_type": "stream",
     "text": [
      "OTHER OFFENSES COUNT:  126182\n",
      "NON-CRIMINAL COUNT:  92304\n"
     ]
    }
   ],
   "source": [
    "print(\"OTHER OFFENSES COUNT: \", len(data[data.Category == 'OTHER OFFENSES']))\n",
    "print(\"NON-CRIMINAL COUNT: \", len(data[data.Category == 'NON-CRIMINAL']))"
   ]
  },
  {
   "cell_type": "code",
   "execution_count": 528,
   "metadata": {},
   "outputs": [
    {
     "data": {
      "text/html": [
       "<div>\n",
       "<style scoped>\n",
       "    .dataframe tbody tr th:only-of-type {\n",
       "        vertical-align: middle;\n",
       "    }\n",
       "\n",
       "    .dataframe tbody tr th {\n",
       "        vertical-align: top;\n",
       "    }\n",
       "\n",
       "    .dataframe thead th {\n",
       "        text-align: right;\n",
       "    }\n",
       "</style>\n",
       "<table border=\"1\" class=\"dataframe\">\n",
       "  <thead>\n",
       "    <tr style=\"text-align: right;\">\n",
       "      <th></th>\n",
       "      <th>Descript</th>\n",
       "      <th>Dates</th>\n",
       "      <th>Category</th>\n",
       "      <th>DayOfWeek</th>\n",
       "      <th>PdDistrict</th>\n",
       "      <th>Resolution</th>\n",
       "      <th>Address</th>\n",
       "      <th>X</th>\n",
       "      <th>Y</th>\n",
       "    </tr>\n",
       "  </thead>\n",
       "  <tbody>\n",
       "    <tr>\n",
       "      <th>25</th>\n",
       "      <td>DRIVERS LICENSE, SUSPENDED OR REVOKED</td>\n",
       "      <td>26839</td>\n",
       "      <td>26839</td>\n",
       "      <td>26839</td>\n",
       "      <td>26839</td>\n",
       "      <td>26839</td>\n",
       "      <td>26839</td>\n",
       "      <td>26839</td>\n",
       "      <td>26839</td>\n",
       "    </tr>\n",
       "    <tr>\n",
       "      <th>148</th>\n",
       "      <td>TRAFFIC VIOLATION</td>\n",
       "      <td>16471</td>\n",
       "      <td>16471</td>\n",
       "      <td>16471</td>\n",
       "      <td>16471</td>\n",
       "      <td>16471</td>\n",
       "      <td>16471</td>\n",
       "      <td>16471</td>\n",
       "      <td>16471</td>\n",
       "    </tr>\n",
       "    <tr>\n",
       "      <th>123</th>\n",
       "      <td>RESISTING ARREST</td>\n",
       "      <td>8983</td>\n",
       "      <td>8983</td>\n",
       "      <td>8983</td>\n",
       "      <td>8983</td>\n",
       "      <td>8983</td>\n",
       "      <td>8983</td>\n",
       "      <td>8983</td>\n",
       "      <td>8983</td>\n",
       "    </tr>\n",
       "    <tr>\n",
       "      <th>86</th>\n",
       "      <td>MISCELLANEOUS INVESTIGATION</td>\n",
       "      <td>8389</td>\n",
       "      <td>8389</td>\n",
       "      <td>8389</td>\n",
       "      <td>8389</td>\n",
       "      <td>8389</td>\n",
       "      <td>8389</td>\n",
       "      <td>8389</td>\n",
       "      <td>8389</td>\n",
       "    </tr>\n",
       "    <tr>\n",
       "      <th>116</th>\n",
       "      <td>PROBATION VIOLATION</td>\n",
       "      <td>8016</td>\n",
       "      <td>8016</td>\n",
       "      <td>8016</td>\n",
       "      <td>8016</td>\n",
       "      <td>8016</td>\n",
       "      <td>8016</td>\n",
       "      <td>8016</td>\n",
       "      <td>8016</td>\n",
       "    </tr>\n",
       "  </tbody>\n",
       "</table>\n",
       "</div>"
      ],
      "text/plain": [
       "                                  Descript  Dates  Category  DayOfWeek  \\\n",
       "25   DRIVERS LICENSE, SUSPENDED OR REVOKED  26839     26839      26839   \n",
       "148                      TRAFFIC VIOLATION  16471     16471      16471   \n",
       "123                       RESISTING ARREST   8983      8983       8983   \n",
       "86             MISCELLANEOUS INVESTIGATION   8389      8389       8389   \n",
       "116                    PROBATION VIOLATION   8016      8016       8016   \n",
       "\n",
       "     PdDistrict  Resolution  Address      X      Y  \n",
       "25        26839       26839    26839  26839  26839  \n",
       "148       16471       16471    16471  16471  16471  \n",
       "123        8983        8983     8983   8983   8983  \n",
       "86         8389        8389     8389   8389   8389  \n",
       "116        8016        8016     8016   8016   8016  "
      ]
     },
     "execution_count": 528,
     "metadata": {},
     "output_type": "execute_result"
    }
   ],
   "source": [
    "ood = data[data.Category == 'OTHER OFFENSES']\n",
    "ood.groupby(['Descript']).count().reset_index().sort_values(by='Dates', ascending=False).head()"
   ]
  },
  {
   "cell_type": "code",
   "execution_count": 529,
   "metadata": {},
   "outputs": [
    {
     "data": {
      "text/html": [
       "<div>\n",
       "<style scoped>\n",
       "    .dataframe tbody tr th:only-of-type {\n",
       "        vertical-align: middle;\n",
       "    }\n",
       "\n",
       "    .dataframe tbody tr th {\n",
       "        vertical-align: top;\n",
       "    }\n",
       "\n",
       "    .dataframe thead th {\n",
       "        text-align: right;\n",
       "    }\n",
       "</style>\n",
       "<table border=\"1\" class=\"dataframe\">\n",
       "  <thead>\n",
       "    <tr style=\"text-align: right;\">\n",
       "      <th></th>\n",
       "      <th>Descript</th>\n",
       "      <th>Dates</th>\n",
       "      <th>Category</th>\n",
       "      <th>DayOfWeek</th>\n",
       "      <th>PdDistrict</th>\n",
       "      <th>Resolution</th>\n",
       "      <th>Address</th>\n",
       "      <th>X</th>\n",
       "      <th>Y</th>\n",
       "    </tr>\n",
       "  </thead>\n",
       "  <tbody>\n",
       "    <tr>\n",
       "      <th>27</th>\n",
       "      <td>LOST PROPERTY</td>\n",
       "      <td>31729</td>\n",
       "      <td>31729</td>\n",
       "      <td>31729</td>\n",
       "      <td>31729</td>\n",
       "      <td>31729</td>\n",
       "      <td>31729</td>\n",
       "      <td>31729</td>\n",
       "      <td>31729</td>\n",
       "    </tr>\n",
       "    <tr>\n",
       "      <th>6</th>\n",
       "      <td>AIDED CASE, MENTAL DISTURBED</td>\n",
       "      <td>21497</td>\n",
       "      <td>21497</td>\n",
       "      <td>21497</td>\n",
       "      <td>21497</td>\n",
       "      <td>21497</td>\n",
       "      <td>21497</td>\n",
       "      <td>21497</td>\n",
       "      <td>21497</td>\n",
       "    </tr>\n",
       "    <tr>\n",
       "      <th>22</th>\n",
       "      <td>FOUND PROPERTY</td>\n",
       "      <td>12146</td>\n",
       "      <td>12146</td>\n",
       "      <td>12146</td>\n",
       "      <td>12146</td>\n",
       "      <td>12146</td>\n",
       "      <td>12146</td>\n",
       "      <td>12146</td>\n",
       "      <td>12146</td>\n",
       "    </tr>\n",
       "    <tr>\n",
       "      <th>2</th>\n",
       "      <td>AIDED CASE</td>\n",
       "      <td>5419</td>\n",
       "      <td>5419</td>\n",
       "      <td>5419</td>\n",
       "      <td>5419</td>\n",
       "      <td>5419</td>\n",
       "      <td>5419</td>\n",
       "      <td>5419</td>\n",
       "      <td>5419</td>\n",
       "    </tr>\n",
       "    <tr>\n",
       "      <th>15</th>\n",
       "      <td>DEATH REPORT, CAUSE UNKNOWN</td>\n",
       "      <td>4207</td>\n",
       "      <td>4207</td>\n",
       "      <td>4207</td>\n",
       "      <td>4207</td>\n",
       "      <td>4207</td>\n",
       "      <td>4207</td>\n",
       "      <td>4207</td>\n",
       "      <td>4207</td>\n",
       "    </tr>\n",
       "  </tbody>\n",
       "</table>\n",
       "</div>"
      ],
      "text/plain": [
       "                        Descript  Dates  Category  DayOfWeek  PdDistrict  \\\n",
       "27                 LOST PROPERTY  31729     31729      31729       31729   \n",
       "6   AIDED CASE, MENTAL DISTURBED  21497     21497      21497       21497   \n",
       "22                FOUND PROPERTY  12146     12146      12146       12146   \n",
       "2                     AIDED CASE   5419      5419       5419        5419   \n",
       "15   DEATH REPORT, CAUSE UNKNOWN   4207      4207       4207        4207   \n",
       "\n",
       "    Resolution  Address      X      Y  \n",
       "27       31729    31729  31729  31729  \n",
       "6        21497    21497  21497  21497  \n",
       "22       12146    12146  12146  12146  \n",
       "2         5419     5419   5419   5419  \n",
       "15        4207     4207   4207   4207  "
      ]
     },
     "execution_count": 529,
     "metadata": {},
     "output_type": "execute_result"
    }
   ],
   "source": [
    "ncd = data[data.Category == 'NON-CRIMINAL']\n",
    "ncd.groupby(['Descript']).count().reset_index().sort_values(by='Dates', ascending=False).head()"
   ]
  },
  {
   "cell_type": "markdown",
   "metadata": {},
   "source": [
    "### Takeaways\n",
    "- Descript, the highest correlation column with Category, does not seem consistent across OTHER OFFENSES and NON-CRIMINAL\n",
    "- Descript is possibly not what is causing the misclassificaition of OTHER OFFENSES to be NON-CRIMINAL and vice versa"
   ]
  },
  {
   "cell_type": "markdown",
   "metadata": {},
   "source": [
    "### OTHER OFFENSES most likely has a greater number of unique Descript values than other Categories, making it harder to classify, let's look into this."
   ]
  },
  {
   "cell_type": "code",
   "execution_count": 530,
   "metadata": {},
   "outputs": [
    {
     "data": {
      "text/html": [
       "<div>\n",
       "<style scoped>\n",
       "    .dataframe tbody tr th:only-of-type {\n",
       "        vertical-align: middle;\n",
       "    }\n",
       "\n",
       "    .dataframe tbody tr th {\n",
       "        vertical-align: top;\n",
       "    }\n",
       "\n",
       "    .dataframe thead th {\n",
       "        text-align: right;\n",
       "    }\n",
       "</style>\n",
       "<table border=\"1\" class=\"dataframe\">\n",
       "  <thead>\n",
       "    <tr style=\"text-align: right;\">\n",
       "      <th>Descript</th>\n",
       "      <th>Category</th>\n",
       "      <th>ABANDONMENT OF CHILD</th>\n",
       "      <th>ABORTION</th>\n",
       "      <th>ACCESS CARD INFORMATION, PUBLICATION OF</th>\n",
       "      <th>ACCESS CARD INFORMATION, THEFT OF</th>\n",
       "      <th>ACCIDENTAL BURNS</th>\n",
       "      <th>ACCIDENTAL SHOOTING</th>\n",
       "      <th>ACTS AGAINST PUBLIC TRANSIT</th>\n",
       "      <th>ADVERTISING DISTRIBUTORS PERMIT VIOLATION</th>\n",
       "      <th>AEROSOL CONTAINER; SALE, PURCHASE OR POSSESSION OF</th>\n",
       "      <th>...</th>\n",
       "      <th>WEAPON, DEADLY, CARRYING WITH INTENT TO COMMIT ASSAULT</th>\n",
       "      <th>WEAPON, DEADLY, EXHIBITING TO RESIST ARREST</th>\n",
       "      <th>WEAPON, POSSESS OR BRING OTHER ON SCHOOL GROUNDS</th>\n",
       "      <th>WEAPON, POSSESSING IN PUBLIC BUILDING OR OPEN MEETING</th>\n",
       "      <th>WEAPON, TAKING OR ATTEMPTING TO TAKE FROM PEACE OFFICER</th>\n",
       "      <th>WEAPONS POSSESSION BY JUVENILE SUSPECT</th>\n",
       "      <th>WEARING MASK OR DISGUISE FOR UNLAWFUL PURPOSE</th>\n",
       "      <th>WEARING THE APPAREL OF OPPOSITE SEX TO DECEIVE</th>\n",
       "      <th>WILLFUL CRUELTY TO CHILD</th>\n",
       "      <th>YOUTH COURT</th>\n",
       "    </tr>\n",
       "  </thead>\n",
       "  <tbody>\n",
       "    <tr>\n",
       "      <th>0</th>\n",
       "      <td>ARSON</td>\n",
       "      <td>0</td>\n",
       "      <td>0</td>\n",
       "      <td>0</td>\n",
       "      <td>0</td>\n",
       "      <td>0</td>\n",
       "      <td>0</td>\n",
       "      <td>0</td>\n",
       "      <td>0</td>\n",
       "      <td>0</td>\n",
       "      <td>...</td>\n",
       "      <td>0</td>\n",
       "      <td>0</td>\n",
       "      <td>0</td>\n",
       "      <td>0</td>\n",
       "      <td>0</td>\n",
       "      <td>0</td>\n",
       "      <td>0</td>\n",
       "      <td>0</td>\n",
       "      <td>0</td>\n",
       "      <td>0</td>\n",
       "    </tr>\n",
       "    <tr>\n",
       "      <th>1</th>\n",
       "      <td>ASSAULT</td>\n",
       "      <td>0</td>\n",
       "      <td>0</td>\n",
       "      <td>0</td>\n",
       "      <td>0</td>\n",
       "      <td>0</td>\n",
       "      <td>0</td>\n",
       "      <td>0</td>\n",
       "      <td>0</td>\n",
       "      <td>0</td>\n",
       "      <td>...</td>\n",
       "      <td>0</td>\n",
       "      <td>0</td>\n",
       "      <td>0</td>\n",
       "      <td>0</td>\n",
       "      <td>0</td>\n",
       "      <td>0</td>\n",
       "      <td>0</td>\n",
       "      <td>0</td>\n",
       "      <td>114</td>\n",
       "      <td>0</td>\n",
       "    </tr>\n",
       "    <tr>\n",
       "      <th>2</th>\n",
       "      <td>BAD CHECKS</td>\n",
       "      <td>0</td>\n",
       "      <td>0</td>\n",
       "      <td>0</td>\n",
       "      <td>0</td>\n",
       "      <td>0</td>\n",
       "      <td>0</td>\n",
       "      <td>0</td>\n",
       "      <td>0</td>\n",
       "      <td>0</td>\n",
       "      <td>...</td>\n",
       "      <td>0</td>\n",
       "      <td>0</td>\n",
       "      <td>0</td>\n",
       "      <td>0</td>\n",
       "      <td>0</td>\n",
       "      <td>0</td>\n",
       "      <td>0</td>\n",
       "      <td>0</td>\n",
       "      <td>0</td>\n",
       "      <td>0</td>\n",
       "    </tr>\n",
       "    <tr>\n",
       "      <th>3</th>\n",
       "      <td>BRIBERY</td>\n",
       "      <td>0</td>\n",
       "      <td>0</td>\n",
       "      <td>0</td>\n",
       "      <td>0</td>\n",
       "      <td>0</td>\n",
       "      <td>0</td>\n",
       "      <td>0</td>\n",
       "      <td>0</td>\n",
       "      <td>0</td>\n",
       "      <td>...</td>\n",
       "      <td>0</td>\n",
       "      <td>0</td>\n",
       "      <td>0</td>\n",
       "      <td>0</td>\n",
       "      <td>0</td>\n",
       "      <td>0</td>\n",
       "      <td>0</td>\n",
       "      <td>0</td>\n",
       "      <td>0</td>\n",
       "      <td>0</td>\n",
       "    </tr>\n",
       "    <tr>\n",
       "      <th>4</th>\n",
       "      <td>BURGLARY</td>\n",
       "      <td>0</td>\n",
       "      <td>0</td>\n",
       "      <td>0</td>\n",
       "      <td>0</td>\n",
       "      <td>0</td>\n",
       "      <td>0</td>\n",
       "      <td>0</td>\n",
       "      <td>0</td>\n",
       "      <td>0</td>\n",
       "      <td>...</td>\n",
       "      <td>0</td>\n",
       "      <td>0</td>\n",
       "      <td>0</td>\n",
       "      <td>0</td>\n",
       "      <td>0</td>\n",
       "      <td>0</td>\n",
       "      <td>0</td>\n",
       "      <td>0</td>\n",
       "      <td>0</td>\n",
       "      <td>0</td>\n",
       "    </tr>\n",
       "  </tbody>\n",
       "</table>\n",
       "<p>5 rows × 880 columns</p>\n",
       "</div>"
      ],
      "text/plain": [
       "Descript    Category  ABANDONMENT OF CHILD  ABORTION  \\\n",
       "0              ARSON                     0         0   \n",
       "1            ASSAULT                     0         0   \n",
       "2         BAD CHECKS                     0         0   \n",
       "3            BRIBERY                     0         0   \n",
       "4           BURGLARY                     0         0   \n",
       "\n",
       "Descript  ACCESS CARD INFORMATION, PUBLICATION OF  \\\n",
       "0                                               0   \n",
       "1                                               0   \n",
       "2                                               0   \n",
       "3                                               0   \n",
       "4                                               0   \n",
       "\n",
       "Descript  ACCESS CARD INFORMATION, THEFT OF  ACCIDENTAL BURNS  \\\n",
       "0                                         0                 0   \n",
       "1                                         0                 0   \n",
       "2                                         0                 0   \n",
       "3                                         0                 0   \n",
       "4                                         0                 0   \n",
       "\n",
       "Descript  ACCIDENTAL SHOOTING  ACTS AGAINST PUBLIC TRANSIT  \\\n",
       "0                           0                            0   \n",
       "1                           0                            0   \n",
       "2                           0                            0   \n",
       "3                           0                            0   \n",
       "4                           0                            0   \n",
       "\n",
       "Descript  ADVERTISING DISTRIBUTORS PERMIT VIOLATION  \\\n",
       "0                                                 0   \n",
       "1                                                 0   \n",
       "2                                                 0   \n",
       "3                                                 0   \n",
       "4                                                 0   \n",
       "\n",
       "Descript  AEROSOL CONTAINER; SALE, PURCHASE OR POSSESSION OF     ...       \\\n",
       "0                                                         0      ...        \n",
       "1                                                         0      ...        \n",
       "2                                                         0      ...        \n",
       "3                                                         0      ...        \n",
       "4                                                         0      ...        \n",
       "\n",
       "Descript  WEAPON, DEADLY, CARRYING WITH INTENT TO COMMIT ASSAULT  \\\n",
       "0                                                         0        \n",
       "1                                                         0        \n",
       "2                                                         0        \n",
       "3                                                         0        \n",
       "4                                                         0        \n",
       "\n",
       "Descript  WEAPON, DEADLY, EXHIBITING TO RESIST ARREST  \\\n",
       "0                                                   0   \n",
       "1                                                   0   \n",
       "2                                                   0   \n",
       "3                                                   0   \n",
       "4                                                   0   \n",
       "\n",
       "Descript  WEAPON, POSSESS OR BRING OTHER ON SCHOOL GROUNDS  \\\n",
       "0                                                        0   \n",
       "1                                                        0   \n",
       "2                                                        0   \n",
       "3                                                        0   \n",
       "4                                                        0   \n",
       "\n",
       "Descript  WEAPON, POSSESSING IN PUBLIC BUILDING OR OPEN MEETING  \\\n",
       "0                                                         0       \n",
       "1                                                         0       \n",
       "2                                                         0       \n",
       "3                                                         0       \n",
       "4                                                         0       \n",
       "\n",
       "Descript  WEAPON, TAKING OR ATTEMPTING TO TAKE FROM PEACE OFFICER  \\\n",
       "0                                                         0         \n",
       "1                                                         0         \n",
       "2                                                         0         \n",
       "3                                                         0         \n",
       "4                                                         0         \n",
       "\n",
       "Descript  WEAPONS POSSESSION BY JUVENILE SUSPECT  \\\n",
       "0                                              0   \n",
       "1                                              0   \n",
       "2                                              0   \n",
       "3                                              0   \n",
       "4                                              0   \n",
       "\n",
       "Descript  WEARING MASK OR DISGUISE FOR UNLAWFUL PURPOSE  \\\n",
       "0                                                     0   \n",
       "1                                                     0   \n",
       "2                                                     0   \n",
       "3                                                     0   \n",
       "4                                                     0   \n",
       "\n",
       "Descript  WEARING THE APPAREL OF OPPOSITE SEX TO DECEIVE  \\\n",
       "0                                                      0   \n",
       "1                                                      0   \n",
       "2                                                      0   \n",
       "3                                                      0   \n",
       "4                                                      0   \n",
       "\n",
       "Descript  WILLFUL CRUELTY TO CHILD  YOUTH COURT  \n",
       "0                                0            0  \n",
       "1                              114            0  \n",
       "2                                0            0  \n",
       "3                                0            0  \n",
       "4                                0            0  \n",
       "\n",
       "[5 rows x 880 columns]"
      ]
     },
     "execution_count": 530,
     "metadata": {},
     "output_type": "execute_result"
    }
   ],
   "source": [
    "ct = pd.crosstab(data['Category'], data['Descript']).reset_index()\n",
    "ct.head()"
   ]
  },
  {
   "cell_type": "code",
   "execution_count": 531,
   "metadata": {},
   "outputs": [],
   "source": [
    "# crosstab of Category and Descript\n",
    "ct = pd.crosstab(data['Category'], data['Descript']).reset_index()\n",
    "\n",
    "# for loop to iterate through rows and columns\n",
    "total = {}\n",
    "for index, row in ct.iterrows():\n",
    "    category = \"\"\n",
    "    count = 0\n",
    "    for col in row:\n",
    "        if isinstance(col, str):\n",
    "            category = col\n",
    "        elif col != 0:\n",
    "            count += 1\n",
    "    total[category] = count"
   ]
  },
  {
   "cell_type": "code",
   "execution_count": 532,
   "metadata": {},
   "outputs": [
    {
     "data": {
      "text/html": [
       "<div>\n",
       "<style scoped>\n",
       "    .dataframe tbody tr th:only-of-type {\n",
       "        vertical-align: middle;\n",
       "    }\n",
       "\n",
       "    .dataframe tbody tr th {\n",
       "        vertical-align: top;\n",
       "    }\n",
       "\n",
       "    .dataframe thead th {\n",
       "        text-align: right;\n",
       "    }\n",
       "</style>\n",
       "<table border=\"1\" class=\"dataframe\">\n",
       "  <thead>\n",
       "    <tr style=\"text-align: right;\">\n",
       "      <th></th>\n",
       "      <th>category</th>\n",
       "      <th>count_of_unique_descripts</th>\n",
       "    </tr>\n",
       "  </thead>\n",
       "  <tbody>\n",
       "    <tr>\n",
       "      <th>21</th>\n",
       "      <td>OTHER OFFENSES</td>\n",
       "      <td>169</td>\n",
       "    </tr>\n",
       "    <tr>\n",
       "      <th>25</th>\n",
       "      <td>ROBBERY</td>\n",
       "      <td>72</td>\n",
       "    </tr>\n",
       "    <tr>\n",
       "      <th>7</th>\n",
       "      <td>DRUG/NARCOTIC</td>\n",
       "      <td>69</td>\n",
       "    </tr>\n",
       "    <tr>\n",
       "      <th>1</th>\n",
       "      <td>ASSAULT</td>\n",
       "      <td>63</td>\n",
       "    </tr>\n",
       "    <tr>\n",
       "      <th>16</th>\n",
       "      <td>LARCENY/THEFT</td>\n",
       "      <td>62</td>\n",
       "    </tr>\n",
       "  </tbody>\n",
       "</table>\n",
       "</div>"
      ],
      "text/plain": [
       "          category  count_of_unique_descripts\n",
       "21  OTHER OFFENSES                        169\n",
       "25         ROBBERY                         72\n",
       "7    DRUG/NARCOTIC                         69\n",
       "1          ASSAULT                         63\n",
       "16   LARCENY/THEFT                         62"
      ]
     },
     "execution_count": 532,
     "metadata": {},
     "output_type": "execute_result"
    }
   ],
   "source": [
    "ctcd = pd.Series(total, name='count_of_unique_descripts').reset_index().rename(columns={'index': 'category'}).sort_values(by='count_of_unique_descripts', ascending=False)\n",
    "ctcd.head()"
   ]
  },
  {
   "cell_type": "markdown",
   "metadata": {},
   "source": [
    "### Takeaways\n",
    "It is evident that the number of unique descriptions for OTHER OFFENSES is significantly higher than the rest of the 38 categories. Coming in at 169 unique descriptions, this is more than ROBBERY, the second runner up, checking in at 72 unique descriptions. Because Descript is a great indictor of Category, having a large number of Descripts has caused the classifiers to be thrown off and not predict OTHER OFFENSES as well as other Categories. "
   ]
  },
  {
   "cell_type": "markdown",
   "metadata": {},
   "source": [
    "### If we take out OTHER OFFENSES, how much will our results improve?"
   ]
  },
  {
   "cell_type": "code",
   "execution_count": 533,
   "metadata": {},
   "outputs": [],
   "source": [
    "# getting rid of OTHER OFFENSES\n",
    "dropOF = data[data.Category != 'OTHER OFFENSES'] # 126,182 rows were dropped\n",
    "# reordering columns\n",
    "dropOFReorder = dropOF[['Category', 'Descript', 'Dates', 'DayOfWeek', 'PdDistrict', 'Resolution', 'Address', 'X', 'Y']]\n",
    "dropOFReorderAgain = dropOF[['Category', 'Descript', 'Dates', 'DayOfWeek', 'PdDistrict', 'Resolution', 'Address', 'X', 'Y']]\n",
    "# dropOFReorder.head()"
   ]
  },
  {
   "cell_type": "code",
   "execution_count": 534,
   "metadata": {},
   "outputs": [
    {
     "data": {
      "text/html": [
       "<div>\n",
       "<style scoped>\n",
       "    .dataframe tbody tr th:only-of-type {\n",
       "        vertical-align: middle;\n",
       "    }\n",
       "\n",
       "    .dataframe tbody tr th {\n",
       "        vertical-align: top;\n",
       "    }\n",
       "\n",
       "    .dataframe thead th {\n",
       "        text-align: right;\n",
       "    }\n",
       "</style>\n",
       "<table border=\"1\" class=\"dataframe\">\n",
       "  <thead>\n",
       "    <tr style=\"text-align: right;\">\n",
       "      <th></th>\n",
       "      <th>Category</th>\n",
       "      <th>Descript</th>\n",
       "      <th>Dates</th>\n",
       "      <th>DayOfWeek</th>\n",
       "      <th>PdDistrict</th>\n",
       "      <th>Resolution</th>\n",
       "      <th>Address</th>\n",
       "      <th>X</th>\n",
       "      <th>Y</th>\n",
       "    </tr>\n",
       "  </thead>\n",
       "  <tbody>\n",
       "    <tr>\n",
       "      <th>0</th>\n",
       "      <td>36</td>\n",
       "      <td>700</td>\n",
       "      <td>345356</td>\n",
       "      <td>6</td>\n",
       "      <td>4</td>\n",
       "      <td>0</td>\n",
       "      <td>19468</td>\n",
       "      <td>18412</td>\n",
       "      <td>22625</td>\n",
       "    </tr>\n",
       "    <tr>\n",
       "      <th>3</th>\n",
       "      <td>16</td>\n",
       "      <td>349</td>\n",
       "      <td>345355</td>\n",
       "      <td>6</td>\n",
       "      <td>4</td>\n",
       "      <td>11</td>\n",
       "      <td>4245</td>\n",
       "      <td>18034</td>\n",
       "      <td>32343</td>\n",
       "    </tr>\n",
       "    <tr>\n",
       "      <th>4</th>\n",
       "      <td>16</td>\n",
       "      <td>349</td>\n",
       "      <td>345355</td>\n",
       "      <td>6</td>\n",
       "      <td>5</td>\n",
       "      <td>11</td>\n",
       "      <td>1836</td>\n",
       "      <td>13533</td>\n",
       "      <td>21404</td>\n",
       "    </tr>\n",
       "    <tr>\n",
       "      <th>5</th>\n",
       "      <td>16</td>\n",
       "      <td>351</td>\n",
       "      <td>345355</td>\n",
       "      <td>6</td>\n",
       "      <td>2</td>\n",
       "      <td>11</td>\n",
       "      <td>1500</td>\n",
       "      <td>28643</td>\n",
       "      <td>1316</td>\n",
       "    </tr>\n",
       "    <tr>\n",
       "      <th>6</th>\n",
       "      <td>35</td>\n",
       "      <td>600</td>\n",
       "      <td>345355</td>\n",
       "      <td>6</td>\n",
       "      <td>2</td>\n",
       "      <td>11</td>\n",
       "      <td>13225</td>\n",
       "      <td>19386</td>\n",
       "      <td>4638</td>\n",
       "    </tr>\n",
       "  </tbody>\n",
       "</table>\n",
       "</div>"
      ],
      "text/plain": [
       "   Category  Descript   Dates  DayOfWeek  PdDistrict  Resolution  Address  \\\n",
       "0        36       700  345356          6           4           0    19468   \n",
       "3        16       349  345355          6           4          11     4245   \n",
       "4        16       349  345355          6           5          11     1836   \n",
       "5        16       351  345355          6           2          11     1500   \n",
       "6        35       600  345355          6           2          11    13225   \n",
       "\n",
       "       X      Y  \n",
       "0  18412  22625  \n",
       "3  18034  32343  \n",
       "4  13533  21404  \n",
       "5  28643   1316  \n",
       "6  19386   4638  "
      ]
     },
     "execution_count": 534,
     "metadata": {},
     "output_type": "execute_result"
    }
   ],
   "source": [
    "labelencoder = LabelEncoder()\n",
    "for col in dropOFReorderAgain.columns:\n",
    "    dropOFReorderAgain[col] = labelencoder.fit_transform(dropOFReorderAgain[col])\n",
    "dropOFReorderAgain.head()"
   ]
  },
  {
   "cell_type": "code",
   "execution_count": 535,
   "metadata": {},
   "outputs": [],
   "source": [
    "Xof = dropOFReorderAgain.iloc[:, 1:] \n",
    "yof = dropOFReorderAgain.iloc[:, 0]\n",
    "\n",
    "Xof_train, Xof_test, yof_train, yof_test = train_test_split(Xof, yof, test_size=0.2)\n",
    "\n",
    "# GuassianNB\n",
    "model_naive.fit(Xof_train, yof_train)\n",
    "nb_predof = model_naive.predict(Xof_test)\n",
    "\n",
    "# Decision Tree\n",
    "model_tree.fit(Xof_train, yof_train)\n",
    "tree_predof = model_tree.predict(Xof_test)\n",
    "\n",
    "# Random Forest\n",
    "model_forest.fit(Xof_train, yof_train)\n",
    "forest_predof = model_forest.predict(Xof_test)"
   ]
  },
  {
   "cell_type": "code",
   "execution_count": 536,
   "metadata": {},
   "outputs": [
    {
     "name": "stdout",
     "output_type": "stream",
     "text": [
      "ACCURACY SCORES\n",
      "\n",
      "GuassianNb: 0.5066035351856039\n",
      "Decision Tree: 0.9995078936518281\n",
      "Random Forest: 0.9200260683362815\n"
     ]
    }
   ],
   "source": [
    "print(\"ACCURACY SCORES\")\n",
    "print()\n",
    "pred_names = [\"GuassianNb\", \"Decision Tree\", \"Random Forest\"]\n",
    "predictions = [nb_predof, tree_predof, forest_predof]\n",
    "for i in range(0, 3):\n",
    "    print(pred_names[i] + \": \" + str(accuracy_score(yof_test, predictions[i])))"
   ]
  },
  {
   "cell_type": "markdown",
   "metadata": {},
   "source": [
    "### Takeaways\n",
    "- As expected, all the classifiers did significantly better without OTHER OFFENSES to account for"
   ]
  },
  {
   "cell_type": "code",
   "execution_count": 537,
   "metadata": {},
   "outputs": [
    {
     "data": {
      "text/plain": [
       "175610"
      ]
     },
     "execution_count": 537,
     "metadata": {},
     "output_type": "execute_result"
    }
   ],
   "source": [
    "len(y_test)"
   ]
  },
  {
   "cell_type": "markdown",
   "metadata": {},
   "source": [
    "## That was fun, but let's do some data exploration of the misclassified Random Forest data"
   ]
  },
  {
   "cell_type": "markdown",
   "metadata": {},
   "source": [
    "### Random Forest break breakdown\n",
    "#### Length of y_test: 175,610\n",
    "#### number of misclassified rows: 15,968\n",
    "#### number of correctly classified rows: 159,642"
   ]
  },
  {
   "cell_type": "markdown",
   "metadata": {},
   "source": [
    "### Heatmaps of misclassified and correct"
   ]
  },
  {
   "cell_type": "code",
   "execution_count": 538,
   "metadata": {},
   "outputs": [],
   "source": [
    "misclassified = X_test[y_test != forest_pred]\n",
    "misclassified = pd.concat([y_test, misclassified], axis=1, join='inner')\n",
    "correct = X_test[y_test == forest_pred]\n",
    "correct = pd.concat([y_test, correct], axis=1, join='inner')"
   ]
  },
  {
   "cell_type": "code",
   "execution_count": 539,
   "metadata": {
    "scrolled": true
   },
   "outputs": [
    {
     "data": {
      "image/png": "[encoded data removed]",
      "text/plain": [
       "<Figure size 1152x360 with 2 Axes>"
      ]
     },
     "metadata": {},
     "output_type": "display_data"
    }
   ],
   "source": [
    "plt.figure(figsize = (16,5))\n",
    "ax = sns.heatmap(misclassified.corr(), annot=True)"
   ]
  },
  {
   "cell_type": "code",
   "execution_count": 540,
   "metadata": {},
   "outputs": [
    {
     "data": {
      "image/png": "[encoded data removed]",
      "text/plain": [
       "<Figure size 1152x360 with 2 Axes>"
      ]
     },
     "metadata": {},
     "output_type": "display_data"
    }
   ],
   "source": [
    "plt.figure(figsize = (16,5))\n",
    "ax = sns.heatmap(correct.corr(), annot=True)"
   ]
  },
  {
   "cell_type": "markdown",
   "metadata": {},
   "source": [
    "### Takeaways\n",
    "- Pretty similar heatmaps, not much of a surprise there"
   ]
  },
  {
   "cell_type": "markdown",
   "metadata": {},
   "source": [
    "#### delabelencoding"
   ]
  },
  {
   "cell_type": "code",
   "execution_count": 541,
   "metadata": {
    "scrolled": true
   },
   "outputs": [
    {
     "name": "stderr",
     "output_type": "stream",
     "text": [
      "/usr/local/lib/python3.5/site-packages/sklearn/preprocessing/label.py:151: DeprecationWarning: The truth value of an empty array is ambiguous. Returning False, but in future this will result in an error. Use `array.size > 0` to check that an array is not empty.\n",
      "  if diff:\n",
      "/usr/local/lib/python3.5/site-packages/sklearn/preprocessing/label.py:151: DeprecationWarning: The truth value of an empty array is ambiguous. Returning False, but in future this will result in an error. Use `array.size > 0` to check that an array is not empty.\n",
      "  if diff:\n",
      "/usr/local/lib/python3.5/site-packages/sklearn/preprocessing/label.py:151: DeprecationWarning: The truth value of an empty array is ambiguous. Returning False, but in future this will result in an error. Use `array.size > 0` to check that an array is not empty.\n",
      "  if diff:\n",
      "/usr/local/lib/python3.5/site-packages/sklearn/preprocessing/label.py:151: DeprecationWarning: The truth value of an empty array is ambiguous. Returning False, but in future this will result in an error. Use `array.size > 0` to check that an array is not empty.\n",
      "  if diff:\n",
      "/usr/local/lib/python3.5/site-packages/sklearn/preprocessing/label.py:151: DeprecationWarning: The truth value of an empty array is ambiguous. Returning False, but in future this will result in an error. Use `array.size > 0` to check that an array is not empty.\n",
      "  if diff:\n",
      "/usr/local/lib/python3.5/site-packages/sklearn/preprocessing/label.py:151: DeprecationWarning: The truth value of an empty array is ambiguous. Returning False, but in future this will result in an error. Use `array.size > 0` to check that an array is not empty.\n",
      "  if diff:\n",
      "/usr/local/lib/python3.5/site-packages/sklearn/preprocessing/label.py:151: DeprecationWarning: The truth value of an empty array is ambiguous. Returning False, but in future this will result in an error. Use `array.size > 0` to check that an array is not empty.\n",
      "  if diff:\n",
      "/usr/local/lib/python3.5/site-packages/sklearn/preprocessing/label.py:151: DeprecationWarning: The truth value of an empty array is ambiguous. Returning False, but in future this will result in an error. Use `array.size > 0` to check that an array is not empty.\n",
      "  if diff:\n",
      "/usr/local/lib/python3.5/site-packages/sklearn/preprocessing/label.py:151: DeprecationWarning: The truth value of an empty array is ambiguous. Returning False, but in future this will result in an error. Use `array.size > 0` to check that an array is not empty.\n",
      "  if diff:\n",
      "/usr/local/lib/python3.5/site-packages/sklearn/preprocessing/label.py:151: DeprecationWarning: The truth value of an empty array is ambiguous. Returning False, but in future this will result in an error. Use `array.size > 0` to check that an array is not empty.\n",
      "  if diff:\n",
      "/usr/local/lib/python3.5/site-packages/sklearn/preprocessing/label.py:151: DeprecationWarning: The truth value of an empty array is ambiguous. Returning False, but in future this will result in an error. Use `array.size > 0` to check that an array is not empty.\n",
      "  if diff:\n",
      "/usr/local/lib/python3.5/site-packages/sklearn/preprocessing/label.py:151: DeprecationWarning: The truth value of an empty array is ambiguous. Returning False, but in future this will result in an error. Use `array.size > 0` to check that an array is not empty.\n",
      "  if diff:\n",
      "/usr/local/lib/python3.5/site-packages/sklearn/preprocessing/label.py:151: DeprecationWarning: The truth value of an empty array is ambiguous. Returning False, but in future this will result in an error. Use `array.size > 0` to check that an array is not empty.\n",
      "  if diff:\n",
      "/usr/local/lib/python3.5/site-packages/sklearn/preprocessing/label.py:151: DeprecationWarning: The truth value of an empty array is ambiguous. Returning False, but in future this will result in an error. Use `array.size > 0` to check that an array is not empty.\n",
      "  if diff:\n",
      "/usr/local/lib/python3.5/site-packages/sklearn/preprocessing/label.py:151: DeprecationWarning: The truth value of an empty array is ambiguous. Returning False, but in future this will result in an error. Use `array.size > 0` to check that an array is not empty.\n",
      "  if diff:\n",
      "/usr/local/lib/python3.5/site-packages/sklearn/preprocessing/label.py:151: DeprecationWarning: The truth value of an empty array is ambiguous. Returning False, but in future this will result in an error. Use `array.size > 0` to check that an array is not empty.\n",
      "  if diff:\n",
      "/usr/local/lib/python3.5/site-packages/sklearn/preprocessing/label.py:151: DeprecationWarning: The truth value of an empty array is ambiguous. Returning False, but in future this will result in an error. Use `array.size > 0` to check that an array is not empty.\n",
      "  if diff:\n",
      "/usr/local/lib/python3.5/site-packages/sklearn/preprocessing/label.py:151: DeprecationWarning: The truth value of an empty array is ambiguous. Returning False, but in future this will result in an error. Use `array.size > 0` to check that an array is not empty.\n",
      "  if diff:\n",
      "/usr/local/lib/python3.5/site-packages/sklearn/preprocessing/label.py:151: DeprecationWarning: The truth value of an empty array is ambiguous. Returning False, but in future this will result in an error. Use `array.size > 0` to check that an array is not empty.\n",
      "  if diff:\n",
      "/usr/local/lib/python3.5/site-packages/sklearn/preprocessing/label.py:151: DeprecationWarning: The truth value of an empty array is ambiguous. Returning False, but in future this will result in an error. Use `array.size > 0` to check that an array is not empty.\n",
      "  if diff:\n"
     ]
    }
   ],
   "source": [
    "# delabelencode misclassified\n",
    "from collections import defaultdict\n",
    "d = defaultdict(LabelEncoder)\n",
    "fit = data.apply(lambda x: d[x.name].fit_transform(x))\n",
    "misclassified = misclassified.apply(lambda x: d[x.name].inverse_transform(x))\n",
    "\n",
    "# delabelencode correct\n",
    "dd = defaultdict(LabelEncoder)\n",
    "fit = data.apply(lambda x: dd[x.name].fit_transform(x))\n",
    "correct = correct.apply(lambda x: dd[x.name].inverse_transform(x))"
   ]
  },
  {
   "cell_type": "markdown",
   "metadata": {},
   "source": [
    "### Comparing PdDistricts for both the misclassified and correct rows"
   ]
  },
  {
   "cell_type": "code",
   "execution_count": 542,
   "metadata": {},
   "outputs": [
    {
     "data": {
      "text/html": [
       "<div>\n",
       "<style scoped>\n",
       "    .dataframe tbody tr th:only-of-type {\n",
       "        vertical-align: middle;\n",
       "    }\n",
       "\n",
       "    .dataframe tbody tr th {\n",
       "        vertical-align: top;\n",
       "    }\n",
       "\n",
       "    .dataframe thead th {\n",
       "        text-align: right;\n",
       "    }\n",
       "</style>\n",
       "<table border=\"1\" class=\"dataframe\">\n",
       "  <thead>\n",
       "    <tr style=\"text-align: right;\">\n",
       "      <th>PdDistrict</th>\n",
       "      <th>Category</th>\n",
       "      <th>BAYVIEW</th>\n",
       "      <th>CENTRAL</th>\n",
       "      <th>INGLESIDE</th>\n",
       "      <th>MISSION</th>\n",
       "      <th>NORTHERN</th>\n",
       "      <th>PARK</th>\n",
       "      <th>RICHMOND</th>\n",
       "      <th>SOUTHERN</th>\n",
       "      <th>TARAVAL</th>\n",
       "      <th>...</th>\n",
       "      <th>SOUTHERN%</th>\n",
       "      <th>TARAVAL%</th>\n",
       "      <th>RICHMOND%</th>\n",
       "      <th>PARK%</th>\n",
       "      <th>BAYVIEW%</th>\n",
       "      <th>MISSION%</th>\n",
       "      <th>TENDERLOIN%</th>\n",
       "      <th>CENTRAL%</th>\n",
       "      <th>INGLESIDE%</th>\n",
       "      <th>NORTHERN%</th>\n",
       "    </tr>\n",
       "  </thead>\n",
       "  <tbody>\n",
       "    <tr>\n",
       "      <th>0</th>\n",
       "      <td>ARSON</td>\n",
       "      <td>53</td>\n",
       "      <td>12</td>\n",
       "      <td>27</td>\n",
       "      <td>16</td>\n",
       "      <td>17</td>\n",
       "      <td>8</td>\n",
       "      <td>14</td>\n",
       "      <td>10</td>\n",
       "      <td>10</td>\n",
       "      <td>...</td>\n",
       "      <td>5.847953</td>\n",
       "      <td>5.847953</td>\n",
       "      <td>8.187135</td>\n",
       "      <td>4.678363</td>\n",
       "      <td>30.994152</td>\n",
       "      <td>9.356725</td>\n",
       "      <td>2.339181</td>\n",
       "      <td>7.017544</td>\n",
       "      <td>15.789474</td>\n",
       "      <td>9.941520</td>\n",
       "    </tr>\n",
       "    <tr>\n",
       "      <th>1</th>\n",
       "      <td>ASSAULT</td>\n",
       "      <td>1905</td>\n",
       "      <td>1283</td>\n",
       "      <td>1539</td>\n",
       "      <td>2113</td>\n",
       "      <td>1619</td>\n",
       "      <td>631</td>\n",
       "      <td>580</td>\n",
       "      <td>2326</td>\n",
       "      <td>968</td>\n",
       "      <td>...</td>\n",
       "      <td>16.114729</td>\n",
       "      <td>6.706388</td>\n",
       "      <td>4.018290</td>\n",
       "      <td>4.371623</td>\n",
       "      <td>13.198005</td>\n",
       "      <td>14.639047</td>\n",
       "      <td>10.184287</td>\n",
       "      <td>8.888735</td>\n",
       "      <td>10.662325</td>\n",
       "      <td>11.216572</td>\n",
       "    </tr>\n",
       "    <tr>\n",
       "      <th>2</th>\n",
       "      <td>BAD CHECKS</td>\n",
       "      <td>0</td>\n",
       "      <td>5</td>\n",
       "      <td>1</td>\n",
       "      <td>0</td>\n",
       "      <td>3</td>\n",
       "      <td>0</td>\n",
       "      <td>1</td>\n",
       "      <td>3</td>\n",
       "      <td>2</td>\n",
       "      <td>...</td>\n",
       "      <td>20.000000</td>\n",
       "      <td>13.333333</td>\n",
       "      <td>6.666667</td>\n",
       "      <td>0.000000</td>\n",
       "      <td>0.000000</td>\n",
       "      <td>0.000000</td>\n",
       "      <td>0.000000</td>\n",
       "      <td>33.333333</td>\n",
       "      <td>6.666667</td>\n",
       "      <td>20.000000</td>\n",
       "    </tr>\n",
       "    <tr>\n",
       "      <th>3</th>\n",
       "      <td>BRIBERY</td>\n",
       "      <td>5</td>\n",
       "      <td>0</td>\n",
       "      <td>1</td>\n",
       "      <td>4</td>\n",
       "      <td>0</td>\n",
       "      <td>0</td>\n",
       "      <td>1</td>\n",
       "      <td>1</td>\n",
       "      <td>0</td>\n",
       "      <td>...</td>\n",
       "      <td>8.333333</td>\n",
       "      <td>0.000000</td>\n",
       "      <td>8.333333</td>\n",
       "      <td>0.000000</td>\n",
       "      <td>41.666667</td>\n",
       "      <td>33.333333</td>\n",
       "      <td>0.000000</td>\n",
       "      <td>0.000000</td>\n",
       "      <td>8.333333</td>\n",
       "      <td>0.000000</td>\n",
       "    </tr>\n",
       "    <tr>\n",
       "      <th>4</th>\n",
       "      <td>BURGLARY</td>\n",
       "      <td>787</td>\n",
       "      <td>886</td>\n",
       "      <td>669</td>\n",
       "      <td>756</td>\n",
       "      <td>1116</td>\n",
       "      <td>548</td>\n",
       "      <td>549</td>\n",
       "      <td>956</td>\n",
       "      <td>652</td>\n",
       "      <td>...</td>\n",
       "      <td>13.283312</td>\n",
       "      <td>9.059330</td>\n",
       "      <td>7.628178</td>\n",
       "      <td>7.614284</td>\n",
       "      <td>10.935112</td>\n",
       "      <td>10.504377</td>\n",
       "      <td>3.862721</td>\n",
       "      <td>12.310685</td>\n",
       "      <td>9.295540</td>\n",
       "      <td>15.506461</td>\n",
       "    </tr>\n",
       "  </tbody>\n",
       "</table>\n",
       "<p>5 rows × 22 columns</p>\n",
       "</div>"
      ],
      "text/plain": [
       "PdDistrict    Category  BAYVIEW  CENTRAL  INGLESIDE  MISSION  NORTHERN  PARK  \\\n",
       "0                ARSON       53       12         27       16        17     8   \n",
       "1              ASSAULT     1905     1283       1539     2113      1619   631   \n",
       "2           BAD CHECKS        0        5          1        0         3     0   \n",
       "3              BRIBERY        5        0          1        4         0     0   \n",
       "4             BURGLARY      787      886        669      756      1116   548   \n",
       "\n",
       "PdDistrict  RICHMOND  SOUTHERN  TARAVAL    ...      SOUTHERN%   TARAVAL%  \\\n",
       "0                 14        10       10    ...       5.847953   5.847953   \n",
       "1                580      2326      968    ...      16.114729   6.706388   \n",
       "2                  1         3        2    ...      20.000000  13.333333   \n",
       "3                  1         1        0    ...       8.333333   0.000000   \n",
       "4                549       956      652    ...      13.283312   9.059330   \n",
       "\n",
       "PdDistrict  RICHMOND%     PARK%   BAYVIEW%   MISSION%  TENDERLOIN%   CENTRAL%  \\\n",
       "0            8.187135  4.678363  30.994152   9.356725     2.339181   7.017544   \n",
       "1            4.018290  4.371623  13.198005  14.639047    10.184287   8.888735   \n",
       "2            6.666667  0.000000   0.000000   0.000000     0.000000  33.333333   \n",
       "3            8.333333  0.000000  41.666667  33.333333     0.000000   0.000000   \n",
       "4            7.628178  7.614284  10.935112  10.504377     3.862721  12.310685   \n",
       "\n",
       "PdDistrict  INGLESIDE%  NORTHERN%  \n",
       "0            15.789474   9.941520  \n",
       "1            10.662325  11.216572  \n",
       "2             6.666667  20.000000  \n",
       "3             8.333333   0.000000  \n",
       "4             9.295540  15.506461  \n",
       "\n",
       "[5 rows x 22 columns]"
      ]
     },
     "execution_count": 542,
     "metadata": {},
     "output_type": "execute_result"
    }
   ],
   "source": [
    "# adding a total column\n",
    "perctcorrect = pd.crosstab([correct.Category], correct.PdDistrict).reset_index()\n",
    "perctcorrect['total'] = perctcorrect.sum(axis=1)\n",
    "\n",
    "# calculating percent for each row        \n",
    "for district in correct.PdDistrict.unique():\n",
    "    perctcorrect[district+'%'] = perctcorrect.apply(lambda perctcorrect: perctcorrect[district]/perctcorrect.total*100, axis=1)\n",
    "\n",
    "# dropping unncessary columns\n",
    "perctcorrecterct = perctcorrect.drop(['BAYVIEW', 'CENTRAL', 'INGLESIDE', 'MISSION', 'NORTHERN', 'PARK', 'RICHMOND', 'SOUTHERN', 'TARAVAL', 'TENDERLOIN', 'total'], axis=1)\n",
    "perctcorrect.head()"
   ]
  },
  {
   "cell_type": "code",
   "execution_count": 543,
   "metadata": {},
   "outputs": [
    {
     "name": "stderr",
     "output_type": "stream",
     "text": [
      "/usr/local/lib/python3.5/site-packages/pandas/plotting/_core.py:1716: UserWarning: Pandas doesn't allow columns to be created via a new attribute name - see https://pandas.pydata.org/pandas-docs/stable/indexing.html#attribute-access\n",
      "  series.name = label\n"
     ]
    },
    {
     "data": {
      "text/plain": [
       "Text(0.5,1,'% of Correctly Classified Crimes by District')"
      ]
     },
     "execution_count": 543,
     "metadata": {},
     "output_type": "execute_result"
    },
    {
     "data": {
      "image/png": "[encoded data removed]",
      "text/plain": [
       "<Figure size 1512x720 with 1 Axes>"
      ]
     },
     "metadata": {},
     "output_type": "display_data"
    }
   ],
   "source": [
    "perctcorrect.plot.bar(x='Category', y=['NORTHERN%', 'PARK%', 'INGLESIDE%', 'BAYVIEW%', 'RICHMOND%', 'CENTRAL%', 'TARAVAL%', 'TENDERLOIN%', 'MISSION%', 'SOUTHERN%'], stacked=True, figsize=(21,10))\n",
    "plt.ylabel('% of PdDistrict')\n",
    "plt.title('% of Correctly Classified Crimes by District')"
   ]
  },
  {
   "cell_type": "code",
   "execution_count": 544,
   "metadata": {},
   "outputs": [
    {
     "data": {
      "text/html": [
       "<div>\n",
       "<style scoped>\n",
       "    .dataframe tbody tr th:only-of-type {\n",
       "        vertical-align: middle;\n",
       "    }\n",
       "\n",
       "    .dataframe tbody tr th {\n",
       "        vertical-align: top;\n",
       "    }\n",
       "\n",
       "    .dataframe thead th {\n",
       "        text-align: right;\n",
       "    }\n",
       "</style>\n",
       "<table border=\"1\" class=\"dataframe\">\n",
       "  <thead>\n",
       "    <tr style=\"text-align: right;\">\n",
       "      <th>PdDistrict</th>\n",
       "      <th>Category</th>\n",
       "      <th>INGLESIDE%</th>\n",
       "      <th>MISSION%</th>\n",
       "      <th>SOUTHERN%</th>\n",
       "      <th>BAYVIEW%</th>\n",
       "      <th>TARAVAL%</th>\n",
       "      <th>TENDERLOIN%</th>\n",
       "      <th>CENTRAL%</th>\n",
       "      <th>NORTHERN%</th>\n",
       "      <th>RICHMOND%</th>\n",
       "      <th>PARK%</th>\n",
       "    </tr>\n",
       "  </thead>\n",
       "  <tbody>\n",
       "    <tr>\n",
       "      <th>0</th>\n",
       "      <td>ARSON</td>\n",
       "      <td>20.634921</td>\n",
       "      <td>9.523810</td>\n",
       "      <td>14.285714</td>\n",
       "      <td>20.634921</td>\n",
       "      <td>7.936508</td>\n",
       "      <td>4.761905</td>\n",
       "      <td>7.142857</td>\n",
       "      <td>9.523810</td>\n",
       "      <td>4.761905</td>\n",
       "      <td>0.793651</td>\n",
       "    </tr>\n",
       "    <tr>\n",
       "      <th>1</th>\n",
       "      <td>ASSAULT</td>\n",
       "      <td>10.347985</td>\n",
       "      <td>14.743590</td>\n",
       "      <td>12.728938</td>\n",
       "      <td>13.736264</td>\n",
       "      <td>9.798535</td>\n",
       "      <td>8.516484</td>\n",
       "      <td>9.249084</td>\n",
       "      <td>10.805861</td>\n",
       "      <td>5.036630</td>\n",
       "      <td>5.036630</td>\n",
       "    </tr>\n",
       "    <tr>\n",
       "      <th>2</th>\n",
       "      <td>BAD CHECKS</td>\n",
       "      <td>13.157895</td>\n",
       "      <td>5.263158</td>\n",
       "      <td>14.473684</td>\n",
       "      <td>13.157895</td>\n",
       "      <td>6.578947</td>\n",
       "      <td>1.315789</td>\n",
       "      <td>14.473684</td>\n",
       "      <td>11.842105</td>\n",
       "      <td>15.789474</td>\n",
       "      <td>3.947368</td>\n",
       "    </tr>\n",
       "    <tr>\n",
       "      <th>3</th>\n",
       "      <td>BRIBERY</td>\n",
       "      <td>9.523810</td>\n",
       "      <td>23.809524</td>\n",
       "      <td>16.666667</td>\n",
       "      <td>19.047619</td>\n",
       "      <td>11.904762</td>\n",
       "      <td>7.142857</td>\n",
       "      <td>4.761905</td>\n",
       "      <td>0.000000</td>\n",
       "      <td>2.380952</td>\n",
       "      <td>4.761905</td>\n",
       "    </tr>\n",
       "    <tr>\n",
       "      <th>4</th>\n",
       "      <td>BURGLARY</td>\n",
       "      <td>6.329114</td>\n",
       "      <td>11.392405</td>\n",
       "      <td>15.189873</td>\n",
       "      <td>11.392405</td>\n",
       "      <td>6.329114</td>\n",
       "      <td>6.329114</td>\n",
       "      <td>17.721519</td>\n",
       "      <td>13.924051</td>\n",
       "      <td>3.797468</td>\n",
       "      <td>7.594937</td>\n",
       "    </tr>\n",
       "  </tbody>\n",
       "</table>\n",
       "</div>"
      ],
      "text/plain": [
       "PdDistrict    Category  INGLESIDE%   MISSION%  SOUTHERN%   BAYVIEW%  \\\n",
       "0                ARSON   20.634921   9.523810  14.285714  20.634921   \n",
       "1              ASSAULT   10.347985  14.743590  12.728938  13.736264   \n",
       "2           BAD CHECKS   13.157895   5.263158  14.473684  13.157895   \n",
       "3              BRIBERY    9.523810  23.809524  16.666667  19.047619   \n",
       "4             BURGLARY    6.329114  11.392405  15.189873  11.392405   \n",
       "\n",
       "PdDistrict   TARAVAL%  TENDERLOIN%   CENTRAL%  NORTHERN%  RICHMOND%     PARK%  \n",
       "0            7.936508     4.761905   7.142857   9.523810   4.761905  0.793651  \n",
       "1            9.798535     8.516484   9.249084  10.805861   5.036630  5.036630  \n",
       "2            6.578947     1.315789  14.473684  11.842105  15.789474  3.947368  \n",
       "3           11.904762     7.142857   4.761905   0.000000   2.380952  4.761905  \n",
       "4            6.329114     6.329114  17.721519  13.924051   3.797468  7.594937  "
      ]
     },
     "execution_count": 544,
     "metadata": {},
     "output_type": "execute_result"
    }
   ],
   "source": [
    "# adding a total column\n",
    "perctmis = pd.crosstab([misclassified.Category], misclassified.PdDistrict).reset_index()\n",
    "perctmis['total'] = perctmis.sum(axis=1)\n",
    "\n",
    "# calculating percent for each row        \n",
    "for district in misclassified.PdDistrict.unique():\n",
    "    perctmis[district+'%'] = perctmis.apply(lambda perctmis: perctmis[district]/perctmis.total*100, axis=1)\n",
    "\n",
    "# dropping unncessary columns\n",
    "perctmis = perctmis.drop(['BAYVIEW', 'CENTRAL', 'INGLESIDE', 'MISSION', 'NORTHERN', 'PARK', 'RICHMOND', 'SOUTHERN', 'TARAVAL', 'TENDERLOIN', 'total'], axis=1)\n",
    "perctmis.head()"
   ]
  },
  {
   "cell_type": "code",
   "execution_count": 545,
   "metadata": {},
   "outputs": [
    {
     "name": "stderr",
     "output_type": "stream",
     "text": [
      "/usr/local/lib/python3.5/site-packages/pandas/plotting/_core.py:1716: UserWarning: Pandas doesn't allow columns to be created via a new attribute name - see https://pandas.pydata.org/pandas-docs/stable/indexing.html#attribute-access\n",
      "  series.name = label\n"
     ]
    },
    {
     "data": {
      "text/plain": [
       "Text(0.5,1,'% of Misclassified Crimes by District')"
      ]
     },
     "execution_count": 545,
     "metadata": {},
     "output_type": "execute_result"
    },
    {
     "data": {
      "image/png": "[encoded data removed]",
      "text/plain": [
       "<Figure size 1512x720 with 1 Axes>"
      ]
     },
     "metadata": {},
     "output_type": "display_data"
    }
   ],
   "source": [
    "perctmis.plot.bar(x='Category', y=['NORTHERN%', 'PARK%', 'INGLESIDE%', 'BAYVIEW%', 'RICHMOND%', 'CENTRAL%', 'TARAVAL%', 'TENDERLOIN%', 'MISSION%', 'SOUTHERN%'], stacked=True, figsize=(21,10))\n",
    "plt.ylabel('% of PdDistrict')\n",
    "plt.title('% of Misclassified Crimes by District')"
   ]
  },
  {
   "cell_type": "markdown",
   "metadata": {},
   "source": [
    "## Takeaways\n",
    "In general: \n",
    "- The misclassified rows of data seem to have greater representaion of each district for each catgory whereas the correcly classified graph shows that this is not obviously the case for each category and that some districts on any given run, are more or less dominant than others.\n",
    "\n",
    "One particular run:\n",
    "- There are a lot of differences between the PdDistrict percentages of the misclassified versus the correct dataset. \n",
    "- What's most striking of course is the EXTORTION category where the Correct Graph shows that 100% of the EXTORTION test set cases came from the Taraval district whereas the Misclassified Graph shows us that the classifier believed on more than one occasion that a particular case was EXTORTION even though it's district wasn't Taraval. (Same thing for SEX OFFENSES NON FORCIBAL)\n",
    "- It's also interesting to note that for each category, the misclassified rows had representation from each distric--there was only one occasion where there was a significant representation of one district over the others (the PORNOGRAPHY category), whereas the correctly classified graph shows that there are several occasions, rather than just one, where a particular districted dominated a certain category."
   ]
  },
  {
   "cell_type": "markdown",
   "metadata": {},
   "source": [
    "### Comparing dates between the misclassified and correctly classified rows"
   ]
  },
  {
   "cell_type": "code",
   "execution_count": 546,
   "metadata": {},
   "outputs": [
    {
     "data": {
      "text/plain": [
       "<matplotlib.axes._subplots.AxesSubplot at 0x7f3e2df5a5c0>"
      ]
     },
     "execution_count": 546,
     "metadata": {},
     "output_type": "execute_result"
    },
    {
     "data": {
      "image/png": "[encoded data removed]",
      "text/plain": [
       "<Figure size 1296x432 with 4 Axes>"
      ]
     },
     "metadata": {},
     "output_type": "display_data"
    }
   ],
   "source": [
    "correct['Dates_year'] = correct['Dates'].dt.year\n",
    "correct['Dates_month'] = correct['Dates'].dt.month\n",
    "correct['Dates_day'] = correct['Dates'].dt.day\n",
    "correct['Dates_hour'] = correct['Dates'].dt.hour\n",
    "\n",
    "fig, ((axis1,axis2),(axis3,axis4)) = plt.subplots(nrows=2, ncols=2)\n",
    "fig.set_size_inches(18,6)\n",
    "\n",
    "sns.countplot(data=correct, x='Dates_year', ax=axis1)\n",
    "sns.countplot(data=correct, x='Dates_month', ax=axis2)\n",
    "sns.countplot(data=correct, x='Dates_day', ax=axis3)\n",
    "sns.countplot(data=correct, x='Dates_hour', ax=axis4)"
   ]
  },
  {
   "cell_type": "markdown",
   "metadata": {},
   "source": [
    "### Above: correctly classified\n",
    "### Below: misclassified"
   ]
  },
  {
   "cell_type": "code",
   "execution_count": 547,
   "metadata": {},
   "outputs": [
    {
     "data": {
      "text/plain": [
       "<matplotlib.axes._subplots.AxesSubplot at 0x7f3e2d1eeba8>"
      ]
     },
     "execution_count": 547,
     "metadata": {},
     "output_type": "execute_result"
    },
    {
     "data": {
      "image/png": "[encoded data removed]",
      "text/plain": [
       "<Figure size 1296x432 with 4 Axes>"
      ]
     },
     "metadata": {},
     "output_type": "display_data"
    }
   ],
   "source": [
    "misclassified['Dates_year'] = misclassified['Dates'].dt.year\n",
    "misclassified['Dates_month'] = misclassified['Dates'].dt.month\n",
    "misclassified['Dates_day'] = misclassified['Dates'].dt.day\n",
    "misclassified['Dates_hour'] = misclassified['Dates'].dt.hour\n",
    "\n",
    "fig, ((axis1,axis2),(axis3,axis4)) = plt.subplots(nrows=2, ncols=2)\n",
    "fig.set_size_inches(18,6)\n",
    "\n",
    "sns.countplot(data=misclassified, x='Dates_year', ax=axis1)\n",
    "sns.countplot(data=misclassified, x='Dates_month', ax=axis2)\n",
    "sns.countplot(data=misclassified, x='Dates_day', ax=axis3)\n",
    "sns.countplot(data=misclassified, x='Dates_hour', ax=axis4)"
   ]
  },
  {
   "cell_type": "markdown",
   "metadata": {},
   "source": [
    "### Takeaways\n",
    "- In both graphs the hour trend per day and the little lull in the number of crimes for the summer months is consistent\n",
    "- Interesting to note that in the misclassified year graph, the year with the least number of crimes was 2006 (2015 doesn't count as that was when data stopped being collected) whereas compared to the correctly classfied graph, 2006 is right up there in number of crimes with 2003, 2004, and 2012."
   ]
  },
  {
   "cell_type": "markdown",
   "metadata": {},
   "source": [
    "### Short summary\n",
    "We found that the OTHER OFFENSES category was the number one misclassified category for Decision Tree and Random Forest (number two for GaussianNB) because it's number of unique descripts totals 169--more than two times the number of ROBBERY, the second runner up at 72. Given how well Category and Descript correlate with one another, it is no wonder that the classifiers are getting thrown off by all the Descripts for OTHER OFFENSES--as was seen by how much the Random Forest classifier improved when OTHER OFFENSES entries were taken out of the data set. As for exploring the misclassified versus the correctly classified rows, not too many significant insights where found. The heatmaps and date graphs looked pretty similar between the two datasets, but notably, from looking at the breakdown percentages of what PdDistricts the crimes came from, we saw that with the misclassified rows of data, there was more diversification of districts from crime to crime where there were multiple instances in the correctly classified dataset in which one or two districts dominante over others for certain crimes."
   ]
  },
  {
   "cell_type": "markdown",
   "metadata": {},
   "source": [
    "# Follow-up Part 2: GridSearchCV\n",
    "\n",
    "Use either the GridSearchCV or RandomizedSearchCV class to try to find the best values for the hyperparameters for one or more of your algorithms. You should use the sklearn documenation to select some hyper parameters as well as for the details of how to use the Grid or Randomized search models.\n",
    "- In most cases, the best way to determine optimal values for hyperparameters is through a grid search over possible parameter values, using cross validation to evaluate the performance of the model on your data at each value\n",
    "    - (Exhaustive search over specified parameter values for an estimator.)\n",
    "- Hyperparameter optimization finds a tuple of hyperparameters that yields an optimal model which minimizes a predefined loss function on given independent data. The objective function takes a tuple of hyperparameters and returns the associated loss. Cross-validation is often used to estimate this generalization performance.\n",
    "\n",
    "\n",
    "####  *Random forest, Logistic Regression, and SVM were all taking more than two hours to run so unfortunely I was only able to hyper-tune the Decision Tree Classifier.*"
   ]
  },
  {
   "cell_type": "markdown",
   "metadata": {},
   "source": [
    "## Decision Tree"
   ]
  },
  {
   "cell_type": "markdown",
   "metadata": {},
   "source": [
    "### Parameters to try out\n",
    "- max_depth: The maximum depth of the tree. If None, then nodes are expanded until all leaves are pure or until all leaves contain less than min_samples_split samples.\n",
    "- max_features: The number of features to consider when looking for the best split:\n",
    "- max_leaf_nodes: Grow a tree with max_leaf_nodes in best-first fashion. Best nodes are defined as relative reduction in impurity. If None then unlimited number of leaf nodes.\n",
    "- splitter: "
   ]
  },
  {
   "cell_type": "code",
   "execution_count": 548,
   "metadata": {},
   "outputs": [
    {
     "name": "stdout",
     "output_type": "stream",
     "text": [
      "CPU times: user 17min 42s, sys: 1min 25s, total: 19min 8s\n",
      "Wall time: 19min 8s\n"
     ]
    }
   ],
   "source": [
    "%%time\n",
    "\n",
    "parameters = {'max_depth': [None, 15, 20, 30], 'max_features': [None, 4, \"sqrt\", \"log2\"], 'max_leaf_nodes': [None, 10, 50, 100, 120, 150, 200, 300, 500], 'splitter': ['random', 'best']}\n",
    "model_treeGrid = GridSearchCV(DecisionTreeClassifier(), parameters)\n",
    "model_treeGrid.fit(X_train, y_train)"
   ]
  },
  {
   "cell_type": "code",
   "execution_count": 549,
   "metadata": {},
   "outputs": [
    {
     "data": {
      "text/plain": [
       "{'max_depth': None,\n",
       " 'max_features': None,\n",
       " 'max_leaf_nodes': None,\n",
       " 'splitter': 'best'}"
      ]
     },
     "execution_count": 549,
     "metadata": {},
     "output_type": "execute_result"
    }
   ],
   "source": [
    "model_treeGrid.best_params_"
   ]
  },
  {
   "cell_type": "code",
   "execution_count": 550,
   "metadata": {},
   "outputs": [],
   "source": [
    "treeGrid_pred = model_treeGrid.predict(X_test)"
   ]
  },
  {
   "cell_type": "code",
   "execution_count": 551,
   "metadata": {},
   "outputs": [
    {
     "data": {
      "text/plain": [
       "0.999424861909914"
      ]
     },
     "execution_count": 551,
     "metadata": {},
     "output_type": "execute_result"
    }
   ],
   "source": [
    "accuracy_score(y_test, treeGrid_pred)"
   ]
  },
  {
   "cell_type": "code",
   "execution_count": 552,
   "metadata": {},
   "outputs": [
    {
     "data": {
      "text/plain": [
       "array([[  297,     0,     0, ...,     0,     0,     0],\n",
       "       [    0, 15491,     0, ...,     0,     0,     0],\n",
       "       [    0,     0,    91, ...,     0,     0,     0],\n",
       "       ...,\n",
       "       [    0,     0,     0, ..., 10838,     0,     0],\n",
       "       [    0,     0,     0, ...,     0,  8254,     0],\n",
       "       [    0,     0,     0, ...,     0,     0,  1723]])"
      ]
     },
     "execution_count": 552,
     "metadata": {},
     "output_type": "execute_result"
    }
   ],
   "source": [
    "confusion_matrix(y_test, treeGrid_pred)"
   ]
  },
  {
   "cell_type": "code",
   "execution_count": 553,
   "metadata": {},
   "outputs": [
    {
     "name": "stdout",
     "output_type": "stream",
     "text": [
      "                             precision    recall  f1-score   support\n",
      "\n",
      "                      ARSON       1.00      1.00      1.00       297\n",
      "                    ASSAULT       1.00      1.00      1.00     15526\n",
      "                 BAD CHECKS       1.00      1.00      1.00        91\n",
      "                    BRIBERY       1.00      1.00      1.00        54\n",
      "                   BURGLARY       1.00      1.00      1.00      7276\n",
      "         DISORDERLY CONDUCT       1.00      1.00      1.00       828\n",
      "DRIVING UNDER THE INFLUENCE       1.00      1.00      1.00       459\n",
      "              DRUG/NARCOTIC       1.00      1.00      1.00     10658\n",
      "                DRUNKENNESS       1.00      1.00      1.00       853\n",
      "               EMBEZZLEMENT       1.00      1.00      1.00       221\n",
      "                  EXTORTION       1.00      1.00      1.00        54\n",
      "            FAMILY OFFENSES       1.00      1.00      1.00       102\n",
      "     FORGERY/COUNTERFEITING       1.00      1.00      1.00      2136\n",
      "                      FRAUD       1.00      1.00      1.00      3309\n",
      "                   GAMBLING       1.00      1.00      1.00        26\n",
      "                 KIDNAPPING       0.93      0.92      0.92       441\n",
      "              LARCENY/THEFT       1.00      1.00      1.00     34982\n",
      "                LIQUOR LAWS       0.99      1.00      1.00       416\n",
      "                  LOITERING       0.98      0.99      0.99       254\n",
      "             MISSING PERSON       1.00      1.00      1.00      5231\n",
      "               NON-CRIMINAL       1.00      1.00      1.00     18628\n",
      "             OTHER OFFENSES       1.00      1.00      1.00     25323\n",
      "    PORNOGRAPHY/OBSCENE MAT       1.00      1.00      1.00         4\n",
      "               PROSTITUTION       1.00      1.00      1.00      1532\n",
      "          RECOVERED VEHICLE       1.00      1.00      1.00       653\n",
      "                    ROBBERY       1.00      1.00      1.00      4525\n",
      "                    RUNAWAY       1.00      1.00      1.00       391\n",
      "            SECONDARY CODES       1.00      1.00      1.00      2014\n",
      "      SEX OFFENSES FORCIBLE       1.00      1.00      1.00       878\n",
      "  SEX OFFENSES NON FORCIBLE       1.00      1.00      1.00        26\n",
      "            STOLEN PROPERTY       1.00      1.00      1.00       887\n",
      "                    SUICIDE       1.00      1.00      1.00        96\n",
      "             SUSPICIOUS OCC       1.00      1.00      1.00      6346\n",
      "                       TREA       1.00      1.00      1.00         2\n",
      "                   TRESPASS       1.00      1.00      1.00      1459\n",
      "                  VANDALISM       1.00      1.00      1.00      8814\n",
      "              VEHICLE THEFT       1.00      1.00      1.00     10838\n",
      "                   WARRANTS       1.00      1.00      1.00      8254\n",
      "                WEAPON LAWS       1.00      1.00      1.00      1726\n",
      "\n",
      "                avg / total       1.00      1.00      1.00    175610\n",
      "\n"
     ]
    }
   ],
   "source": [
    "print(classification_report(y_test, treeGrid_pred, target_names=sorted_names))"
   ]
  },
  {
   "cell_type": "markdown",
   "metadata": {},
   "source": [
    "### Takeaways\n",
    "- The best parameters were {'max_depth': 30, 'max_features': None, 'max_leaf_nodes': None}\n",
    "- After hyper-tuning, the accuracy score was 99% -- a significant improvement from the original 90% "
   ]
  },
  {
   "cell_type": "markdown",
   "metadata": {},
   "source": [
    "## Follow-up Part 3: Ensemble Learning"
   ]
  },
  {
   "cell_type": "code",
   "execution_count": 554,
   "metadata": {},
   "outputs": [
    {
     "name": "stdout",
     "output_type": "stream",
     "text": [
      "CPU times: user 17min 2s, sys: 55.8 s, total: 17min 58s\n",
      "Wall time: 17min 58s\n"
     ]
    },
    {
     "name": "stderr",
     "output_type": "stream",
     "text": [
      "/usr/local/lib/python3.5/site-packages/sklearn/preprocessing/label.py:151: DeprecationWarning: The truth value of an empty array is ambiguous. Returning False, but in future this will result in an error. Use `array.size > 0` to check that an array is not empty.\n",
      "  if diff:\n"
     ]
    }
   ],
   "source": [
    "%%time\n",
    "\n",
    "estimators = [('NB', model_naive), ('DT', model_treeGrid), ('RF', model_forest)]\n",
    "votingClass = VotingClassifier(estimators)\n",
    "votingClass.fit(X_train, y_train)\n",
    "pred_ens = votingClass.predict(X_test)"
   ]
  },
  {
   "cell_type": "code",
   "execution_count": 555,
   "metadata": {},
   "outputs": [
    {
     "name": "stderr",
     "output_type": "stream",
     "text": [
      "/usr/local/lib/python3.5/site-packages/sklearn/model_selection/_split.py:605: Warning: The least populated class in y has only 2 members, which is too few. The minimum number of members in any class cannot be less than n_splits=5.\n",
      "  % (min_groups, self.n_splits)), Warning)\n"
     ]
    },
    {
     "name": "stdout",
     "output_type": "stream",
     "text": [
      "Accuracy: 0.44 (+/- 0.00) [Naive Bayes]\n"
     ]
    },
    {
     "name": "stderr",
     "output_type": "stream",
     "text": [
      "/usr/local/lib/python3.5/site-packages/sklearn/model_selection/_split.py:605: Warning: The least populated class in y has only 2 members, which is too few. The minimum number of members in any class cannot be less than n_splits=5.\n",
      "  % (min_groups, self.n_splits)), Warning)\n",
      "/usr/local/lib/python3.5/site-packages/sklearn/model_selection/_split.py:605: Warning: The least populated class in y has only 1 members, which is too few. The minimum number of members in any class cannot be less than n_splits=3.\n",
      "  % (min_groups, self.n_splits)), Warning)\n",
      "/usr/local/lib/python3.5/site-packages/sklearn/model_selection/_split.py:605: Warning: The least populated class in y has only 1 members, which is too few. The minimum number of members in any class cannot be less than n_splits=3.\n",
      "  % (min_groups, self.n_splits)), Warning)\n",
      "/usr/local/lib/python3.5/site-packages/sklearn/model_selection/_split.py:605: Warning: The least populated class in y has only 2 members, which is too few. The minimum number of members in any class cannot be less than n_splits=3.\n",
      "  % (min_groups, self.n_splits)), Warning)\n",
      "/usr/local/lib/python3.5/site-packages/sklearn/model_selection/_split.py:605: Warning: The least populated class in y has only 2 members, which is too few. The minimum number of members in any class cannot be less than n_splits=3.\n",
      "  % (min_groups, self.n_splits)), Warning)\n",
      "/usr/local/lib/python3.5/site-packages/sklearn/model_selection/_split.py:605: Warning: The least populated class in y has only 2 members, which is too few. The minimum number of members in any class cannot be less than n_splits=3.\n",
      "  % (min_groups, self.n_splits)), Warning)\n"
     ]
    },
    {
     "name": "stdout",
     "output_type": "stream",
     "text": [
      "Accuracy: 1.00 (+/- 0.00) [Decision Tree]\n"
     ]
    },
    {
     "name": "stderr",
     "output_type": "stream",
     "text": [
      "/usr/local/lib/python3.5/site-packages/sklearn/model_selection/_split.py:605: Warning: The least populated class in y has only 2 members, which is too few. The minimum number of members in any class cannot be less than n_splits=5.\n",
      "  % (min_groups, self.n_splits)), Warning)\n"
     ]
    },
    {
     "name": "stdout",
     "output_type": "stream",
     "text": [
      "Accuracy: 0.86 (+/- 0.02) [Random Forest]\n"
     ]
    },
    {
     "name": "stderr",
     "output_type": "stream",
     "text": [
      "/usr/local/lib/python3.5/site-packages/sklearn/model_selection/_split.py:605: Warning: The least populated class in y has only 2 members, which is too few. The minimum number of members in any class cannot be less than n_splits=5.\n",
      "  % (min_groups, self.n_splits)), Warning)\n",
      "/usr/local/lib/python3.5/site-packages/sklearn/model_selection/_split.py:605: Warning: The least populated class in y has only 1 members, which is too few. The minimum number of members in any class cannot be less than n_splits=3.\n",
      "  % (min_groups, self.n_splits)), Warning)\n",
      "/usr/local/lib/python3.5/site-packages/sklearn/preprocessing/label.py:151: DeprecationWarning: The truth value of an empty array is ambiguous. Returning False, but in future this will result in an error. Use `array.size > 0` to check that an array is not empty.\n",
      "  if diff:\n",
      "/usr/local/lib/python3.5/site-packages/sklearn/model_selection/_split.py:605: Warning: The least populated class in y has only 1 members, which is too few. The minimum number of members in any class cannot be less than n_splits=3.\n",
      "  % (min_groups, self.n_splits)), Warning)\n",
      "/usr/local/lib/python3.5/site-packages/sklearn/preprocessing/label.py:151: DeprecationWarning: The truth value of an empty array is ambiguous. Returning False, but in future this will result in an error. Use `array.size > 0` to check that an array is not empty.\n",
      "  if diff:\n",
      "/usr/local/lib/python3.5/site-packages/sklearn/model_selection/_split.py:605: Warning: The least populated class in y has only 2 members, which is too few. The minimum number of members in any class cannot be less than n_splits=3.\n",
      "  % (min_groups, self.n_splits)), Warning)\n",
      "/usr/local/lib/python3.5/site-packages/sklearn/preprocessing/label.py:151: DeprecationWarning: The truth value of an empty array is ambiguous. Returning False, but in future this will result in an error. Use `array.size > 0` to check that an array is not empty.\n",
      "  if diff:\n",
      "/usr/local/lib/python3.5/site-packages/sklearn/model_selection/_split.py:605: Warning: The least populated class in y has only 2 members, which is too few. The minimum number of members in any class cannot be less than n_splits=3.\n",
      "  % (min_groups, self.n_splits)), Warning)\n",
      "/usr/local/lib/python3.5/site-packages/sklearn/preprocessing/label.py:151: DeprecationWarning: The truth value of an empty array is ambiguous. Returning False, but in future this will result in an error. Use `array.size > 0` to check that an array is not empty.\n",
      "  if diff:\n",
      "/usr/local/lib/python3.5/site-packages/sklearn/model_selection/_split.py:605: Warning: The least populated class in y has only 2 members, which is too few. The minimum number of members in any class cannot be less than n_splits=3.\n",
      "  % (min_groups, self.n_splits)), Warning)\n"
     ]
    },
    {
     "name": "stdout",
     "output_type": "stream",
     "text": [
      "Accuracy: 0.91 (+/- 0.01) [Ensemble]\n"
     ]
    },
    {
     "name": "stderr",
     "output_type": "stream",
     "text": [
      "/usr/local/lib/python3.5/site-packages/sklearn/preprocessing/label.py:151: DeprecationWarning: The truth value of an empty array is ambiguous. Returning False, but in future this will result in an error. Use `array.size > 0` to check that an array is not empty.\n",
      "  if diff:\n"
     ]
    }
   ],
   "source": [
    "from sklearn.model_selection import cross_val_score\n",
    "for clf, label in zip([model_naive, model_treeGrid, model_forest, votingClass], ['Naive Bayes','Decision Tree', 'Random Forest', 'Ensemble']):\n",
    "    scores = cross_val_score(clf, X_test, y_test, cv=5, scoring='accuracy')\n",
    "    print(\"Accuracy: %0.2f (+/- %0.2f) [%s]\" % (scores.mean(), scores.std(), label))"
   ]
  },
  {
   "cell_type": "code",
   "execution_count": 556,
   "metadata": {},
   "outputs": [
    {
     "data": {
      "text/plain": [
       "0.9204771937816753"
      ]
     },
     "execution_count": 556,
     "metadata": {},
     "output_type": "execute_result"
    }
   ],
   "source": [
    "accuracy_score(y_test, pred_ens)"
   ]
  },
  {
   "cell_type": "code",
   "execution_count": 557,
   "metadata": {},
   "outputs": [
    {
     "data": {
      "text/plain": [
       "array([[  215,    48,     0, ...,     0,     0,     0],\n",
       "       [   12, 15227,     0, ...,    37,     0,     0],\n",
       "       [    0,     1,    88, ...,     0,     0,     0],\n",
       "       ...,\n",
       "       [    1,    79,     0, ..., 10469,     0,     0],\n",
       "       [    0,    49,     0, ...,    14,  7808,     0],\n",
       "       [    1,   142,     1, ...,     3,     0,   751]])"
      ]
     },
     "execution_count": 557,
     "metadata": {},
     "output_type": "execute_result"
    }
   ],
   "source": [
    "confusion_matrix(y_test, pred_ens)"
   ]
  },
  {
   "cell_type": "code",
   "execution_count": 558,
   "metadata": {},
   "outputs": [
    {
     "name": "stdout",
     "output_type": "stream",
     "text": [
      "                             precision    recall  f1-score   support\n",
      "\n",
      "                      ARSON       0.80      0.72      0.76       297\n",
      "                    ASSAULT       0.84      0.98      0.90     15526\n",
      "                 BAD CHECKS       0.86      0.97      0.91        91\n",
      "                    BRIBERY       0.52      0.24      0.33        54\n",
      "                   BURGLARY       0.92      1.00      0.96      7276\n",
      "         DISORDERLY CONDUCT       0.76      0.77      0.77       828\n",
      "DRIVING UNDER THE INFLUENCE       0.65      0.99      0.78       459\n",
      "              DRUG/NARCOTIC       0.84      0.98      0.91     10658\n",
      "                DRUNKENNESS       0.78      0.97      0.87       853\n",
      "               EMBEZZLEMENT       0.71      0.81      0.76       221\n",
      "                  EXTORTION       0.83      0.44      0.58        54\n",
      "            FAMILY OFFENSES       0.72      0.43      0.54       102\n",
      "     FORGERY/COUNTERFEITING       0.83      0.85      0.84      2136\n",
      "                      FRAUD       0.85      0.85      0.85      3309\n",
      "                   GAMBLING       0.80      0.46      0.59        26\n",
      "                 KIDNAPPING       0.66      0.46      0.54       441\n",
      "              LARCENY/THEFT       0.93      0.99      0.96     34982\n",
      "                LIQUOR LAWS       0.94      0.37      0.53       416\n",
      "                  LOITERING       0.96      0.56      0.70       254\n",
      "             MISSING PERSON       0.95      0.90      0.93      5231\n",
      "               NON-CRIMINAL       0.95      0.94      0.95     18628\n",
      "             OTHER OFFENSES       0.91      0.89      0.90     25323\n",
      "    PORNOGRAPHY/OBSCENE MAT       0.00      0.00      0.00         4\n",
      "               PROSTITUTION       0.99      0.91      0.95      1532\n",
      "          RECOVERED VEHICLE       0.96      0.77      0.86       653\n",
      "                    ROBBERY       0.98      0.84      0.91      4525\n",
      "                    RUNAWAY       0.99      0.95      0.97       391\n",
      "            SECONDARY CODES       1.00      0.53      0.69      2014\n",
      "      SEX OFFENSES FORCIBLE       0.99      0.22      0.36       878\n",
      "  SEX OFFENSES NON FORCIBLE       0.67      0.08      0.14        26\n",
      "            STOLEN PROPERTY       0.96      0.36      0.52       887\n",
      "                    SUICIDE       0.98      0.51      0.67        96\n",
      "             SUSPICIOUS OCC       0.99      0.92      0.95      6346\n",
      "                       TREA       0.00      0.00      0.00         2\n",
      "                   TRESPASS       0.99      0.60      0.74      1459\n",
      "                  VANDALISM       0.99      0.94      0.97      8814\n",
      "              VEHICLE THEFT       0.98      0.97      0.97     10838\n",
      "                   WARRANTS       1.00      0.95      0.97      8254\n",
      "                WEAPON LAWS       1.00      0.44      0.61      1726\n",
      "\n",
      "                avg / total       0.93      0.92      0.92    175610\n",
      "\n"
     ]
    },
    {
     "name": "stderr",
     "output_type": "stream",
     "text": [
      "/usr/local/lib/python3.5/site-packages/sklearn/metrics/classification.py:1135: UndefinedMetricWarning: Precision and F-score are ill-defined and being set to 0.0 in labels with no predicted samples.\n",
      "  'precision', 'predicted', average, warn_for)\n"
     ]
    }
   ],
   "source": [
    "print(classification_report(y_test, pred_ens, target_names=sorted_names))"
   ]
  },
  {
   "cell_type": "markdown",
   "metadata": {},
   "source": [
    "Using the original GuassianNB and Random Forest classifier, along with the hyper-tuned Decision tree, the ensembling learning algorithm in which every classifier votes on each row, the accuracy score and confusion matrix are a lot better than any of my original classifiers did. However, the ensemble learning classifier did not do as good as the hyper-tuned Decision tree that attained 99% accuracy."
   ]
  }
 ],
 "metadata": {
  "kernelspec": {
   "display_name": "Python 3",
   "language": "python",
   "name": "python3"
  },
  "language_info": {
   "codemirror_mode": {
    "name": "ipython",
    "version": 3
   },
   "file_extension": ".py",
   "mimetype": "text/x-python",
   "name": "python",
   "nbconvert_exporter": "python",
   "pygments_lexer": "ipython3",
   "version": "3.5.1"
  }
 },
 "nbformat": 4,
 "nbformat_minor": 2
}
